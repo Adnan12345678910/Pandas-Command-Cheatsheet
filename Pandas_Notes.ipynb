{
 "cells": [
  {
   "cell_type": "markdown",
   "id": "ce059a79",
   "metadata": {},
   "source": [
    "# <h1><center>Data Handling using Pandas<center><h1>"
   ]
  },
  {
   "cell_type": "code",
   "execution_count": 1,
   "id": "15117358",
   "metadata": {},
   "outputs": [
    {
     "name": "stdout",
     "output_type": "stream",
     "text": [
      "Requirement already satisfied: pandas in c:\\users\\toshiba\\anaconda3\\lib\\site-packages (1.4.4)\n",
      "Requirement already satisfied: pytz>=2020.1 in c:\\users\\toshiba\\anaconda3\\lib\\site-packages (from pandas) (2022.1)\n",
      "Requirement already satisfied: python-dateutil>=2.8.1 in c:\\users\\toshiba\\anaconda3\\lib\\site-packages (from pandas) (2.8.2)\n",
      "Requirement already satisfied: numpy>=1.18.5 in c:\\users\\toshiba\\anaconda3\\lib\\site-packages (from pandas) (1.21.5)\n",
      "Requirement already satisfied: six>=1.5 in c:\\users\\toshiba\\anaconda3\\lib\\site-packages (from python-dateutil>=2.8.1->pandas) (1.16.0)\n",
      "Note: you may need to restart the kernel to use updated packages.\n"
     ]
    }
   ],
   "source": [
    "pip install pandas"
   ]
  },
  {
   "cell_type": "code",
   "execution_count": 2,
   "id": "c6bcf060",
   "metadata": {},
   "outputs": [],
   "source": [
    "import numpy as np\n",
    "import pandas as pd"
   ]
  },
  {
   "cell_type": "markdown",
   "id": "7c2564db",
   "metadata": {},
   "source": [
    "# <h1><center>Data Structure in Pandas<center><h1>"
   ]
  },
  {
   "cell_type": "markdown",
   "id": "cce01ffe",
   "metadata": {},
   "source": [
    "# <h2><center>Series<center><h2>"
   ]
  },
  {
   "cell_type": "markdown",
   "id": "485f7dc8",
   "metadata": {},
   "source": [
    "# <h2><center>A data structure is a collection of data values and operations that can be applied to that data. It enables efficient storage, retrieval and modification to the data<center><h2>"
   ]
  },
  {
   "cell_type": "markdown",
   "id": "8c027ab1",
   "metadata": {},
   "source": [
    "# <h3><center>Creation of a series<center><h3>"
   ]
  },
  {
   "cell_type": "markdown",
   "id": "a301b6a9",
   "metadata": {},
   "source": [
    "# <h3><center>Creation of series from scalar values \n",
    "<center><h3>"
   ]
  },
  {
   "cell_type": "code",
   "execution_count": 3,
   "id": "65ef3eb4",
   "metadata": {},
   "outputs": [],
   "source": [
    "pd1=pd.Series([1,2,3,4])"
   ]
  },
  {
   "cell_type": "code",
   "execution_count": 4,
   "id": "cde4589b",
   "metadata": {},
   "outputs": [
    {
     "data": {
      "text/plain": [
       "0    1\n",
       "1    2\n",
       "2    3\n",
       "3    4\n",
       "dtype: int64"
      ]
     },
     "execution_count": 4,
     "metadata": {},
     "output_type": "execute_result"
    }
   ],
   "source": [
    "pd1"
   ]
  },
  {
   "cell_type": "code",
   "execution_count": 5,
   "id": "828a488e",
   "metadata": {},
   "outputs": [],
   "source": [
    "pd2=pd.Series([4,5,6,7])"
   ]
  },
  {
   "cell_type": "code",
   "execution_count": 6,
   "id": "c3d61133",
   "metadata": {},
   "outputs": [
    {
     "data": {
      "text/plain": [
       "0    4\n",
       "1    5\n",
       "2    6\n",
       "3    7\n",
       "dtype: int64"
      ]
     },
     "execution_count": 6,
     "metadata": {},
     "output_type": "execute_result"
    }
   ],
   "source": [
    "pd2"
   ]
  },
  {
   "cell_type": "code",
   "execution_count": 7,
   "id": "cfb40364",
   "metadata": {},
   "outputs": [],
   "source": [
    "pd3=pd.Series(['Kavi','Ram','Shyam'],index=[3,5,1])"
   ]
  },
  {
   "cell_type": "code",
   "execution_count": 8,
   "id": "5dd44ac3",
   "metadata": {},
   "outputs": [
    {
     "data": {
      "text/plain": [
       "3     Kavi\n",
       "5      Ram\n",
       "1    Shyam\n",
       "dtype: object"
      ]
     },
     "execution_count": 8,
     "metadata": {},
     "output_type": "execute_result"
    }
   ],
   "source": [
    "pd3"
   ]
  },
  {
   "cell_type": "markdown",
   "id": "8c41863a",
   "metadata": {},
   "source": [
    "# <h3><center>Creation of series from numpy arrays \n",
    "<center><h3>"
   ]
  },
  {
   "cell_type": "code",
   "execution_count": 9,
   "id": "1a891b96",
   "metadata": {},
   "outputs": [],
   "source": [
    "array1=np.array([1,2,3,4])"
   ]
  },
  {
   "cell_type": "code",
   "execution_count": 10,
   "id": "a7a03caa",
   "metadata": {},
   "outputs": [],
   "source": [
    "pd4=pd.Series(array1)"
   ]
  },
  {
   "cell_type": "code",
   "execution_count": 11,
   "id": "8c80b4ee",
   "metadata": {},
   "outputs": [
    {
     "data": {
      "text/plain": [
       "0    1\n",
       "1    2\n",
       "2    3\n",
       "3    4\n",
       "dtype: int32"
      ]
     },
     "execution_count": 11,
     "metadata": {},
     "output_type": "execute_result"
    }
   ],
   "source": [
    "pd4"
   ]
  },
  {
   "cell_type": "code",
   "execution_count": 12,
   "id": "28006f3d",
   "metadata": {},
   "outputs": [],
   "source": [
    "pd5=pd.Series(array1,index=['Jan','Feb','March','April'])"
   ]
  },
  {
   "cell_type": "code",
   "execution_count": 13,
   "id": "b5772871",
   "metadata": {},
   "outputs": [
    {
     "data": {
      "text/plain": [
       "Jan      1\n",
       "Feb      2\n",
       "March    3\n",
       "April    4\n",
       "dtype: int32"
      ]
     },
     "execution_count": 13,
     "metadata": {},
     "output_type": "execute_result"
    }
   ],
   "source": [
    "pd5 "
   ]
  },
  {
   "cell_type": "markdown",
   "id": "060cc9fb",
   "metadata": {},
   "source": [
    "# <h3><center>Creation of Series from Dictionary<center><h3>"
   ]
  },
  {
   "cell_type": "code",
   "execution_count": 14,
   "id": "6f936b13",
   "metadata": {},
   "outputs": [],
   "source": [
    "dict1={'India':'New Delhi','UK':'London','Japan':'Tokyo'}"
   ]
  },
  {
   "cell_type": "code",
   "execution_count": 15,
   "id": "3ad136d7",
   "metadata": {},
   "outputs": [],
   "source": [
    "pd6=pd.Series(dict1)"
   ]
  },
  {
   "cell_type": "code",
   "execution_count": 16,
   "id": "5a064931",
   "metadata": {},
   "outputs": [
    {
     "data": {
      "text/plain": [
       "India    New Delhi\n",
       "UK          London\n",
       "Japan        Tokyo\n",
       "dtype: object"
      ]
     },
     "execution_count": 16,
     "metadata": {},
     "output_type": "execute_result"
    }
   ],
   "source": [
    "pd6"
   ]
  },
  {
   "cell_type": "markdown",
   "id": "c50bee65",
   "metadata": {},
   "source": [
    "# <h2><center>Indexing and Slicing in Series'<center><h2>"
   ]
  },
  {
   "cell_type": "code",
   "execution_count": 17,
   "id": "ffbaa334",
   "metadata": {},
   "outputs": [
    {
     "name": "stdout",
     "output_type": "stream",
     "text": [
      "pd1\n",
      "0    1\n",
      "1    2\n",
      "2    3\n",
      "3    4\n",
      "dtype: int64\n",
      "---------------------\n",
      "pd2\n",
      "0    4\n",
      "1    5\n",
      "2    6\n",
      "3    7\n",
      "dtype: int64\n",
      "---------------------\n",
      "pd3\n",
      "3     Kavi\n",
      "5      Ram\n",
      "1    Shyam\n",
      "dtype: object\n",
      "---------------------\n",
      "pd4\n",
      "0    1\n",
      "1    2\n",
      "2    3\n",
      "3    4\n",
      "dtype: int32\n",
      "---------------------\n",
      "pd5\n",
      "Jan      1\n",
      "Feb      2\n",
      "March    3\n",
      "April    4\n",
      "dtype: int32\n",
      "---------------------\n",
      "pd6\n",
      "India    New Delhi\n",
      "UK          London\n",
      "Japan        Tokyo\n",
      "dtype: object\n",
      "---------------------\n"
     ]
    }
   ],
   "source": [
    "for i in range(1,7):\n",
    "    print(f\"pd{i}\")\n",
    "    print(eval(f\"pd{i}\"))\n",
    "    print(\"---------------------\")"
   ]
  },
  {
   "cell_type": "code",
   "execution_count": 18,
   "id": "0acf1f50",
   "metadata": {},
   "outputs": [
    {
     "data": {
      "text/plain": [
       "2"
      ]
     },
     "execution_count": 18,
     "metadata": {},
     "output_type": "execute_result"
    }
   ],
   "source": [
    "pd1[1]"
   ]
  },
  {
   "cell_type": "code",
   "execution_count": 19,
   "id": "abf15533",
   "metadata": {},
   "outputs": [
    {
     "data": {
      "text/plain": [
       "7"
      ]
     },
     "execution_count": 19,
     "metadata": {},
     "output_type": "execute_result"
    }
   ],
   "source": [
    "pd2[3]"
   ]
  },
  {
   "cell_type": "code",
   "execution_count": 20,
   "id": "009b5c94",
   "metadata": {},
   "outputs": [
    {
     "data": {
      "text/plain": [
       "'Kavi'"
      ]
     },
     "execution_count": 20,
     "metadata": {},
     "output_type": "execute_result"
    }
   ],
   "source": [
    "pd3[3]"
   ]
  },
  {
   "cell_type": "code",
   "execution_count": 21,
   "id": "63b4b29a",
   "metadata": {},
   "outputs": [
    {
     "data": {
      "text/plain": [
       "1"
      ]
     },
     "execution_count": 21,
     "metadata": {},
     "output_type": "execute_result"
    }
   ],
   "source": [
    "pd5['Jan']"
   ]
  },
  {
   "cell_type": "code",
   "execution_count": 22,
   "id": "a6880165",
   "metadata": {},
   "outputs": [],
   "source": [
    "SeriesCapCntry=pd.Series(['NewDelhi','WashingtonDC','London','Paris'],index=['India','UK','USA','France'])"
   ]
  },
  {
   "cell_type": "code",
   "execution_count": 23,
   "id": "d6c1b209",
   "metadata": {},
   "outputs": [
    {
     "data": {
      "text/plain": [
       "India         NewDelhi\n",
       "UK        WashingtonDC\n",
       "USA             London\n",
       "France           Paris\n",
       "dtype: object"
      ]
     },
     "execution_count": 23,
     "metadata": {},
     "output_type": "execute_result"
    }
   ],
   "source": [
    "SeriesCapCntry"
   ]
  },
  {
   "cell_type": "code",
   "execution_count": 24,
   "id": "fb5cc9e3",
   "metadata": {},
   "outputs": [
    {
     "data": {
      "text/plain": [
       "'WashingtonDC'"
      ]
     },
     "execution_count": 24,
     "metadata": {},
     "output_type": "execute_result"
    }
   ],
   "source": [
    "SeriesCapCntry[1]"
   ]
  },
  {
   "cell_type": "code",
   "execution_count": 25,
   "id": "2e8a9953",
   "metadata": {},
   "outputs": [
    {
     "data": {
      "text/plain": [
       "'NewDelhi'"
      ]
     },
     "execution_count": 25,
     "metadata": {},
     "output_type": "execute_result"
    }
   ],
   "source": [
    "SeriesCapCntry['India']"
   ]
  },
  {
   "cell_type": "code",
   "execution_count": 26,
   "id": "067782f1",
   "metadata": {},
   "outputs": [
    {
     "data": {
      "text/plain": [
       "UK     WashingtonDC\n",
       "USA          London\n",
       "dtype: object"
      ]
     },
     "execution_count": 26,
     "metadata": {},
     "output_type": "execute_result"
    }
   ],
   "source": [
    "SeriesCapCntry[['UK','USA']]"
   ]
  },
  {
   "cell_type": "code",
   "execution_count": 27,
   "id": "23515a92",
   "metadata": {},
   "outputs": [
    {
     "data": {
      "text/plain": [
       "USA       London\n",
       "France     Paris\n",
       "dtype: object"
      ]
     },
     "execution_count": 27,
     "metadata": {},
     "output_type": "execute_result"
    }
   ],
   "source": [
    "SeriesCapCntry[[2,3]]"
   ]
  },
  {
   "cell_type": "code",
   "execution_count": 28,
   "id": "1aa4ab11",
   "metadata": {},
   "outputs": [
    {
     "data": {
      "text/plain": [
       "USA       London\n",
       "France     Paris\n",
       "dtype: object"
      ]
     },
     "execution_count": 28,
     "metadata": {},
     "output_type": "execute_result"
    }
   ],
   "source": [
    "SeriesCapCntry[2:4]"
   ]
  },
  {
   "cell_type": "code",
   "execution_count": 29,
   "id": "7e893786",
   "metadata": {},
   "outputs": [
    {
     "data": {
      "text/plain": [
       "UK        WashingtonDC\n",
       "France           Paris\n",
       "dtype: object"
      ]
     },
     "execution_count": 29,
     "metadata": {},
     "output_type": "execute_result"
    }
   ],
   "source": [
    "SeriesCapCntry[['UK','France']]"
   ]
  },
  {
   "cell_type": "code",
   "execution_count": 30,
   "id": "3be224b7",
   "metadata": {},
   "outputs": [
    {
     "data": {
      "text/plain": [
       "Index(['India', 'UK', 'USA', 'France'], dtype='object')"
      ]
     },
     "execution_count": 30,
     "metadata": {},
     "output_type": "execute_result"
    }
   ],
   "source": [
    "SeriesCapCntry.index"
   ]
  },
  {
   "cell_type": "code",
   "execution_count": 31,
   "id": "a09a30fe",
   "metadata": {},
   "outputs": [
    {
     "data": {
      "text/plain": [
       "array(['NewDelhi', 'WashingtonDC', 'London', 'Paris'], dtype=object)"
      ]
     },
     "execution_count": 31,
     "metadata": {},
     "output_type": "execute_result"
    }
   ],
   "source": [
    "SeriesCapCntry.values \n"
   ]
  },
  {
   "cell_type": "code",
   "execution_count": 32,
   "id": "a960fbac",
   "metadata": {},
   "outputs": [
    {
     "data": {
      "text/plain": [
       "UK        WashingtonDC\n",
       "USA             London\n",
       "France           Paris\n",
       "dtype: object"
      ]
     },
     "execution_count": 32,
     "metadata": {},
     "output_type": "execute_result"
    }
   ],
   "source": [
    "SeriesCapCntry[1:4]"
   ]
  },
  {
   "cell_type": "code",
   "execution_count": 33,
   "id": "6de8543f",
   "metadata": {},
   "outputs": [
    {
     "data": {
      "text/plain": [
       "India        NewDelhi\n",
       "UK       WashingtonDC\n",
       "USA            London\n",
       "dtype: object"
      ]
     },
     "execution_count": 33,
     "metadata": {},
     "output_type": "execute_result"
    }
   ],
   "source": [
    "SeriesCapCntry['India':'USA']"
   ]
  },
  {
   "cell_type": "code",
   "execution_count": 34,
   "id": "1507d4dc",
   "metadata": {},
   "outputs": [
    {
     "data": {
      "text/plain": [
       "3    4\n",
       "2    3\n",
       "1    2\n",
       "0    1\n",
       "dtype: int64"
      ]
     },
     "execution_count": 34,
     "metadata": {},
     "output_type": "execute_result"
    }
   ],
   "source": [
    "pd1[::-1]"
   ]
  },
  {
   "cell_type": "code",
   "execution_count": 35,
   "id": "e9e26920",
   "metadata": {},
   "outputs": [],
   "source": [
    "SeriesAlph=pd.Series(np.arange(10,16,1),index=['a','b','c','d','e','f'])"
   ]
  },
  {
   "cell_type": "code",
   "execution_count": 36,
   "id": "f1f3fcef",
   "metadata": {},
   "outputs": [
    {
     "data": {
      "text/plain": [
       "a    10\n",
       "b    11\n",
       "c    12\n",
       "d    13\n",
       "e    14\n",
       "f    15\n",
       "dtype: int32"
      ]
     },
     "execution_count": 36,
     "metadata": {},
     "output_type": "execute_result"
    }
   ],
   "source": [
    "SeriesAlph"
   ]
  },
  {
   "cell_type": "code",
   "execution_count": 37,
   "id": "1470243a",
   "metadata": {},
   "outputs": [
    {
     "data": {
      "text/plain": [
       "b    11\n",
       "c    12\n",
       "dtype: int32"
      ]
     },
     "execution_count": 37,
     "metadata": {},
     "output_type": "execute_result"
    }
   ],
   "source": [
    "SeriesAlph[1:3]"
   ]
  },
  {
   "cell_type": "code",
   "execution_count": 38,
   "id": "6dd9f030",
   "metadata": {},
   "outputs": [],
   "source": [
    "SeriesAlph[1:3]=4"
   ]
  },
  {
   "cell_type": "code",
   "execution_count": 39,
   "id": "9123b4b4",
   "metadata": {},
   "outputs": [
    {
     "data": {
      "text/plain": [
       "a    10\n",
       "b     4\n",
       "c     4\n",
       "d    13\n",
       "e    14\n",
       "f    15\n",
       "dtype: int32"
      ]
     },
     "execution_count": 39,
     "metadata": {},
     "output_type": "execute_result"
    }
   ],
   "source": [
    "SeriesAlph"
   ]
  },
  {
   "cell_type": "markdown",
   "id": "599d3af6",
   "metadata": {},
   "source": [
    "# <h2><center>Attributes of a Series<center><h2>"
   ]
  },
  {
   "cell_type": "code",
   "execution_count": 40,
   "id": "cfb9127f",
   "metadata": {},
   "outputs": [],
   "source": [
    "SeriesCapCntry.name='Capitals'"
   ]
  },
  {
   "cell_type": "code",
   "execution_count": 41,
   "id": "9f6fee2b",
   "metadata": {},
   "outputs": [
    {
     "data": {
      "text/plain": [
       "India         NewDelhi\n",
       "UK        WashingtonDC\n",
       "USA             London\n",
       "France           Paris\n",
       "Name: Capitals, dtype: object"
      ]
     },
     "execution_count": 41,
     "metadata": {},
     "output_type": "execute_result"
    }
   ],
   "source": [
    "SeriesCapCntry"
   ]
  },
  {
   "cell_type": "code",
   "execution_count": 42,
   "id": "f9e202a0",
   "metadata": {},
   "outputs": [],
   "source": [
    "SeriesCapCntry.index.name='Countries'"
   ]
  },
  {
   "cell_type": "code",
   "execution_count": 43,
   "id": "8881ef46",
   "metadata": {},
   "outputs": [
    {
     "data": {
      "text/plain": [
       "Countries\n",
       "India         NewDelhi\n",
       "UK        WashingtonDC\n",
       "USA             London\n",
       "France           Paris\n",
       "Name: Capitals, dtype: object"
      ]
     },
     "execution_count": 43,
     "metadata": {},
     "output_type": "execute_result"
    }
   ],
   "source": [
    "SeriesCapCntry "
   ]
  },
  {
   "cell_type": "code",
   "execution_count": 44,
   "id": "4c70c88d",
   "metadata": {},
   "outputs": [
    {
     "name": "stdout",
     "output_type": "stream",
     "text": [
      "The values and size of series pd1 are [1 2 3 4] and 4 respectively\n",
      "The values and size of series pd2 are [4 5 6 7] and 4 respectively\n",
      "The values and size of series pd3 are ['Kavi' 'Ram' 'Shyam'] and 3 respectively\n",
      "The values and size of series pd4 are [1 2 3 4] and 4 respectively\n",
      "The values and size of series pd5 are [1 2 3 4] and 4 respectively\n",
      "The values and size of series pd6 are ['New Delhi' 'London' 'Tokyo'] and 3 respectively\n"
     ]
    }
   ],
   "source": [
    "for i in range(1,7):\n",
    "    print(f'The values and size of series pd{i} are',eval(f\"pd{i}.values\"),\"and\",eval(f\"pd{i}.size\"),'respectively')"
   ]
  },
  {
   "cell_type": "code",
   "execution_count": 45,
   "id": "c956a0e0",
   "metadata": {},
   "outputs": [
    {
     "data": {
      "text/plain": [
       "False"
      ]
     },
     "execution_count": 45,
     "metadata": {},
     "output_type": "execute_result"
    }
   ],
   "source": [
    "pd1.empty"
   ]
  },
  {
   "cell_type": "markdown",
   "id": "9682e9db",
   "metadata": {},
   "source": [
    "# <h3><center>Methods of a Series<center><h3>"
   ]
  },
  {
   "cell_type": "code",
   "execution_count": 46,
   "id": "28c77394",
   "metadata": {},
   "outputs": [],
   "source": [
    "SeriesTenTwenty=pd.Series(np.arange(10,20,1))"
   ]
  },
  {
   "cell_type": "code",
   "execution_count": 47,
   "id": "ee1f050c",
   "metadata": {},
   "outputs": [
    {
     "data": {
      "text/plain": [
       "0    10\n",
       "1    11\n",
       "2    12\n",
       "3    13\n",
       "4    14\n",
       "5    15\n",
       "6    16\n",
       "7    17\n",
       "8    18\n",
       "9    19\n",
       "dtype: int32"
      ]
     },
     "execution_count": 47,
     "metadata": {},
     "output_type": "execute_result"
    }
   ],
   "source": [
    "SeriesTenTwenty"
   ]
  },
  {
   "cell_type": "code",
   "execution_count": 48,
   "id": "d5b43326",
   "metadata": {},
   "outputs": [
    {
     "data": {
      "text/plain": [
       "0    10\n",
       "1    11\n",
       "2    12\n",
       "3    13\n",
       "4    14\n",
       "dtype: int32"
      ]
     },
     "execution_count": 48,
     "metadata": {},
     "output_type": "execute_result"
    }
   ],
   "source": [
    "SeriesTenTwenty.head(5)"
   ]
  },
  {
   "cell_type": "code",
   "execution_count": 49,
   "id": "3e079e18",
   "metadata": {},
   "outputs": [
    {
     "data": {
      "text/plain": [
       "5    15\n",
       "6    16\n",
       "7    17\n",
       "8    18\n",
       "9    19\n",
       "dtype: int32"
      ]
     },
     "execution_count": 49,
     "metadata": {},
     "output_type": "execute_result"
    }
   ],
   "source": [
    "SeriesTenTwenty.tail(5)"
   ]
  },
  {
   "cell_type": "code",
   "execution_count": 50,
   "id": "8f81ac60",
   "metadata": {},
   "outputs": [
    {
     "data": {
      "text/plain": [
       "10"
      ]
     },
     "execution_count": 50,
     "metadata": {},
     "output_type": "execute_result"
    }
   ],
   "source": [
    "SeriesTenTwenty.count()"
   ]
  },
  {
   "cell_type": "markdown",
   "id": "cdfdfc0c",
   "metadata": {},
   "source": [
    "# <h3><center>Mathematical Operations on Series<center><h3>"
   ]
  },
  {
   "cell_type": "code",
   "execution_count": 51,
   "id": "4e97c017",
   "metadata": {},
   "outputs": [],
   "source": [
    "SeriesA=pd.Series([1,2,3,4,5],index=['a','b','c','d','e'])"
   ]
  },
  {
   "cell_type": "code",
   "execution_count": 52,
   "id": "973ebd6a",
   "metadata": {},
   "outputs": [
    {
     "data": {
      "text/plain": [
       "a    1\n",
       "b    2\n",
       "c    3\n",
       "d    4\n",
       "e    5\n",
       "dtype: int64"
      ]
     },
     "execution_count": 52,
     "metadata": {},
     "output_type": "execute_result"
    }
   ],
   "source": [
    "SeriesA"
   ]
  },
  {
   "cell_type": "code",
   "execution_count": 53,
   "id": "d63dc439",
   "metadata": {},
   "outputs": [],
   "source": [
    "SeriesB=pd.Series([-10,20,23,-90,88],index=['z','y','a','b','c'])"
   ]
  },
  {
   "cell_type": "code",
   "execution_count": 54,
   "id": "b53752da",
   "metadata": {},
   "outputs": [
    {
     "data": {
      "text/plain": [
       "a    24.0\n",
       "b   -88.0\n",
       "c    91.0\n",
       "d     NaN\n",
       "e     NaN\n",
       "y     NaN\n",
       "z     NaN\n",
       "dtype: float64"
      ]
     },
     "execution_count": 54,
     "metadata": {},
     "output_type": "execute_result"
    }
   ],
   "source": [
    "SeriesA+SeriesB"
   ]
  },
  {
   "cell_type": "code",
   "execution_count": 55,
   "id": "46c3658c",
   "metadata": {},
   "outputs": [
    {
     "data": {
      "text/plain": [
       "a   -22.0\n",
       "b    92.0\n",
       "c   -85.0\n",
       "d     NaN\n",
       "e     NaN\n",
       "y     NaN\n",
       "z     NaN\n",
       "dtype: float64"
      ]
     },
     "execution_count": 55,
     "metadata": {},
     "output_type": "execute_result"
    }
   ],
   "source": [
    "SeriesA-SeriesB"
   ]
  },
  {
   "cell_type": "code",
   "execution_count": 56,
   "id": "b6aa105f",
   "metadata": {},
   "outputs": [
    {
     "data": {
      "text/plain": [
       "a     23.0\n",
       "b   -180.0\n",
       "c    264.0\n",
       "d      NaN\n",
       "e      NaN\n",
       "y      NaN\n",
       "z      NaN\n",
       "dtype: float64"
      ]
     },
     "execution_count": 56,
     "metadata": {},
     "output_type": "execute_result"
    }
   ],
   "source": [
    "SeriesA*SeriesB"
   ]
  },
  {
   "cell_type": "code",
   "execution_count": 57,
   "id": "e95e87e3",
   "metadata": {},
   "outputs": [
    {
     "data": {
      "text/plain": [
       "a    0.043478\n",
       "b   -0.022222\n",
       "c    0.034091\n",
       "d         NaN\n",
       "e         NaN\n",
       "y         NaN\n",
       "z         NaN\n",
       "dtype: float64"
      ]
     },
     "execution_count": 57,
     "metadata": {},
     "output_type": "execute_result"
    }
   ],
   "source": [
    "SeriesA/SeriesB"
   ]
  },
  {
   "cell_type": "code",
   "execution_count": 58,
   "id": "2dc1226c",
   "metadata": {},
   "outputs": [
    {
     "data": {
      "text/plain": [
       "a      24.0\n",
       "b     -88.0\n",
       "c      91.0\n",
       "d    1004.0\n",
       "e    1005.0\n",
       "y    1020.0\n",
       "z     990.0\n",
       "dtype: float64"
      ]
     },
     "execution_count": 58,
     "metadata": {},
     "output_type": "execute_result"
    }
   ],
   "source": [
    "SeriesA.add(SeriesB,fill_value=1000)"
   ]
  },
  {
   "cell_type": "code",
   "execution_count": 59,
   "id": "5ee5d42f",
   "metadata": {},
   "outputs": [
    {
     "data": {
      "text/plain": [
       "a   -22.0\n",
       "b    92.0\n",
       "c   -85.0\n",
       "d     4.0\n",
       "e     5.0\n",
       "y   -20.0\n",
       "z    10.0\n",
       "dtype: float64"
      ]
     },
     "execution_count": 59,
     "metadata": {},
     "output_type": "execute_result"
    }
   ],
   "source": [
    "SeriesA.sub(SeriesB,fill_value=0)"
   ]
  },
  {
   "cell_type": "code",
   "execution_count": 60,
   "id": "cd1e4065",
   "metadata": {},
   "outputs": [
    {
     "data": {
      "text/plain": [
       "a     23.0\n",
       "b   -180.0\n",
       "c    264.0\n",
       "d     76.0\n",
       "e     95.0\n",
       "y    380.0\n",
       "z   -190.0\n",
       "dtype: float64"
      ]
     },
     "execution_count": 60,
     "metadata": {},
     "output_type": "execute_result"
    }
   ],
   "source": [
    "SeriesA.mul(SeriesB,fill_value=19)"
   ]
  },
  {
   "cell_type": "code",
   "execution_count": 61,
   "id": "4a312213",
   "metadata": {},
   "outputs": [
    {
     "data": {
      "text/plain": [
       "a    0.043478\n",
       "b   -0.022222\n",
       "c    0.034091\n",
       "d         inf\n",
       "e         inf\n",
       "y    0.000000\n",
       "z   -0.000000\n",
       "dtype: float64"
      ]
     },
     "execution_count": 61,
     "metadata": {},
     "output_type": "execute_result"
    }
   ],
   "source": [
    "SeriesA.div(SeriesB,fill_value=0)"
   ]
  },
  {
   "cell_type": "code",
   "execution_count": 62,
   "id": "1bbc2a61",
   "metadata": {},
   "outputs": [
    {
     "data": {
      "text/plain": [
       "a     -22.0\n",
       "b      92.0\n",
       "c     -85.0\n",
       "d    -996.0\n",
       "e    -995.0\n",
       "y     980.0\n",
       "z    1010.0\n",
       "dtype: float64"
      ]
     },
     "execution_count": 62,
     "metadata": {},
     "output_type": "execute_result"
    }
   ],
   "source": [
    "SeriesA.sub(SeriesB,fill_value=1000)"
   ]
  },
  {
   "cell_type": "code",
   "execution_count": 63,
   "id": "c82dd0ed",
   "metadata": {},
   "outputs": [
    {
     "data": {
      "text/plain": [
       "a     23.0\n",
       "b   -180.0\n",
       "c    264.0\n",
       "d     40.0\n",
       "e     50.0\n",
       "y    200.0\n",
       "z   -100.0\n",
       "dtype: float64"
      ]
     },
     "execution_count": 63,
     "metadata": {},
     "output_type": "execute_result"
    }
   ],
   "source": [
    "SeriesA.mul(SeriesB,fill_value=10)"
   ]
  },
  {
   "cell_type": "markdown",
   "id": "7cc5ef6a",
   "metadata": {},
   "source": [
    "# <h2><center>Data Frames<center><h2>"
   ]
  },
  {
   "cell_type": "markdown",
   "id": "54e44127",
   "metadata": {},
   "source": [
    "# <h3><center>A DataFrame is a two-dimensional labelled data structure like a table of MySQL. It contains rows and columns, and therefore has both a row and column index. Each column can have a different type of value such as numeric, string, boolean, etc., as in tables of a database<center><h3>"
   ]
  },
  {
   "cell_type": "markdown",
   "id": "cdbe7a57",
   "metadata": {},
   "source": [
    "# <h3><center>Creation of DataFrame<center><h3>"
   ]
  },
  {
   "cell_type": "markdown",
   "id": "8a0d160f",
   "metadata": {},
   "source": [
    "# <h3><center> Creation of an empty DataFrame<center><h3>"
   ]
  },
  {
   "cell_type": "code",
   "execution_count": 64,
   "id": "c0a001a1",
   "metadata": {},
   "outputs": [],
   "source": [
    "dFrameEp=pd.DataFrame()"
   ]
  },
  {
   "cell_type": "code",
   "execution_count": 65,
   "id": "04f1bc50",
   "metadata": {},
   "outputs": [
    {
     "data": {
      "text/html": [
       "<div>\n",
       "<style scoped>\n",
       "    .dataframe tbody tr th:only-of-type {\n",
       "        vertical-align: middle;\n",
       "    }\n",
       "\n",
       "    .dataframe tbody tr th {\n",
       "        vertical-align: top;\n",
       "    }\n",
       "\n",
       "    .dataframe thead th {\n",
       "        text-align: right;\n",
       "    }\n",
       "</style>\n",
       "<table border=\"1\" class=\"dataframe\">\n",
       "  <thead>\n",
       "    <tr style=\"text-align: right;\">\n",
       "      <th></th>\n",
       "    </tr>\n",
       "  </thead>\n",
       "  <tbody>\n",
       "  </tbody>\n",
       "</table>\n",
       "</div>"
      ],
      "text/plain": [
       "Empty DataFrame\n",
       "Columns: []\n",
       "Index: []"
      ]
     },
     "execution_count": 65,
     "metadata": {},
     "output_type": "execute_result"
    }
   ],
   "source": [
    "dFrameEp"
   ]
  },
  {
   "cell_type": "code",
   "execution_count": 66,
   "id": "35319824",
   "metadata": {},
   "outputs": [
    {
     "data": {
      "text/plain": [
       "pandas.core.frame.DataFrame"
      ]
     },
     "execution_count": 66,
     "metadata": {},
     "output_type": "execute_result"
    }
   ],
   "source": [
    "type(dFrameEp)"
   ]
  },
  {
   "cell_type": "markdown",
   "id": "b5ae0ff4",
   "metadata": {},
   "source": [
    "# <h3><center>Creation of DataFrame from NumPy ndarrays<center><h3>"
   ]
  },
  {
   "cell_type": "code",
   "execution_count": 67,
   "id": "16ab4189",
   "metadata": {},
   "outputs": [
    {
     "data": {
      "text/plain": [
       "array([1, 2, 3, 4])"
      ]
     },
     "execution_count": 67,
     "metadata": {},
     "output_type": "execute_result"
    }
   ],
   "source": [
    "array1"
   ]
  },
  {
   "cell_type": "code",
   "execution_count": 68,
   "id": "cf86530e",
   "metadata": {},
   "outputs": [],
   "source": [
    "array2=np.array([3,4,5,6])\n",
    "array3=np.array([4,6,8,10])"
   ]
  },
  {
   "cell_type": "code",
   "execution_count": 69,
   "id": "28ddfda2",
   "metadata": {},
   "outputs": [],
   "source": [
    "pd7=pd.DataFrame(array1)"
   ]
  },
  {
   "cell_type": "code",
   "execution_count": 70,
   "id": "0f6c9d25",
   "metadata": {},
   "outputs": [
    {
     "data": {
      "text/html": [
       "<div>\n",
       "<style scoped>\n",
       "    .dataframe tbody tr th:only-of-type {\n",
       "        vertical-align: middle;\n",
       "    }\n",
       "\n",
       "    .dataframe tbody tr th {\n",
       "        vertical-align: top;\n",
       "    }\n",
       "\n",
       "    .dataframe thead th {\n",
       "        text-align: right;\n",
       "    }\n",
       "</style>\n",
       "<table border=\"1\" class=\"dataframe\">\n",
       "  <thead>\n",
       "    <tr style=\"text-align: right;\">\n",
       "      <th></th>\n",
       "      <th>0</th>\n",
       "    </tr>\n",
       "  </thead>\n",
       "  <tbody>\n",
       "    <tr>\n",
       "      <th>0</th>\n",
       "      <td>1</td>\n",
       "    </tr>\n",
       "    <tr>\n",
       "      <th>1</th>\n",
       "      <td>2</td>\n",
       "    </tr>\n",
       "    <tr>\n",
       "      <th>2</th>\n",
       "      <td>3</td>\n",
       "    </tr>\n",
       "    <tr>\n",
       "      <th>3</th>\n",
       "      <td>4</td>\n",
       "    </tr>\n",
       "  </tbody>\n",
       "</table>\n",
       "</div>"
      ],
      "text/plain": [
       "   0\n",
       "0  1\n",
       "1  2\n",
       "2  3\n",
       "3  4"
      ]
     },
     "execution_count": 70,
     "metadata": {},
     "output_type": "execute_result"
    }
   ],
   "source": [
    "pd7 \n",
    " "
   ]
  },
  {
   "cell_type": "code",
   "execution_count": 71,
   "id": "c40fe124",
   "metadata": {},
   "outputs": [],
   "source": [
    "pd8=pd.DataFrame([array1,array2,array3])"
   ]
  },
  {
   "cell_type": "code",
   "execution_count": 72,
   "id": "1677e098",
   "metadata": {},
   "outputs": [
    {
     "data": {
      "text/html": [
       "<div>\n",
       "<style scoped>\n",
       "    .dataframe tbody tr th:only-of-type {\n",
       "        vertical-align: middle;\n",
       "    }\n",
       "\n",
       "    .dataframe tbody tr th {\n",
       "        vertical-align: top;\n",
       "    }\n",
       "\n",
       "    .dataframe thead th {\n",
       "        text-align: right;\n",
       "    }\n",
       "</style>\n",
       "<table border=\"1\" class=\"dataframe\">\n",
       "  <thead>\n",
       "    <tr style=\"text-align: right;\">\n",
       "      <th></th>\n",
       "      <th>0</th>\n",
       "      <th>1</th>\n",
       "      <th>2</th>\n",
       "      <th>3</th>\n",
       "    </tr>\n",
       "  </thead>\n",
       "  <tbody>\n",
       "    <tr>\n",
       "      <th>0</th>\n",
       "      <td>1</td>\n",
       "      <td>2</td>\n",
       "      <td>3</td>\n",
       "      <td>4</td>\n",
       "    </tr>\n",
       "    <tr>\n",
       "      <th>1</th>\n",
       "      <td>3</td>\n",
       "      <td>4</td>\n",
       "      <td>5</td>\n",
       "      <td>6</td>\n",
       "    </tr>\n",
       "    <tr>\n",
       "      <th>2</th>\n",
       "      <td>4</td>\n",
       "      <td>6</td>\n",
       "      <td>8</td>\n",
       "      <td>10</td>\n",
       "    </tr>\n",
       "  </tbody>\n",
       "</table>\n",
       "</div>"
      ],
      "text/plain": [
       "   0  1  2   3\n",
       "0  1  2  3   4\n",
       "1  3  4  5   6\n",
       "2  4  6  8  10"
      ]
     },
     "execution_count": 72,
     "metadata": {},
     "output_type": "execute_result"
    }
   ],
   "source": [
    "pd8"
   ]
  },
  {
   "cell_type": "code",
   "execution_count": 73,
   "id": "fb7706ba",
   "metadata": {},
   "outputs": [],
   "source": [
    "pd9=pd.DataFrame([array1,array2,array3],columns=['A','B','C','D'])"
   ]
  },
  {
   "cell_type": "code",
   "execution_count": 74,
   "id": "32022251",
   "metadata": {},
   "outputs": [
    {
     "data": {
      "text/html": [
       "<div>\n",
       "<style scoped>\n",
       "    .dataframe tbody tr th:only-of-type {\n",
       "        vertical-align: middle;\n",
       "    }\n",
       "\n",
       "    .dataframe tbody tr th {\n",
       "        vertical-align: top;\n",
       "    }\n",
       "\n",
       "    .dataframe thead th {\n",
       "        text-align: right;\n",
       "    }\n",
       "</style>\n",
       "<table border=\"1\" class=\"dataframe\">\n",
       "  <thead>\n",
       "    <tr style=\"text-align: right;\">\n",
       "      <th></th>\n",
       "      <th>A</th>\n",
       "      <th>B</th>\n",
       "      <th>C</th>\n",
       "      <th>D</th>\n",
       "    </tr>\n",
       "  </thead>\n",
       "  <tbody>\n",
       "    <tr>\n",
       "      <th>0</th>\n",
       "      <td>1</td>\n",
       "      <td>2</td>\n",
       "      <td>3</td>\n",
       "      <td>4</td>\n",
       "    </tr>\n",
       "    <tr>\n",
       "      <th>1</th>\n",
       "      <td>3</td>\n",
       "      <td>4</td>\n",
       "      <td>5</td>\n",
       "      <td>6</td>\n",
       "    </tr>\n",
       "    <tr>\n",
       "      <th>2</th>\n",
       "      <td>4</td>\n",
       "      <td>6</td>\n",
       "      <td>8</td>\n",
       "      <td>10</td>\n",
       "    </tr>\n",
       "  </tbody>\n",
       "</table>\n",
       "</div>"
      ],
      "text/plain": [
       "   A  B  C   D\n",
       "0  1  2  3   4\n",
       "1  3  4  5   6\n",
       "2  4  6  8  10"
      ]
     },
     "execution_count": 74,
     "metadata": {},
     "output_type": "execute_result"
    }
   ],
   "source": [
    "pd9"
   ]
  },
  {
   "cell_type": "markdown",
   "id": "72f3d08a",
   "metadata": {},
   "source": [
    "# <h3><center>Creation of DataFrame from List of Dictionaries<center><h3>"
   ]
  },
  {
   "cell_type": "code",
   "execution_count": 75,
   "id": "7203fa60",
   "metadata": {},
   "outputs": [],
   "source": [
    "listDict=[{'a':1,'b':2},{'a':6,'b':8}]"
   ]
  },
  {
   "cell_type": "code",
   "execution_count": 76,
   "id": "28337ea8",
   "metadata": {},
   "outputs": [],
   "source": [
    "pd10=pd.DataFrame(listDict)"
   ]
  },
  {
   "cell_type": "code",
   "execution_count": 77,
   "id": "948a74cd",
   "metadata": {},
   "outputs": [
    {
     "data": {
      "text/html": [
       "<div>\n",
       "<style scoped>\n",
       "    .dataframe tbody tr th:only-of-type {\n",
       "        vertical-align: middle;\n",
       "    }\n",
       "\n",
       "    .dataframe tbody tr th {\n",
       "        vertical-align: top;\n",
       "    }\n",
       "\n",
       "    .dataframe thead th {\n",
       "        text-align: right;\n",
       "    }\n",
       "</style>\n",
       "<table border=\"1\" class=\"dataframe\">\n",
       "  <thead>\n",
       "    <tr style=\"text-align: right;\">\n",
       "      <th></th>\n",
       "      <th>a</th>\n",
       "      <th>b</th>\n",
       "    </tr>\n",
       "  </thead>\n",
       "  <tbody>\n",
       "    <tr>\n",
       "      <th>0</th>\n",
       "      <td>1</td>\n",
       "      <td>2</td>\n",
       "    </tr>\n",
       "    <tr>\n",
       "      <th>1</th>\n",
       "      <td>6</td>\n",
       "      <td>8</td>\n",
       "    </tr>\n",
       "  </tbody>\n",
       "</table>\n",
       "</div>"
      ],
      "text/plain": [
       "   a  b\n",
       "0  1  2\n",
       "1  6  8"
      ]
     },
     "execution_count": 77,
     "metadata": {},
     "output_type": "execute_result"
    }
   ],
   "source": [
    "pd10"
   ]
  },
  {
   "cell_type": "code",
   "execution_count": 78,
   "id": "48cf38c5",
   "metadata": {},
   "outputs": [],
   "source": [
    "listDict1=[{'a':1,'b':2},{'a':6,'b':8,'c':9}]"
   ]
  },
  {
   "cell_type": "code",
   "execution_count": 79,
   "id": "e93970e5",
   "metadata": {},
   "outputs": [],
   "source": [
    "pd11=pd.DataFrame(listDict1)"
   ]
  },
  {
   "cell_type": "code",
   "execution_count": 80,
   "id": "e1deac69",
   "metadata": {},
   "outputs": [
    {
     "data": {
      "text/html": [
       "<div>\n",
       "<style scoped>\n",
       "    .dataframe tbody tr th:only-of-type {\n",
       "        vertical-align: middle;\n",
       "    }\n",
       "\n",
       "    .dataframe tbody tr th {\n",
       "        vertical-align: top;\n",
       "    }\n",
       "\n",
       "    .dataframe thead th {\n",
       "        text-align: right;\n",
       "    }\n",
       "</style>\n",
       "<table border=\"1\" class=\"dataframe\">\n",
       "  <thead>\n",
       "    <tr style=\"text-align: right;\">\n",
       "      <th></th>\n",
       "      <th>a</th>\n",
       "      <th>b</th>\n",
       "      <th>c</th>\n",
       "    </tr>\n",
       "  </thead>\n",
       "  <tbody>\n",
       "    <tr>\n",
       "      <th>0</th>\n",
       "      <td>1</td>\n",
       "      <td>2</td>\n",
       "      <td>NaN</td>\n",
       "    </tr>\n",
       "    <tr>\n",
       "      <th>1</th>\n",
       "      <td>6</td>\n",
       "      <td>8</td>\n",
       "      <td>9.0</td>\n",
       "    </tr>\n",
       "  </tbody>\n",
       "</table>\n",
       "</div>"
      ],
      "text/plain": [
       "   a  b    c\n",
       "0  1  2  NaN\n",
       "1  6  8  9.0"
      ]
     },
     "execution_count": 80,
     "metadata": {},
     "output_type": "execute_result"
    }
   ],
   "source": [
    "pd11"
   ]
  },
  {
   "cell_type": "markdown",
   "id": "ad3d63ae",
   "metadata": {},
   "source": [
    "# <h3><center>Creation of DataFrame from Dictionary of Lists<center><h3>"
   ]
  },
  {
   "cell_type": "code",
   "execution_count": 81,
   "id": "d62020ef",
   "metadata": {},
   "outputs": [],
   "source": [
    "Dictlist={'State':[\"Assam\",'Delhi','Kerela'],'GeoArea':[2789,3124,4324],'VDF':[7.14,3.76,1.19]}"
   ]
  },
  {
   "cell_type": "code",
   "execution_count": 82,
   "id": "d432bea0",
   "metadata": {},
   "outputs": [],
   "source": [
    "pd12=pd.DataFrame(Dictlist)"
   ]
  },
  {
   "cell_type": "code",
   "execution_count": 83,
   "id": "439015ea",
   "metadata": {},
   "outputs": [
    {
     "data": {
      "text/html": [
       "<div>\n",
       "<style scoped>\n",
       "    .dataframe tbody tr th:only-of-type {\n",
       "        vertical-align: middle;\n",
       "    }\n",
       "\n",
       "    .dataframe tbody tr th {\n",
       "        vertical-align: top;\n",
       "    }\n",
       "\n",
       "    .dataframe thead th {\n",
       "        text-align: right;\n",
       "    }\n",
       "</style>\n",
       "<table border=\"1\" class=\"dataframe\">\n",
       "  <thead>\n",
       "    <tr style=\"text-align: right;\">\n",
       "      <th></th>\n",
       "      <th>State</th>\n",
       "      <th>GeoArea</th>\n",
       "      <th>VDF</th>\n",
       "    </tr>\n",
       "  </thead>\n",
       "  <tbody>\n",
       "    <tr>\n",
       "      <th>0</th>\n",
       "      <td>Assam</td>\n",
       "      <td>2789</td>\n",
       "      <td>7.14</td>\n",
       "    </tr>\n",
       "    <tr>\n",
       "      <th>1</th>\n",
       "      <td>Delhi</td>\n",
       "      <td>3124</td>\n",
       "      <td>3.76</td>\n",
       "    </tr>\n",
       "    <tr>\n",
       "      <th>2</th>\n",
       "      <td>Kerela</td>\n",
       "      <td>4324</td>\n",
       "      <td>1.19</td>\n",
       "    </tr>\n",
       "  </tbody>\n",
       "</table>\n",
       "</div>"
      ],
      "text/plain": [
       "    State  GeoArea   VDF\n",
       "0   Assam     2789  7.14\n",
       "1   Delhi     3124  3.76\n",
       "2  Kerela     4324  1.19"
      ]
     },
     "execution_count": 83,
     "metadata": {},
     "output_type": "execute_result"
    }
   ],
   "source": [
    "pd12"
   ]
  },
  {
   "cell_type": "code",
   "execution_count": 84,
   "id": "d2d32a05",
   "metadata": {},
   "outputs": [],
   "source": [
    "Dictlist={'State':[\"Assam\",'Delhi','Kerela'],'GeoArea':[2789,3124,4324],'VDF':[7.14,3.76,1.19]}\n",
    "pd13=pd.DataFrame(Dictlist,columns=['State','VDF','GeoArea'])"
   ]
  },
  {
   "cell_type": "code",
   "execution_count": 85,
   "id": "8cd8c65a",
   "metadata": {},
   "outputs": [
    {
     "data": {
      "text/html": [
       "<div>\n",
       "<style scoped>\n",
       "    .dataframe tbody tr th:only-of-type {\n",
       "        vertical-align: middle;\n",
       "    }\n",
       "\n",
       "    .dataframe tbody tr th {\n",
       "        vertical-align: top;\n",
       "    }\n",
       "\n",
       "    .dataframe thead th {\n",
       "        text-align: right;\n",
       "    }\n",
       "</style>\n",
       "<table border=\"1\" class=\"dataframe\">\n",
       "  <thead>\n",
       "    <tr style=\"text-align: right;\">\n",
       "      <th></th>\n",
       "      <th>State</th>\n",
       "      <th>VDF</th>\n",
       "      <th>GeoArea</th>\n",
       "    </tr>\n",
       "  </thead>\n",
       "  <tbody>\n",
       "    <tr>\n",
       "      <th>0</th>\n",
       "      <td>Assam</td>\n",
       "      <td>7.14</td>\n",
       "      <td>2789</td>\n",
       "    </tr>\n",
       "    <tr>\n",
       "      <th>1</th>\n",
       "      <td>Delhi</td>\n",
       "      <td>3.76</td>\n",
       "      <td>3124</td>\n",
       "    </tr>\n",
       "    <tr>\n",
       "      <th>2</th>\n",
       "      <td>Kerela</td>\n",
       "      <td>1.19</td>\n",
       "      <td>4324</td>\n",
       "    </tr>\n",
       "  </tbody>\n",
       "</table>\n",
       "</div>"
      ],
      "text/plain": [
       "    State   VDF  GeoArea\n",
       "0   Assam  7.14     2789\n",
       "1   Delhi  3.76     3124\n",
       "2  Kerela  1.19     4324"
      ]
     },
     "execution_count": 85,
     "metadata": {},
     "output_type": "execute_result"
    }
   ],
   "source": [
    "pd13"
   ]
  },
  {
   "cell_type": "markdown",
   "id": "9123abbc",
   "metadata": {},
   "source": [
    "# <h3><center>Creation of DataFrame from Series<center><h2>"
   ]
  },
  {
   "cell_type": "code",
   "execution_count": 86,
   "id": "101f12a8",
   "metadata": {},
   "outputs": [],
   "source": [
    "s1=pd.Series([4,3,4,5,5],index=['a','b','c','d','e'])"
   ]
  },
  {
   "cell_type": "code",
   "execution_count": 87,
   "id": "636b70df",
   "metadata": {},
   "outputs": [],
   "source": [
    "s2=pd.Series([2,4,6,2,7],index=['x','y','z','a','b'])"
   ]
  },
  {
   "cell_type": "code",
   "execution_count": 88,
   "id": "f9bc250c",
   "metadata": {},
   "outputs": [],
   "source": [
    "pd13=pd.DataFrame([s1,s2])"
   ]
  },
  {
   "cell_type": "code",
   "execution_count": 89,
   "id": "3077fbd0",
   "metadata": {},
   "outputs": [
    {
     "data": {
      "text/html": [
       "<div>\n",
       "<style scoped>\n",
       "    .dataframe tbody tr th:only-of-type {\n",
       "        vertical-align: middle;\n",
       "    }\n",
       "\n",
       "    .dataframe tbody tr th {\n",
       "        vertical-align: top;\n",
       "    }\n",
       "\n",
       "    .dataframe thead th {\n",
       "        text-align: right;\n",
       "    }\n",
       "</style>\n",
       "<table border=\"1\" class=\"dataframe\">\n",
       "  <thead>\n",
       "    <tr style=\"text-align: right;\">\n",
       "      <th></th>\n",
       "      <th>a</th>\n",
       "      <th>b</th>\n",
       "      <th>c</th>\n",
       "      <th>d</th>\n",
       "      <th>e</th>\n",
       "      <th>x</th>\n",
       "      <th>y</th>\n",
       "      <th>z</th>\n",
       "    </tr>\n",
       "  </thead>\n",
       "  <tbody>\n",
       "    <tr>\n",
       "      <th>0</th>\n",
       "      <td>4.0</td>\n",
       "      <td>3.0</td>\n",
       "      <td>4.0</td>\n",
       "      <td>5.0</td>\n",
       "      <td>5.0</td>\n",
       "      <td>NaN</td>\n",
       "      <td>NaN</td>\n",
       "      <td>NaN</td>\n",
       "    </tr>\n",
       "    <tr>\n",
       "      <th>1</th>\n",
       "      <td>2.0</td>\n",
       "      <td>7.0</td>\n",
       "      <td>NaN</td>\n",
       "      <td>NaN</td>\n",
       "      <td>NaN</td>\n",
       "      <td>2.0</td>\n",
       "      <td>4.0</td>\n",
       "      <td>6.0</td>\n",
       "    </tr>\n",
       "  </tbody>\n",
       "</table>\n",
       "</div>"
      ],
      "text/plain": [
       "     a    b    c    d    e    x    y    z\n",
       "0  4.0  3.0  4.0  5.0  5.0  NaN  NaN  NaN\n",
       "1  2.0  7.0  NaN  NaN  NaN  2.0  4.0  6.0"
      ]
     },
     "execution_count": 89,
     "metadata": {},
     "output_type": "execute_result"
    }
   ],
   "source": [
    "pd13"
   ]
  },
  {
   "cell_type": "code",
   "execution_count": 90,
   "id": "d3644db8",
   "metadata": {},
   "outputs": [],
   "source": [
    "resultSheet=pd.DataFrame({'Arnab':pd.Series([45,67,87],index=['English','Hindi','Mathematics']),'Arnab':pd.Series([90,78,57],index=['English','Hindi','Mathematics']),'Adnan':pd.Series([54,77,89],index=['English','Hindi','Mathematics']),'Ayesha':pd.Series([97,66,81],index=['English','Hindi','Mathematics'])})"
   ]
  },
  {
   "cell_type": "code",
   "execution_count": 91,
   "id": "33af86ad",
   "metadata": {},
   "outputs": [
    {
     "data": {
      "text/html": [
       "<div>\n",
       "<style scoped>\n",
       "    .dataframe tbody tr th:only-of-type {\n",
       "        vertical-align: middle;\n",
       "    }\n",
       "\n",
       "    .dataframe tbody tr th {\n",
       "        vertical-align: top;\n",
       "    }\n",
       "\n",
       "    .dataframe thead th {\n",
       "        text-align: right;\n",
       "    }\n",
       "</style>\n",
       "<table border=\"1\" class=\"dataframe\">\n",
       "  <thead>\n",
       "    <tr style=\"text-align: right;\">\n",
       "      <th></th>\n",
       "      <th>Arnab</th>\n",
       "      <th>Adnan</th>\n",
       "      <th>Ayesha</th>\n",
       "    </tr>\n",
       "  </thead>\n",
       "  <tbody>\n",
       "    <tr>\n",
       "      <th>English</th>\n",
       "      <td>90</td>\n",
       "      <td>54</td>\n",
       "      <td>97</td>\n",
       "    </tr>\n",
       "    <tr>\n",
       "      <th>Hindi</th>\n",
       "      <td>78</td>\n",
       "      <td>77</td>\n",
       "      <td>66</td>\n",
       "    </tr>\n",
       "    <tr>\n",
       "      <th>Mathematics</th>\n",
       "      <td>57</td>\n",
       "      <td>89</td>\n",
       "      <td>81</td>\n",
       "    </tr>\n",
       "  </tbody>\n",
       "</table>\n",
       "</div>"
      ],
      "text/plain": [
       "             Arnab  Adnan  Ayesha\n",
       "English         90     54      97\n",
       "Hindi           78     77      66\n",
       "Mathematics     57     89      81"
      ]
     },
     "execution_count": 91,
     "metadata": {},
     "output_type": "execute_result"
    }
   ],
   "source": [
    "resultSheet"
   ]
  },
  {
   "cell_type": "code",
   "execution_count": 92,
   "id": "32b85a88",
   "metadata": {},
   "outputs": [],
   "source": [
    "pd14=pd.DataFrame({'Series1':pd.Series([1,2,3,5],index=['a','b','d','e']),\"Series2\":pd.Series([3,4,5,6],index=['x','y','a','b'])})"
   ]
  },
  {
   "cell_type": "code",
   "execution_count": 93,
   "id": "70c3c019",
   "metadata": {},
   "outputs": [
    {
     "data": {
      "text/html": [
       "<div>\n",
       "<style scoped>\n",
       "    .dataframe tbody tr th:only-of-type {\n",
       "        vertical-align: middle;\n",
       "    }\n",
       "\n",
       "    .dataframe tbody tr th {\n",
       "        vertical-align: top;\n",
       "    }\n",
       "\n",
       "    .dataframe thead th {\n",
       "        text-align: right;\n",
       "    }\n",
       "</style>\n",
       "<table border=\"1\" class=\"dataframe\">\n",
       "  <thead>\n",
       "    <tr style=\"text-align: right;\">\n",
       "      <th></th>\n",
       "      <th>Series1</th>\n",
       "      <th>Series2</th>\n",
       "    </tr>\n",
       "  </thead>\n",
       "  <tbody>\n",
       "    <tr>\n",
       "      <th>a</th>\n",
       "      <td>1.0</td>\n",
       "      <td>5.0</td>\n",
       "    </tr>\n",
       "    <tr>\n",
       "      <th>b</th>\n",
       "      <td>2.0</td>\n",
       "      <td>6.0</td>\n",
       "    </tr>\n",
       "    <tr>\n",
       "      <th>d</th>\n",
       "      <td>3.0</td>\n",
       "      <td>NaN</td>\n",
       "    </tr>\n",
       "    <tr>\n",
       "      <th>e</th>\n",
       "      <td>5.0</td>\n",
       "      <td>NaN</td>\n",
       "    </tr>\n",
       "    <tr>\n",
       "      <th>x</th>\n",
       "      <td>NaN</td>\n",
       "      <td>3.0</td>\n",
       "    </tr>\n",
       "    <tr>\n",
       "      <th>y</th>\n",
       "      <td>NaN</td>\n",
       "      <td>4.0</td>\n",
       "    </tr>\n",
       "  </tbody>\n",
       "</table>\n",
       "</div>"
      ],
      "text/plain": [
       "   Series1  Series2\n",
       "a      1.0      5.0\n",
       "b      2.0      6.0\n",
       "d      3.0      NaN\n",
       "e      5.0      NaN\n",
       "x      NaN      3.0\n",
       "y      NaN      4.0"
      ]
     },
     "execution_count": 93,
     "metadata": {},
     "output_type": "execute_result"
    }
   ],
   "source": [
    "pd14"
   ]
  },
  {
   "cell_type": "markdown",
   "id": "2b712a79",
   "metadata": {},
   "source": [
    "# <h2><center> Operations on rows and columns in DataFrames<center><h2>"
   ]
  },
  {
   "cell_type": "code",
   "execution_count": 94,
   "id": "2c389704",
   "metadata": {},
   "outputs": [],
   "source": [
    "ResultDF=resultSheet"
   ]
  },
  {
   "cell_type": "code",
   "execution_count": 95,
   "id": "09ccdac7",
   "metadata": {},
   "outputs": [
    {
     "data": {
      "text/html": [
       "<div>\n",
       "<style scoped>\n",
       "    .dataframe tbody tr th:only-of-type {\n",
       "        vertical-align: middle;\n",
       "    }\n",
       "\n",
       "    .dataframe tbody tr th {\n",
       "        vertical-align: top;\n",
       "    }\n",
       "\n",
       "    .dataframe thead th {\n",
       "        text-align: right;\n",
       "    }\n",
       "</style>\n",
       "<table border=\"1\" class=\"dataframe\">\n",
       "  <thead>\n",
       "    <tr style=\"text-align: right;\">\n",
       "      <th></th>\n",
       "      <th>Arnab</th>\n",
       "      <th>Adnan</th>\n",
       "      <th>Ayesha</th>\n",
       "    </tr>\n",
       "  </thead>\n",
       "  <tbody>\n",
       "    <tr>\n",
       "      <th>English</th>\n",
       "      <td>90</td>\n",
       "      <td>54</td>\n",
       "      <td>97</td>\n",
       "    </tr>\n",
       "    <tr>\n",
       "      <th>Hindi</th>\n",
       "      <td>78</td>\n",
       "      <td>77</td>\n",
       "      <td>66</td>\n",
       "    </tr>\n",
       "    <tr>\n",
       "      <th>Mathematics</th>\n",
       "      <td>57</td>\n",
       "      <td>89</td>\n",
       "      <td>81</td>\n",
       "    </tr>\n",
       "  </tbody>\n",
       "</table>\n",
       "</div>"
      ],
      "text/plain": [
       "             Arnab  Adnan  Ayesha\n",
       "English         90     54      97\n",
       "Hindi           78     77      66\n",
       "Mathematics     57     89      81"
      ]
     },
     "execution_count": 95,
     "metadata": {},
     "output_type": "execute_result"
    }
   ],
   "source": [
    "ResultDF"
   ]
  },
  {
   "cell_type": "markdown",
   "id": "9bca4946",
   "metadata": {},
   "source": [
    "# <h3><center>Adding a New Column to a DataFrame<center><h3>"
   ]
  },
  {
   "cell_type": "code",
   "execution_count": 96,
   "id": "c41e2195",
   "metadata": {},
   "outputs": [],
   "source": [
    "ResultDF['Preeti']=[98,88,76]"
   ]
  },
  {
   "cell_type": "code",
   "execution_count": 97,
   "id": "1b8c2af7",
   "metadata": {},
   "outputs": [
    {
     "data": {
      "text/html": [
       "<div>\n",
       "<style scoped>\n",
       "    .dataframe tbody tr th:only-of-type {\n",
       "        vertical-align: middle;\n",
       "    }\n",
       "\n",
       "    .dataframe tbody tr th {\n",
       "        vertical-align: top;\n",
       "    }\n",
       "\n",
       "    .dataframe thead th {\n",
       "        text-align: right;\n",
       "    }\n",
       "</style>\n",
       "<table border=\"1\" class=\"dataframe\">\n",
       "  <thead>\n",
       "    <tr style=\"text-align: right;\">\n",
       "      <th></th>\n",
       "      <th>Arnab</th>\n",
       "      <th>Adnan</th>\n",
       "      <th>Ayesha</th>\n",
       "      <th>Preeti</th>\n",
       "    </tr>\n",
       "  </thead>\n",
       "  <tbody>\n",
       "    <tr>\n",
       "      <th>English</th>\n",
       "      <td>90</td>\n",
       "      <td>54</td>\n",
       "      <td>97</td>\n",
       "      <td>98</td>\n",
       "    </tr>\n",
       "    <tr>\n",
       "      <th>Hindi</th>\n",
       "      <td>78</td>\n",
       "      <td>77</td>\n",
       "      <td>66</td>\n",
       "      <td>88</td>\n",
       "    </tr>\n",
       "    <tr>\n",
       "      <th>Mathematics</th>\n",
       "      <td>57</td>\n",
       "      <td>89</td>\n",
       "      <td>81</td>\n",
       "      <td>76</td>\n",
       "    </tr>\n",
       "  </tbody>\n",
       "</table>\n",
       "</div>"
      ],
      "text/plain": [
       "             Arnab  Adnan  Ayesha  Preeti\n",
       "English         90     54      97      98\n",
       "Hindi           78     77      66      88\n",
       "Mathematics     57     89      81      76"
      ]
     },
     "execution_count": 97,
     "metadata": {},
     "output_type": "execute_result"
    }
   ],
   "source": [
    "ResultDF"
   ]
  },
  {
   "cell_type": "code",
   "execution_count": 98,
   "id": "ab3d5caf",
   "metadata": {},
   "outputs": [],
   "source": [
    "ResultDF['Adiba']=[66,89,90]"
   ]
  },
  {
   "cell_type": "code",
   "execution_count": 99,
   "id": "9d57d34c",
   "metadata": {},
   "outputs": [
    {
     "data": {
      "text/html": [
       "<div>\n",
       "<style scoped>\n",
       "    .dataframe tbody tr th:only-of-type {\n",
       "        vertical-align: middle;\n",
       "    }\n",
       "\n",
       "    .dataframe tbody tr th {\n",
       "        vertical-align: top;\n",
       "    }\n",
       "\n",
       "    .dataframe thead th {\n",
       "        text-align: right;\n",
       "    }\n",
       "</style>\n",
       "<table border=\"1\" class=\"dataframe\">\n",
       "  <thead>\n",
       "    <tr style=\"text-align: right;\">\n",
       "      <th></th>\n",
       "      <th>Arnab</th>\n",
       "      <th>Adnan</th>\n",
       "      <th>Ayesha</th>\n",
       "      <th>Preeti</th>\n",
       "      <th>Adiba</th>\n",
       "    </tr>\n",
       "  </thead>\n",
       "  <tbody>\n",
       "    <tr>\n",
       "      <th>English</th>\n",
       "      <td>90</td>\n",
       "      <td>54</td>\n",
       "      <td>97</td>\n",
       "      <td>98</td>\n",
       "      <td>66</td>\n",
       "    </tr>\n",
       "    <tr>\n",
       "      <th>Hindi</th>\n",
       "      <td>78</td>\n",
       "      <td>77</td>\n",
       "      <td>66</td>\n",
       "      <td>88</td>\n",
       "      <td>89</td>\n",
       "    </tr>\n",
       "    <tr>\n",
       "      <th>Mathematics</th>\n",
       "      <td>57</td>\n",
       "      <td>89</td>\n",
       "      <td>81</td>\n",
       "      <td>76</td>\n",
       "      <td>90</td>\n",
       "    </tr>\n",
       "  </tbody>\n",
       "</table>\n",
       "</div>"
      ],
      "text/plain": [
       "             Arnab  Adnan  Ayesha  Preeti  Adiba\n",
       "English         90     54      97      98     66\n",
       "Hindi           78     77      66      88     89\n",
       "Mathematics     57     89      81      76     90"
      ]
     },
     "execution_count": 99,
     "metadata": {},
     "output_type": "execute_result"
    }
   ],
   "source": [
    "ResultDF"
   ]
  },
  {
   "cell_type": "markdown",
   "id": "3cc56fbe",
   "metadata": {},
   "source": [
    "# <h3><center>Adding a New Row to a DataFrame<center><h3>"
   ]
  },
  {
   "cell_type": "code",
   "execution_count": 100,
   "id": "642b4ff1",
   "metadata": {},
   "outputs": [],
   "source": [
    "ResultDF.loc['Science']=[90,87,90,100,81]"
   ]
  },
  {
   "cell_type": "code",
   "execution_count": 101,
   "id": "4a6cadc2",
   "metadata": {},
   "outputs": [
    {
     "data": {
      "text/html": [
       "<div>\n",
       "<style scoped>\n",
       "    .dataframe tbody tr th:only-of-type {\n",
       "        vertical-align: middle;\n",
       "    }\n",
       "\n",
       "    .dataframe tbody tr th {\n",
       "        vertical-align: top;\n",
       "    }\n",
       "\n",
       "    .dataframe thead th {\n",
       "        text-align: right;\n",
       "    }\n",
       "</style>\n",
       "<table border=\"1\" class=\"dataframe\">\n",
       "  <thead>\n",
       "    <tr style=\"text-align: right;\">\n",
       "      <th></th>\n",
       "      <th>Arnab</th>\n",
       "      <th>Adnan</th>\n",
       "      <th>Ayesha</th>\n",
       "      <th>Preeti</th>\n",
       "      <th>Adiba</th>\n",
       "    </tr>\n",
       "  </thead>\n",
       "  <tbody>\n",
       "    <tr>\n",
       "      <th>English</th>\n",
       "      <td>90</td>\n",
       "      <td>54</td>\n",
       "      <td>97</td>\n",
       "      <td>98</td>\n",
       "      <td>66</td>\n",
       "    </tr>\n",
       "    <tr>\n",
       "      <th>Hindi</th>\n",
       "      <td>78</td>\n",
       "      <td>77</td>\n",
       "      <td>66</td>\n",
       "      <td>88</td>\n",
       "      <td>89</td>\n",
       "    </tr>\n",
       "    <tr>\n",
       "      <th>Mathematics</th>\n",
       "      <td>57</td>\n",
       "      <td>89</td>\n",
       "      <td>81</td>\n",
       "      <td>76</td>\n",
       "      <td>90</td>\n",
       "    </tr>\n",
       "    <tr>\n",
       "      <th>Science</th>\n",
       "      <td>90</td>\n",
       "      <td>87</td>\n",
       "      <td>90</td>\n",
       "      <td>100</td>\n",
       "      <td>81</td>\n",
       "    </tr>\n",
       "  </tbody>\n",
       "</table>\n",
       "</div>"
      ],
      "text/plain": [
       "             Arnab  Adnan  Ayesha  Preeti  Adiba\n",
       "English         90     54      97      98     66\n",
       "Hindi           78     77      66      88     89\n",
       "Mathematics     57     89      81      76     90\n",
       "Science         90     87      90     100     81"
      ]
     },
     "execution_count": 101,
     "metadata": {},
     "output_type": "execute_result"
    }
   ],
   "source": [
    "ResultDF"
   ]
  },
  {
   "cell_type": "markdown",
   "id": "36fcd7ac",
   "metadata": {},
   "source": [
    "# <h3><center>Deleting Rows or Columns from a DataFrame<center><h3>"
   ]
  },
  {
   "cell_type": "code",
   "execution_count": 102,
   "id": "f0375ad1",
   "metadata": {},
   "outputs": [],
   "source": [
    "ResultDF1=ResultDF.drop('Hindi',axis=0) #Will delete the rows and will not change permanently"
   ]
  },
  {
   "cell_type": "code",
   "execution_count": 103,
   "id": "c2f5e2f6",
   "metadata": {},
   "outputs": [
    {
     "data": {
      "text/html": [
       "<div>\n",
       "<style scoped>\n",
       "    .dataframe tbody tr th:only-of-type {\n",
       "        vertical-align: middle;\n",
       "    }\n",
       "\n",
       "    .dataframe tbody tr th {\n",
       "        vertical-align: top;\n",
       "    }\n",
       "\n",
       "    .dataframe thead th {\n",
       "        text-align: right;\n",
       "    }\n",
       "</style>\n",
       "<table border=\"1\" class=\"dataframe\">\n",
       "  <thead>\n",
       "    <tr style=\"text-align: right;\">\n",
       "      <th></th>\n",
       "      <th>Arnab</th>\n",
       "      <th>Adnan</th>\n",
       "      <th>Ayesha</th>\n",
       "      <th>Preeti</th>\n",
       "      <th>Adiba</th>\n",
       "    </tr>\n",
       "  </thead>\n",
       "  <tbody>\n",
       "    <tr>\n",
       "      <th>English</th>\n",
       "      <td>90</td>\n",
       "      <td>54</td>\n",
       "      <td>97</td>\n",
       "      <td>98</td>\n",
       "      <td>66</td>\n",
       "    </tr>\n",
       "    <tr>\n",
       "      <th>Hindi</th>\n",
       "      <td>78</td>\n",
       "      <td>77</td>\n",
       "      <td>66</td>\n",
       "      <td>88</td>\n",
       "      <td>89</td>\n",
       "    </tr>\n",
       "    <tr>\n",
       "      <th>Mathematics</th>\n",
       "      <td>57</td>\n",
       "      <td>89</td>\n",
       "      <td>81</td>\n",
       "      <td>76</td>\n",
       "      <td>90</td>\n",
       "    </tr>\n",
       "    <tr>\n",
       "      <th>Science</th>\n",
       "      <td>90</td>\n",
       "      <td>87</td>\n",
       "      <td>90</td>\n",
       "      <td>100</td>\n",
       "      <td>81</td>\n",
       "    </tr>\n",
       "  </tbody>\n",
       "</table>\n",
       "</div>"
      ],
      "text/plain": [
       "             Arnab  Adnan  Ayesha  Preeti  Adiba\n",
       "English         90     54      97      98     66\n",
       "Hindi           78     77      66      88     89\n",
       "Mathematics     57     89      81      76     90\n",
       "Science         90     87      90     100     81"
      ]
     },
     "execution_count": 103,
     "metadata": {},
     "output_type": "execute_result"
    }
   ],
   "source": [
    "ResultDF"
   ]
  },
  {
   "cell_type": "code",
   "execution_count": 104,
   "id": "71a10324",
   "metadata": {},
   "outputs": [
    {
     "data": {
      "text/html": [
       "<div>\n",
       "<style scoped>\n",
       "    .dataframe tbody tr th:only-of-type {\n",
       "        vertical-align: middle;\n",
       "    }\n",
       "\n",
       "    .dataframe tbody tr th {\n",
       "        vertical-align: top;\n",
       "    }\n",
       "\n",
       "    .dataframe thead th {\n",
       "        text-align: right;\n",
       "    }\n",
       "</style>\n",
       "<table border=\"1\" class=\"dataframe\">\n",
       "  <thead>\n",
       "    <tr style=\"text-align: right;\">\n",
       "      <th></th>\n",
       "      <th>Arnab</th>\n",
       "      <th>Adnan</th>\n",
       "      <th>Preeti</th>\n",
       "    </tr>\n",
       "  </thead>\n",
       "  <tbody>\n",
       "    <tr>\n",
       "      <th>English</th>\n",
       "      <td>90</td>\n",
       "      <td>54</td>\n",
       "      <td>98</td>\n",
       "    </tr>\n",
       "    <tr>\n",
       "      <th>Hindi</th>\n",
       "      <td>78</td>\n",
       "      <td>77</td>\n",
       "      <td>88</td>\n",
       "    </tr>\n",
       "    <tr>\n",
       "      <th>Mathematics</th>\n",
       "      <td>57</td>\n",
       "      <td>89</td>\n",
       "      <td>76</td>\n",
       "    </tr>\n",
       "    <tr>\n",
       "      <th>Science</th>\n",
       "      <td>90</td>\n",
       "      <td>87</td>\n",
       "      <td>100</td>\n",
       "    </tr>\n",
       "  </tbody>\n",
       "</table>\n",
       "</div>"
      ],
      "text/plain": [
       "             Arnab  Adnan  Preeti\n",
       "English         90     54      98\n",
       "Hindi           78     77      88\n",
       "Mathematics     57     89      76\n",
       "Science         90     87     100"
      ]
     },
     "execution_count": 104,
     "metadata": {},
     "output_type": "execute_result"
    }
   ],
   "source": [
    "ResultDF.drop(['Ayesha','Adiba'],axis=1) #Will delete the columns and will not change permanently"
   ]
  },
  {
   "cell_type": "markdown",
   "id": "a409eb41",
   "metadata": {},
   "source": [
    "# <h3><center>Renaming Row Labels of a DataFrame<center><h3>"
   ]
  },
  {
   "cell_type": "code",
   "execution_count": 105,
   "id": "c527ab74",
   "metadata": {},
   "outputs": [
    {
     "data": {
      "text/html": [
       "<div>\n",
       "<style scoped>\n",
       "    .dataframe tbody tr th:only-of-type {\n",
       "        vertical-align: middle;\n",
       "    }\n",
       "\n",
       "    .dataframe tbody tr th {\n",
       "        vertical-align: top;\n",
       "    }\n",
       "\n",
       "    .dataframe thead th {\n",
       "        text-align: right;\n",
       "    }\n",
       "</style>\n",
       "<table border=\"1\" class=\"dataframe\">\n",
       "  <thead>\n",
       "    <tr style=\"text-align: right;\">\n",
       "      <th></th>\n",
       "      <th>Arnab</th>\n",
       "      <th>Adnan</th>\n",
       "      <th>Ayesha</th>\n",
       "      <th>Preeti</th>\n",
       "      <th>Adiba</th>\n",
       "    </tr>\n",
       "  </thead>\n",
       "  <tbody>\n",
       "    <tr>\n",
       "      <th>Bengali</th>\n",
       "      <td>90</td>\n",
       "      <td>54</td>\n",
       "      <td>97</td>\n",
       "      <td>98</td>\n",
       "      <td>66</td>\n",
       "    </tr>\n",
       "    <tr>\n",
       "      <th>Sanskrit</th>\n",
       "      <td>78</td>\n",
       "      <td>77</td>\n",
       "      <td>66</td>\n",
       "      <td>88</td>\n",
       "      <td>89</td>\n",
       "    </tr>\n",
       "    <tr>\n",
       "      <th>Mathematics</th>\n",
       "      <td>57</td>\n",
       "      <td>89</td>\n",
       "      <td>81</td>\n",
       "      <td>76</td>\n",
       "      <td>90</td>\n",
       "    </tr>\n",
       "    <tr>\n",
       "      <th>Science</th>\n",
       "      <td>90</td>\n",
       "      <td>87</td>\n",
       "      <td>90</td>\n",
       "      <td>100</td>\n",
       "      <td>81</td>\n",
       "    </tr>\n",
       "  </tbody>\n",
       "</table>\n",
       "</div>"
      ],
      "text/plain": [
       "             Arnab  Adnan  Ayesha  Preeti  Adiba\n",
       "Bengali         90     54      97      98     66\n",
       "Sanskrit        78     77      66      88     89\n",
       "Mathematics     57     89      81      76     90\n",
       "Science         90     87      90     100     81"
      ]
     },
     "execution_count": 105,
     "metadata": {},
     "output_type": "execute_result"
    }
   ],
   "source": [
    "ResultDF.rename({'English':'Bengali','Hindi':'Sanskrit'},axis=0) # to rows"
   ]
  },
  {
   "cell_type": "code",
   "execution_count": 106,
   "id": "256d9aeb",
   "metadata": {},
   "outputs": [
    {
     "data": {
      "text/html": [
       "<div>\n",
       "<style scoped>\n",
       "    .dataframe tbody tr th:only-of-type {\n",
       "        vertical-align: middle;\n",
       "    }\n",
       "\n",
       "    .dataframe tbody tr th {\n",
       "        vertical-align: top;\n",
       "    }\n",
       "\n",
       "    .dataframe thead th {\n",
       "        text-align: right;\n",
       "    }\n",
       "</style>\n",
       "<table border=\"1\" class=\"dataframe\">\n",
       "  <thead>\n",
       "    <tr style=\"text-align: right;\">\n",
       "      <th></th>\n",
       "      <th>Arnab</th>\n",
       "      <th>Abhishek</th>\n",
       "      <th>Ayesha</th>\n",
       "      <th>Preeti</th>\n",
       "      <th>Tuba</th>\n",
       "    </tr>\n",
       "  </thead>\n",
       "  <tbody>\n",
       "    <tr>\n",
       "      <th>English</th>\n",
       "      <td>90</td>\n",
       "      <td>54</td>\n",
       "      <td>97</td>\n",
       "      <td>98</td>\n",
       "      <td>66</td>\n",
       "    </tr>\n",
       "    <tr>\n",
       "      <th>Hindi</th>\n",
       "      <td>78</td>\n",
       "      <td>77</td>\n",
       "      <td>66</td>\n",
       "      <td>88</td>\n",
       "      <td>89</td>\n",
       "    </tr>\n",
       "    <tr>\n",
       "      <th>Mathematics</th>\n",
       "      <td>57</td>\n",
       "      <td>89</td>\n",
       "      <td>81</td>\n",
       "      <td>76</td>\n",
       "      <td>90</td>\n",
       "    </tr>\n",
       "    <tr>\n",
       "      <th>Science</th>\n",
       "      <td>90</td>\n",
       "      <td>87</td>\n",
       "      <td>90</td>\n",
       "      <td>100</td>\n",
       "      <td>81</td>\n",
       "    </tr>\n",
       "  </tbody>\n",
       "</table>\n",
       "</div>"
      ],
      "text/plain": [
       "             Arnab  Abhishek  Ayesha  Preeti  Tuba\n",
       "English         90        54      97      98    66\n",
       "Hindi           78        77      66      88    89\n",
       "Mathematics     57        89      81      76    90\n",
       "Science         90        87      90     100    81"
      ]
     },
     "execution_count": 106,
     "metadata": {},
     "output_type": "execute_result"
    }
   ],
   "source": [
    "ResultDF.rename({'Adnan':'Abhishek','Adiba':'Tuba'},axis=1) # to columns"
   ]
  },
  {
   "cell_type": "code",
   "execution_count": 107,
   "id": "befddfd6",
   "metadata": {},
   "outputs": [
    {
     "data": {
      "text/html": [
       "<div>\n",
       "<style scoped>\n",
       "    .dataframe tbody tr th:only-of-type {\n",
       "        vertical-align: middle;\n",
       "    }\n",
       "\n",
       "    .dataframe tbody tr th {\n",
       "        vertical-align: top;\n",
       "    }\n",
       "\n",
       "    .dataframe thead th {\n",
       "        text-align: right;\n",
       "    }\n",
       "</style>\n",
       "<table border=\"1\" class=\"dataframe\">\n",
       "  <thead>\n",
       "    <tr style=\"text-align: right;\">\n",
       "      <th></th>\n",
       "      <th>Arnab</th>\n",
       "      <th>Abhishek</th>\n",
       "      <th>Ayesha</th>\n",
       "      <th>Preeti</th>\n",
       "      <th>Tuba</th>\n",
       "    </tr>\n",
       "  </thead>\n",
       "  <tbody>\n",
       "    <tr>\n",
       "      <th>English</th>\n",
       "      <td>90</td>\n",
       "      <td>54</td>\n",
       "      <td>97</td>\n",
       "      <td>98</td>\n",
       "      <td>66</td>\n",
       "    </tr>\n",
       "    <tr>\n",
       "      <th>Hindi</th>\n",
       "      <td>78</td>\n",
       "      <td>77</td>\n",
       "      <td>66</td>\n",
       "      <td>88</td>\n",
       "      <td>89</td>\n",
       "    </tr>\n",
       "    <tr>\n",
       "      <th>Mathematics</th>\n",
       "      <td>57</td>\n",
       "      <td>89</td>\n",
       "      <td>81</td>\n",
       "      <td>76</td>\n",
       "      <td>90</td>\n",
       "    </tr>\n",
       "    <tr>\n",
       "      <th>Science</th>\n",
       "      <td>90</td>\n",
       "      <td>87</td>\n",
       "      <td>90</td>\n",
       "      <td>100</td>\n",
       "      <td>81</td>\n",
       "    </tr>\n",
       "  </tbody>\n",
       "</table>\n",
       "</div>"
      ],
      "text/plain": [
       "             Arnab  Abhishek  Ayesha  Preeti  Tuba\n",
       "English         90        54      97      98    66\n",
       "Hindi           78        77      66      88    89\n",
       "Mathematics     57        89      81      76    90\n",
       "Science         90        87      90     100    81"
      ]
     },
     "execution_count": 107,
     "metadata": {},
     "output_type": "execute_result"
    }
   ],
   "source": [
    "ResultDF.rename({'Adnan':'Abhishek','Adiba':'Tuba'},axis='columns')"
   ]
  },
  {
   "cell_type": "code",
   "execution_count": 108,
   "id": "745f8457",
   "metadata": {},
   "outputs": [
    {
     "data": {
      "text/html": [
       "<div>\n",
       "<style scoped>\n",
       "    .dataframe tbody tr th:only-of-type {\n",
       "        vertical-align: middle;\n",
       "    }\n",
       "\n",
       "    .dataframe tbody tr th {\n",
       "        vertical-align: top;\n",
       "    }\n",
       "\n",
       "    .dataframe thead th {\n",
       "        text-align: right;\n",
       "    }\n",
       "</style>\n",
       "<table border=\"1\" class=\"dataframe\">\n",
       "  <thead>\n",
       "    <tr style=\"text-align: right;\">\n",
       "      <th></th>\n",
       "      <th>Arnab</th>\n",
       "      <th>Adnan</th>\n",
       "      <th>Ayesha</th>\n",
       "      <th>Preeti</th>\n",
       "      <th>Adiba</th>\n",
       "    </tr>\n",
       "  </thead>\n",
       "  <tbody>\n",
       "    <tr>\n",
       "      <th>Bengali</th>\n",
       "      <td>90</td>\n",
       "      <td>54</td>\n",
       "      <td>97</td>\n",
       "      <td>98</td>\n",
       "      <td>66</td>\n",
       "    </tr>\n",
       "    <tr>\n",
       "      <th>Sanskrit</th>\n",
       "      <td>78</td>\n",
       "      <td>77</td>\n",
       "      <td>66</td>\n",
       "      <td>88</td>\n",
       "      <td>89</td>\n",
       "    </tr>\n",
       "    <tr>\n",
       "      <th>Mathematics</th>\n",
       "      <td>57</td>\n",
       "      <td>89</td>\n",
       "      <td>81</td>\n",
       "      <td>76</td>\n",
       "      <td>90</td>\n",
       "    </tr>\n",
       "    <tr>\n",
       "      <th>Science</th>\n",
       "      <td>90</td>\n",
       "      <td>87</td>\n",
       "      <td>90</td>\n",
       "      <td>100</td>\n",
       "      <td>81</td>\n",
       "    </tr>\n",
       "  </tbody>\n",
       "</table>\n",
       "</div>"
      ],
      "text/plain": [
       "             Arnab  Adnan  Ayesha  Preeti  Adiba\n",
       "Bengali         90     54      97      98     66\n",
       "Sanskrit        78     77      66      88     89\n",
       "Mathematics     57     89      81      76     90\n",
       "Science         90     87      90     100     81"
      ]
     },
     "execution_count": 108,
     "metadata": {},
     "output_type": "execute_result"
    }
   ],
   "source": [
    "ResultDF.rename({'English':'Bengali','Hindi':'Sanskrit'},axis='index')"
   ]
  },
  {
   "cell_type": "markdown",
   "id": "cc0d8d64",
   "metadata": {},
   "source": [
    "# <h3><center>Accessing DataFrames Element through Indexing<center><h3>"
   ]
  },
  {
   "cell_type": "markdown",
   "id": "c402424f",
   "metadata": {},
   "source": [
    "# <h4><center>(A) Label Based Indexing<center><h4>"
   ]
  },
  {
   "cell_type": "code",
   "execution_count": 109,
   "id": "8f2cd457",
   "metadata": {},
   "outputs": [
    {
     "data": {
      "text/html": [
       "<div>\n",
       "<style scoped>\n",
       "    .dataframe tbody tr th:only-of-type {\n",
       "        vertical-align: middle;\n",
       "    }\n",
       "\n",
       "    .dataframe tbody tr th {\n",
       "        vertical-align: top;\n",
       "    }\n",
       "\n",
       "    .dataframe thead th {\n",
       "        text-align: right;\n",
       "    }\n",
       "</style>\n",
       "<table border=\"1\" class=\"dataframe\">\n",
       "  <thead>\n",
       "    <tr style=\"text-align: right;\">\n",
       "      <th></th>\n",
       "      <th>Arnab</th>\n",
       "      <th>Adnan</th>\n",
       "      <th>Ayesha</th>\n",
       "      <th>Preeti</th>\n",
       "      <th>Adiba</th>\n",
       "    </tr>\n",
       "  </thead>\n",
       "  <tbody>\n",
       "    <tr>\n",
       "      <th>English</th>\n",
       "      <td>90</td>\n",
       "      <td>54</td>\n",
       "      <td>97</td>\n",
       "      <td>98</td>\n",
       "      <td>66</td>\n",
       "    </tr>\n",
       "    <tr>\n",
       "      <th>Hindi</th>\n",
       "      <td>78</td>\n",
       "      <td>77</td>\n",
       "      <td>66</td>\n",
       "      <td>88</td>\n",
       "      <td>89</td>\n",
       "    </tr>\n",
       "    <tr>\n",
       "      <th>Mathematics</th>\n",
       "      <td>57</td>\n",
       "      <td>89</td>\n",
       "      <td>81</td>\n",
       "      <td>76</td>\n",
       "      <td>90</td>\n",
       "    </tr>\n",
       "    <tr>\n",
       "      <th>Science</th>\n",
       "      <td>90</td>\n",
       "      <td>87</td>\n",
       "      <td>90</td>\n",
       "      <td>100</td>\n",
       "      <td>81</td>\n",
       "    </tr>\n",
       "  </tbody>\n",
       "</table>\n",
       "</div>"
      ],
      "text/plain": [
       "             Arnab  Adnan  Ayesha  Preeti  Adiba\n",
       "English         90     54      97      98     66\n",
       "Hindi           78     77      66      88     89\n",
       "Mathematics     57     89      81      76     90\n",
       "Science         90     87      90     100     81"
      ]
     },
     "execution_count": 109,
     "metadata": {},
     "output_type": "execute_result"
    }
   ],
   "source": [
    "ResultDF"
   ]
  },
  {
   "cell_type": "code",
   "execution_count": 110,
   "id": "3deac8bf",
   "metadata": {},
   "outputs": [
    {
     "data": {
      "text/plain": [
       "Arnab      90\n",
       "Adnan      87\n",
       "Ayesha     90\n",
       "Preeti    100\n",
       "Adiba      81\n",
       "Name: Science, dtype: int64"
      ]
     },
     "execution_count": 110,
     "metadata": {},
     "output_type": "execute_result"
    }
   ],
   "source": [
    "ResultDF.loc['Science']"
   ]
  },
  {
   "cell_type": "code",
   "execution_count": 111,
   "id": "60a74573",
   "metadata": {},
   "outputs": [
    {
     "data": {
      "text/plain": [
       "English        54\n",
       "Hindi          77\n",
       "Mathematics    89\n",
       "Science        87\n",
       "Name: Adnan, dtype: int64"
      ]
     },
     "execution_count": 111,
     "metadata": {},
     "output_type": "execute_result"
    }
   ],
   "source": [
    "ResultDF['Adnan']"
   ]
  },
  {
   "cell_type": "code",
   "execution_count": 112,
   "id": "b6ed5995",
   "metadata": {},
   "outputs": [
    {
     "data": {
      "text/plain": [
       "87"
      ]
     },
     "execution_count": 112,
     "metadata": {},
     "output_type": "execute_result"
    }
   ],
   "source": [
    "ResultDF.loc['Science','Adnan']"
   ]
  },
  {
   "cell_type": "code",
   "execution_count": 113,
   "id": "e49ce229",
   "metadata": {},
   "outputs": [
    {
     "data": {
      "text/html": [
       "<div>\n",
       "<style scoped>\n",
       "    .dataframe tbody tr th:only-of-type {\n",
       "        vertical-align: middle;\n",
       "    }\n",
       "\n",
       "    .dataframe tbody tr th {\n",
       "        vertical-align: top;\n",
       "    }\n",
       "\n",
       "    .dataframe thead th {\n",
       "        text-align: right;\n",
       "    }\n",
       "</style>\n",
       "<table border=\"1\" class=\"dataframe\">\n",
       "  <thead>\n",
       "    <tr style=\"text-align: right;\">\n",
       "      <th></th>\n",
       "      <th>Ayesha</th>\n",
       "      <th>Adnan</th>\n",
       "    </tr>\n",
       "  </thead>\n",
       "  <tbody>\n",
       "    <tr>\n",
       "      <th>English</th>\n",
       "      <td>97</td>\n",
       "      <td>54</td>\n",
       "    </tr>\n",
       "    <tr>\n",
       "      <th>Hindi</th>\n",
       "      <td>66</td>\n",
       "      <td>77</td>\n",
       "    </tr>\n",
       "    <tr>\n",
       "      <th>Mathematics</th>\n",
       "      <td>81</td>\n",
       "      <td>89</td>\n",
       "    </tr>\n",
       "    <tr>\n",
       "      <th>Science</th>\n",
       "      <td>90</td>\n",
       "      <td>87</td>\n",
       "    </tr>\n",
       "  </tbody>\n",
       "</table>\n",
       "</div>"
      ],
      "text/plain": [
       "             Ayesha  Adnan\n",
       "English          97     54\n",
       "Hindi            66     77\n",
       "Mathematics      81     89\n",
       "Science          90     87"
      ]
     },
     "execution_count": 113,
     "metadata": {},
     "output_type": "execute_result"
    }
   ],
   "source": [
    "ResultDF[['Ayesha',\"Adnan\"]]"
   ]
  },
  {
   "cell_type": "code",
   "execution_count": 114,
   "id": "89f8db3a",
   "metadata": {},
   "outputs": [
    {
     "data": {
      "text/html": [
       "<div>\n",
       "<style scoped>\n",
       "    .dataframe tbody tr th:only-of-type {\n",
       "        vertical-align: middle;\n",
       "    }\n",
       "\n",
       "    .dataframe tbody tr th {\n",
       "        vertical-align: top;\n",
       "    }\n",
       "\n",
       "    .dataframe thead th {\n",
       "        text-align: right;\n",
       "    }\n",
       "</style>\n",
       "<table border=\"1\" class=\"dataframe\">\n",
       "  <thead>\n",
       "    <tr style=\"text-align: right;\">\n",
       "      <th></th>\n",
       "      <th>Arnab</th>\n",
       "      <th>Adnan</th>\n",
       "      <th>Ayesha</th>\n",
       "      <th>Preeti</th>\n",
       "      <th>Adiba</th>\n",
       "    </tr>\n",
       "  </thead>\n",
       "  <tbody>\n",
       "    <tr>\n",
       "      <th>English</th>\n",
       "      <td>90</td>\n",
       "      <td>54</td>\n",
       "      <td>97</td>\n",
       "      <td>98</td>\n",
       "      <td>66</td>\n",
       "    </tr>\n",
       "    <tr>\n",
       "      <th>Hindi</th>\n",
       "      <td>78</td>\n",
       "      <td>77</td>\n",
       "      <td>66</td>\n",
       "      <td>88</td>\n",
       "      <td>89</td>\n",
       "    </tr>\n",
       "    <tr>\n",
       "      <th>Mathematics</th>\n",
       "      <td>57</td>\n",
       "      <td>89</td>\n",
       "      <td>81</td>\n",
       "      <td>76</td>\n",
       "      <td>90</td>\n",
       "    </tr>\n",
       "    <tr>\n",
       "      <th>Science</th>\n",
       "      <td>90</td>\n",
       "      <td>87</td>\n",
       "      <td>90</td>\n",
       "      <td>100</td>\n",
       "      <td>81</td>\n",
       "    </tr>\n",
       "  </tbody>\n",
       "</table>\n",
       "</div>"
      ],
      "text/plain": [
       "             Arnab  Adnan  Ayesha  Preeti  Adiba\n",
       "English         90     54      97      98     66\n",
       "Hindi           78     77      66      88     89\n",
       "Mathematics     57     89      81      76     90\n",
       "Science         90     87      90     100     81"
      ]
     },
     "execution_count": 114,
     "metadata": {},
     "output_type": "execute_result"
    }
   ],
   "source": [
    "ResultDF"
   ]
  },
  {
   "cell_type": "code",
   "execution_count": 115,
   "id": "c5836799",
   "metadata": {},
   "outputs": [
    {
     "data": {
      "text/html": [
       "<div>\n",
       "<style scoped>\n",
       "    .dataframe tbody tr th:only-of-type {\n",
       "        vertical-align: middle;\n",
       "    }\n",
       "\n",
       "    .dataframe tbody tr th {\n",
       "        vertical-align: top;\n",
       "    }\n",
       "\n",
       "    .dataframe thead th {\n",
       "        text-align: right;\n",
       "    }\n",
       "</style>\n",
       "<table border=\"1\" class=\"dataframe\">\n",
       "  <thead>\n",
       "    <tr style=\"text-align: right;\">\n",
       "      <th></th>\n",
       "      <th>Adnan</th>\n",
       "      <th>Ayesha</th>\n",
       "      <th>Preeti</th>\n",
       "    </tr>\n",
       "  </thead>\n",
       "  <tbody>\n",
       "    <tr>\n",
       "      <th>English</th>\n",
       "      <td>54</td>\n",
       "      <td>97</td>\n",
       "      <td>98</td>\n",
       "    </tr>\n",
       "    <tr>\n",
       "      <th>Hindi</th>\n",
       "      <td>77</td>\n",
       "      <td>66</td>\n",
       "      <td>88</td>\n",
       "    </tr>\n",
       "    <tr>\n",
       "      <th>Mathematics</th>\n",
       "      <td>89</td>\n",
       "      <td>81</td>\n",
       "      <td>76</td>\n",
       "    </tr>\n",
       "  </tbody>\n",
       "</table>\n",
       "</div>"
      ],
      "text/plain": [
       "             Adnan  Ayesha  Preeti\n",
       "English         54      97      98\n",
       "Hindi           77      66      88\n",
       "Mathematics     89      81      76"
      ]
     },
     "execution_count": 115,
     "metadata": {},
     "output_type": "execute_result"
    }
   ],
   "source": [
    "ResultDF.loc[\"English\":'Mathmatics','Adnan':'Preeti']"
   ]
  },
  {
   "cell_type": "code",
   "execution_count": 116,
   "id": "788685bd",
   "metadata": {},
   "outputs": [],
   "source": [
    "dFrame10Multiples=pd.DataFrame([10,20,30,40],index=[2,3,4,7,])"
   ]
  },
  {
   "cell_type": "code",
   "execution_count": 117,
   "id": "3f2f3d9c",
   "metadata": {},
   "outputs": [
    {
     "data": {
      "text/plain": [
       "pandas.core.frame.DataFrame"
      ]
     },
     "execution_count": 117,
     "metadata": {},
     "output_type": "execute_result"
    }
   ],
   "source": [
    "type(dFrame10Multiples)"
   ]
  },
  {
   "cell_type": "code",
   "execution_count": 118,
   "id": "d2c35fcf",
   "metadata": {},
   "outputs": [
    {
     "data": {
      "text/html": [
       "<div>\n",
       "<style scoped>\n",
       "    .dataframe tbody tr th:only-of-type {\n",
       "        vertical-align: middle;\n",
       "    }\n",
       "\n",
       "    .dataframe tbody tr th {\n",
       "        vertical-align: top;\n",
       "    }\n",
       "\n",
       "    .dataframe thead th {\n",
       "        text-align: right;\n",
       "    }\n",
       "</style>\n",
       "<table border=\"1\" class=\"dataframe\">\n",
       "  <thead>\n",
       "    <tr style=\"text-align: right;\">\n",
       "      <th></th>\n",
       "      <th>0</th>\n",
       "    </tr>\n",
       "  </thead>\n",
       "  <tbody>\n",
       "    <tr>\n",
       "      <th>2</th>\n",
       "      <td>10</td>\n",
       "    </tr>\n",
       "    <tr>\n",
       "      <th>3</th>\n",
       "      <td>20</td>\n",
       "    </tr>\n",
       "    <tr>\n",
       "      <th>4</th>\n",
       "      <td>30</td>\n",
       "    </tr>\n",
       "    <tr>\n",
       "      <th>7</th>\n",
       "      <td>40</td>\n",
       "    </tr>\n",
       "  </tbody>\n",
       "</table>\n",
       "</div>"
      ],
      "text/plain": [
       "    0\n",
       "2  10\n",
       "3  20\n",
       "4  30\n",
       "7  40"
      ]
     },
     "execution_count": 118,
     "metadata": {},
     "output_type": "execute_result"
    }
   ],
   "source": [
    "dFrame10Multiples"
   ]
  },
  {
   "cell_type": "code",
   "execution_count": 119,
   "id": "dc5132f7",
   "metadata": {},
   "outputs": [
    {
     "data": {
      "text/plain": [
       "0    30\n",
       "Name: 4, dtype: int64"
      ]
     },
     "execution_count": 119,
     "metadata": {},
     "output_type": "execute_result"
    }
   ],
   "source": [
    "dFrame10Multiples.loc[4]"
   ]
  },
  {
   "cell_type": "markdown",
   "id": "6af5cb8b",
   "metadata": {},
   "source": [
    "# <h4><center>B) Boolean Indexing<center><h4>"
   ]
  },
  {
   "cell_type": "code",
   "execution_count": 120,
   "id": "af5a3e1a",
   "metadata": {},
   "outputs": [
    {
     "data": {
      "text/html": [
       "<div>\n",
       "<style scoped>\n",
       "    .dataframe tbody tr th:only-of-type {\n",
       "        vertical-align: middle;\n",
       "    }\n",
       "\n",
       "    .dataframe tbody tr th {\n",
       "        vertical-align: top;\n",
       "    }\n",
       "\n",
       "    .dataframe thead th {\n",
       "        text-align: right;\n",
       "    }\n",
       "</style>\n",
       "<table border=\"1\" class=\"dataframe\">\n",
       "  <thead>\n",
       "    <tr style=\"text-align: right;\">\n",
       "      <th></th>\n",
       "      <th>Arnab</th>\n",
       "      <th>Adnan</th>\n",
       "      <th>Ayesha</th>\n",
       "      <th>Preeti</th>\n",
       "      <th>Adiba</th>\n",
       "    </tr>\n",
       "  </thead>\n",
       "  <tbody>\n",
       "    <tr>\n",
       "      <th>English</th>\n",
       "      <td>90</td>\n",
       "      <td>54</td>\n",
       "      <td>97</td>\n",
       "      <td>98</td>\n",
       "      <td>66</td>\n",
       "    </tr>\n",
       "    <tr>\n",
       "      <th>Hindi</th>\n",
       "      <td>78</td>\n",
       "      <td>77</td>\n",
       "      <td>66</td>\n",
       "      <td>88</td>\n",
       "      <td>89</td>\n",
       "    </tr>\n",
       "    <tr>\n",
       "      <th>Mathematics</th>\n",
       "      <td>57</td>\n",
       "      <td>89</td>\n",
       "      <td>81</td>\n",
       "      <td>76</td>\n",
       "      <td>90</td>\n",
       "    </tr>\n",
       "    <tr>\n",
       "      <th>Science</th>\n",
       "      <td>90</td>\n",
       "      <td>87</td>\n",
       "      <td>90</td>\n",
       "      <td>100</td>\n",
       "      <td>81</td>\n",
       "    </tr>\n",
       "  </tbody>\n",
       "</table>\n",
       "</div>"
      ],
      "text/plain": [
       "             Arnab  Adnan  Ayesha  Preeti  Adiba\n",
       "English         90     54      97      98     66\n",
       "Hindi           78     77      66      88     89\n",
       "Mathematics     57     89      81      76     90\n",
       "Science         90     87      90     100     81"
      ]
     },
     "execution_count": 120,
     "metadata": {},
     "output_type": "execute_result"
    }
   ],
   "source": [
    "ResultDF\n"
   ]
  },
  {
   "cell_type": "code",
   "execution_count": 121,
   "id": "ea6841a2",
   "metadata": {},
   "outputs": [
    {
     "data": {
      "text/plain": [
       "English        False\n",
       "Hindi          False\n",
       "Mathematics    False\n",
       "Science        False\n",
       "Name: Arnab, dtype: bool"
      ]
     },
     "execution_count": 121,
     "metadata": {},
     "output_type": "execute_result"
    }
   ],
   "source": [
    "ResultDF.loc[:,'Arnab']>90"
   ]
  },
  {
   "cell_type": "code",
   "execution_count": 122,
   "id": "5c2d7e42",
   "metadata": {},
   "outputs": [
    {
     "data": {
      "text/plain": [
       "Arnab     False\n",
       "Adnan     False\n",
       "Ayesha    False\n",
       "Preeti    False\n",
       "Adiba     False\n",
       "Name: Mathematics, dtype: bool"
      ]
     },
     "execution_count": 122,
     "metadata": {},
     "output_type": "execute_result"
    }
   ],
   "source": [
    "ResultDF.loc['Mathematics',:]>90"
   ]
  },
  {
   "cell_type": "markdown",
   "id": "32238459",
   "metadata": {},
   "source": [
    "# <h3><center>Filtering Rows in DataFrames<center><h3>"
   ]
  },
  {
   "cell_type": "code",
   "execution_count": 123,
   "id": "0db8cecf",
   "metadata": {},
   "outputs": [
    {
     "data": {
      "text/html": [
       "<div>\n",
       "<style scoped>\n",
       "    .dataframe tbody tr th:only-of-type {\n",
       "        vertical-align: middle;\n",
       "    }\n",
       "\n",
       "    .dataframe tbody tr th {\n",
       "        vertical-align: top;\n",
       "    }\n",
       "\n",
       "    .dataframe thead th {\n",
       "        text-align: right;\n",
       "    }\n",
       "</style>\n",
       "<table border=\"1\" class=\"dataframe\">\n",
       "  <thead>\n",
       "    <tr style=\"text-align: right;\">\n",
       "      <th></th>\n",
       "      <th>Arnab</th>\n",
       "      <th>Adnan</th>\n",
       "      <th>Ayesha</th>\n",
       "      <th>Preeti</th>\n",
       "      <th>Adiba</th>\n",
       "    </tr>\n",
       "  </thead>\n",
       "  <tbody>\n",
       "    <tr>\n",
       "      <th>English</th>\n",
       "      <td>90</td>\n",
       "      <td>54</td>\n",
       "      <td>97</td>\n",
       "      <td>98</td>\n",
       "      <td>66</td>\n",
       "    </tr>\n",
       "    <tr>\n",
       "      <th>Hindi</th>\n",
       "      <td>78</td>\n",
       "      <td>77</td>\n",
       "      <td>66</td>\n",
       "      <td>88</td>\n",
       "      <td>89</td>\n",
       "    </tr>\n",
       "    <tr>\n",
       "      <th>Mathematics</th>\n",
       "      <td>57</td>\n",
       "      <td>89</td>\n",
       "      <td>81</td>\n",
       "      <td>76</td>\n",
       "      <td>90</td>\n",
       "    </tr>\n",
       "    <tr>\n",
       "      <th>Science</th>\n",
       "      <td>90</td>\n",
       "      <td>87</td>\n",
       "      <td>90</td>\n",
       "      <td>100</td>\n",
       "      <td>81</td>\n",
       "    </tr>\n",
       "  </tbody>\n",
       "</table>\n",
       "</div>"
      ],
      "text/plain": [
       "             Arnab  Adnan  Ayesha  Preeti  Adiba\n",
       "English         90     54      97      98     66\n",
       "Hindi           78     77      66      88     89\n",
       "Mathematics     57     89      81      76     90\n",
       "Science         90     87      90     100     81"
      ]
     },
     "execution_count": 123,
     "metadata": {},
     "output_type": "execute_result"
    }
   ],
   "source": [
    "ResultDF"
   ]
  },
  {
   "cell_type": "code",
   "execution_count": 124,
   "id": "f560abe1",
   "metadata": {},
   "outputs": [
    {
     "data": {
      "text/html": [
       "<div>\n",
       "<style scoped>\n",
       "    .dataframe tbody tr th:only-of-type {\n",
       "        vertical-align: middle;\n",
       "    }\n",
       "\n",
       "    .dataframe tbody tr th {\n",
       "        vertical-align: top;\n",
       "    }\n",
       "\n",
       "    .dataframe thead th {\n",
       "        text-align: right;\n",
       "    }\n",
       "</style>\n",
       "<table border=\"1\" class=\"dataframe\">\n",
       "  <thead>\n",
       "    <tr style=\"text-align: right;\">\n",
       "      <th></th>\n",
       "      <th>Arnab</th>\n",
       "      <th>Adnan</th>\n",
       "      <th>Ayesha</th>\n",
       "      <th>Preeti</th>\n",
       "      <th>Adiba</th>\n",
       "    </tr>\n",
       "  </thead>\n",
       "  <tbody>\n",
       "    <tr>\n",
       "      <th>English</th>\n",
       "      <td>90</td>\n",
       "      <td>54</td>\n",
       "      <td>97</td>\n",
       "      <td>98</td>\n",
       "      <td>66</td>\n",
       "    </tr>\n",
       "    <tr>\n",
       "      <th>Mathematics</th>\n",
       "      <td>57</td>\n",
       "      <td>89</td>\n",
       "      <td>81</td>\n",
       "      <td>76</td>\n",
       "      <td>90</td>\n",
       "    </tr>\n",
       "  </tbody>\n",
       "</table>\n",
       "</div>"
      ],
      "text/plain": [
       "             Arnab  Adnan  Ayesha  Preeti  Adiba\n",
       "English         90     54      97      98     66\n",
       "Mathematics     57     89      81      76     90"
      ]
     },
     "execution_count": 124,
     "metadata": {},
     "output_type": "execute_result"
    }
   ],
   "source": [
    "ResultDF.loc[[True,False,True,False ],:]"
   ]
  },
  {
   "cell_type": "code",
   "execution_count": 125,
   "id": "3c1ca3b6",
   "metadata": {},
   "outputs": [
    {
     "data": {
      "text/html": [
       "<div>\n",
       "<style scoped>\n",
       "    .dataframe tbody tr th:only-of-type {\n",
       "        vertical-align: middle;\n",
       "    }\n",
       "\n",
       "    .dataframe tbody tr th {\n",
       "        vertical-align: top;\n",
       "    }\n",
       "\n",
       "    .dataframe thead th {\n",
       "        text-align: right;\n",
       "    }\n",
       "</style>\n",
       "<table border=\"1\" class=\"dataframe\">\n",
       "  <thead>\n",
       "    <tr style=\"text-align: right;\">\n",
       "      <th></th>\n",
       "      <th>Adnan</th>\n",
       "    </tr>\n",
       "  </thead>\n",
       "  <tbody>\n",
       "    <tr>\n",
       "      <th>English</th>\n",
       "      <td>54</td>\n",
       "    </tr>\n",
       "    <tr>\n",
       "      <th>Mathematics</th>\n",
       "      <td>89</td>\n",
       "    </tr>\n",
       "  </tbody>\n",
       "</table>\n",
       "</div>"
      ],
      "text/plain": [
       "             Adnan\n",
       "English         54\n",
       "Mathematics     89"
      ]
     },
     "execution_count": 125,
     "metadata": {},
     "output_type": "execute_result"
    }
   ],
   "source": [
    "ResultDF.loc[[True,False,True,False ],[False,True,False,False,False]]"
   ]
  },
  {
   "cell_type": "markdown",
   "id": "d41c8c20",
   "metadata": {},
   "source": [
    "# <h2><center>Joining, Merging and Concatenation of DataFrames<center><h2>"
   ]
  },
  {
   "cell_type": "code",
   "execution_count": 126,
   "id": "470b6d9c",
   "metadata": {},
   "outputs": [],
   "source": [
    "dFrame1=pd.DataFrame([[1,2,3,4],[4,5,6,7]],columns=['C1','C2','C3','C4'],index=['R1','R2'])\n",
    "dFrame2=pd.DataFrame([[2,3,4,5],[9,8,7,6]],columns=['C2','C4','C8','C9'],index=['R2','R3'])"
   ]
  },
  {
   "cell_type": "code",
   "execution_count": null,
   "id": "88b583e7",
   "metadata": {},
   "outputs": [],
   "source": []
  },
  {
   "cell_type": "code",
   "execution_count": 127,
   "id": "1d80bdb2",
   "metadata": {},
   "outputs": [
    {
     "data": {
      "text/plain": [
       "(    C1  C2  C3  C4\n",
       " R1   1   2   3   4\n",
       " R2   4   5   6   7,\n",
       "     C2  C4  C8  C9\n",
       " R2   2   3   4   5\n",
       " R3   9   8   7   6)"
      ]
     },
     "execution_count": 127,
     "metadata": {},
     "output_type": "execute_result"
    }
   ],
   "source": [
    "dFrame1,dFrame2"
   ]
  },
  {
   "cell_type": "code",
   "execution_count": 128,
   "id": "6f89865b",
   "metadata": {},
   "outputs": [
    {
     "name": "stderr",
     "output_type": "stream",
     "text": [
      "C:\\Users\\TOSHIBA\\AppData\\Local\\Temp\\ipykernel_11932\\1538218845.py:1: FutureWarning: The frame.append method is deprecated and will be removed from pandas in a future version. Use pandas.concat instead.\n",
      "  dFrame1.append(dFrame2)\n"
     ]
    },
    {
     "data": {
      "text/html": [
       "<div>\n",
       "<style scoped>\n",
       "    .dataframe tbody tr th:only-of-type {\n",
       "        vertical-align: middle;\n",
       "    }\n",
       "\n",
       "    .dataframe tbody tr th {\n",
       "        vertical-align: top;\n",
       "    }\n",
       "\n",
       "    .dataframe thead th {\n",
       "        text-align: right;\n",
       "    }\n",
       "</style>\n",
       "<table border=\"1\" class=\"dataframe\">\n",
       "  <thead>\n",
       "    <tr style=\"text-align: right;\">\n",
       "      <th></th>\n",
       "      <th>C1</th>\n",
       "      <th>C2</th>\n",
       "      <th>C3</th>\n",
       "      <th>C4</th>\n",
       "      <th>C8</th>\n",
       "      <th>C9</th>\n",
       "    </tr>\n",
       "  </thead>\n",
       "  <tbody>\n",
       "    <tr>\n",
       "      <th>R1</th>\n",
       "      <td>1.0</td>\n",
       "      <td>2</td>\n",
       "      <td>3.0</td>\n",
       "      <td>4</td>\n",
       "      <td>NaN</td>\n",
       "      <td>NaN</td>\n",
       "    </tr>\n",
       "    <tr>\n",
       "      <th>R2</th>\n",
       "      <td>4.0</td>\n",
       "      <td>5</td>\n",
       "      <td>6.0</td>\n",
       "      <td>7</td>\n",
       "      <td>NaN</td>\n",
       "      <td>NaN</td>\n",
       "    </tr>\n",
       "    <tr>\n",
       "      <th>R2</th>\n",
       "      <td>NaN</td>\n",
       "      <td>2</td>\n",
       "      <td>NaN</td>\n",
       "      <td>3</td>\n",
       "      <td>4.0</td>\n",
       "      <td>5.0</td>\n",
       "    </tr>\n",
       "    <tr>\n",
       "      <th>R3</th>\n",
       "      <td>NaN</td>\n",
       "      <td>9</td>\n",
       "      <td>NaN</td>\n",
       "      <td>8</td>\n",
       "      <td>7.0</td>\n",
       "      <td>6.0</td>\n",
       "    </tr>\n",
       "  </tbody>\n",
       "</table>\n",
       "</div>"
      ],
      "text/plain": [
       "     C1  C2   C3  C4   C8   C9\n",
       "R1  1.0   2  3.0   4  NaN  NaN\n",
       "R2  4.0   5  6.0   7  NaN  NaN\n",
       "R2  NaN   2  NaN   3  4.0  5.0\n",
       "R3  NaN   9  NaN   8  7.0  6.0"
      ]
     },
     "execution_count": 128,
     "metadata": {},
     "output_type": "execute_result"
    }
   ],
   "source": [
    "dFrame1.append(dFrame2)"
   ]
  },
  {
   "cell_type": "code",
   "execution_count": 129,
   "id": "0dd38ff8",
   "metadata": {},
   "outputs": [
    {
     "name": "stderr",
     "output_type": "stream",
     "text": [
      "C:\\Users\\TOSHIBA\\AppData\\Local\\Temp\\ipykernel_11932\\357663245.py:1: FutureWarning: The frame.append method is deprecated and will be removed from pandas in a future version. Use pandas.concat instead.\n",
      "  dFrame2.append(dFrame1)\n"
     ]
    },
    {
     "data": {
      "text/html": [
       "<div>\n",
       "<style scoped>\n",
       "    .dataframe tbody tr th:only-of-type {\n",
       "        vertical-align: middle;\n",
       "    }\n",
       "\n",
       "    .dataframe tbody tr th {\n",
       "        vertical-align: top;\n",
       "    }\n",
       "\n",
       "    .dataframe thead th {\n",
       "        text-align: right;\n",
       "    }\n",
       "</style>\n",
       "<table border=\"1\" class=\"dataframe\">\n",
       "  <thead>\n",
       "    <tr style=\"text-align: right;\">\n",
       "      <th></th>\n",
       "      <th>C2</th>\n",
       "      <th>C4</th>\n",
       "      <th>C8</th>\n",
       "      <th>C9</th>\n",
       "      <th>C1</th>\n",
       "      <th>C3</th>\n",
       "    </tr>\n",
       "  </thead>\n",
       "  <tbody>\n",
       "    <tr>\n",
       "      <th>R2</th>\n",
       "      <td>2</td>\n",
       "      <td>3</td>\n",
       "      <td>4.0</td>\n",
       "      <td>5.0</td>\n",
       "      <td>NaN</td>\n",
       "      <td>NaN</td>\n",
       "    </tr>\n",
       "    <tr>\n",
       "      <th>R3</th>\n",
       "      <td>9</td>\n",
       "      <td>8</td>\n",
       "      <td>7.0</td>\n",
       "      <td>6.0</td>\n",
       "      <td>NaN</td>\n",
       "      <td>NaN</td>\n",
       "    </tr>\n",
       "    <tr>\n",
       "      <th>R1</th>\n",
       "      <td>2</td>\n",
       "      <td>4</td>\n",
       "      <td>NaN</td>\n",
       "      <td>NaN</td>\n",
       "      <td>1.0</td>\n",
       "      <td>3.0</td>\n",
       "    </tr>\n",
       "    <tr>\n",
       "      <th>R2</th>\n",
       "      <td>5</td>\n",
       "      <td>7</td>\n",
       "      <td>NaN</td>\n",
       "      <td>NaN</td>\n",
       "      <td>4.0</td>\n",
       "      <td>6.0</td>\n",
       "    </tr>\n",
       "  </tbody>\n",
       "</table>\n",
       "</div>"
      ],
      "text/plain": [
       "    C2  C4   C8   C9   C1   C3\n",
       "R2   2   3  4.0  5.0  NaN  NaN\n",
       "R3   9   8  7.0  6.0  NaN  NaN\n",
       "R1   2   4  NaN  NaN  1.0  3.0\n",
       "R2   5   7  NaN  NaN  4.0  6.0"
      ]
     },
     "execution_count": 129,
     "metadata": {},
     "output_type": "execute_result"
    }
   ],
   "source": [
    "dFrame2.append(dFrame1)"
   ]
  },
  {
   "cell_type": "code",
   "execution_count": 130,
   "id": "2402712f",
   "metadata": {},
   "outputs": [
    {
     "name": "stderr",
     "output_type": "stream",
     "text": [
      "C:\\Users\\TOSHIBA\\AppData\\Local\\Temp\\ipykernel_11932\\2918747504.py:1: FutureWarning: The frame.append method is deprecated and will be removed from pandas in a future version. Use pandas.concat instead.\n",
      "  dFrame2.append(dFrame1,sort=True)\n"
     ]
    },
    {
     "data": {
      "text/html": [
       "<div>\n",
       "<style scoped>\n",
       "    .dataframe tbody tr th:only-of-type {\n",
       "        vertical-align: middle;\n",
       "    }\n",
       "\n",
       "    .dataframe tbody tr th {\n",
       "        vertical-align: top;\n",
       "    }\n",
       "\n",
       "    .dataframe thead th {\n",
       "        text-align: right;\n",
       "    }\n",
       "</style>\n",
       "<table border=\"1\" class=\"dataframe\">\n",
       "  <thead>\n",
       "    <tr style=\"text-align: right;\">\n",
       "      <th></th>\n",
       "      <th>C1</th>\n",
       "      <th>C2</th>\n",
       "      <th>C3</th>\n",
       "      <th>C4</th>\n",
       "      <th>C8</th>\n",
       "      <th>C9</th>\n",
       "    </tr>\n",
       "  </thead>\n",
       "  <tbody>\n",
       "    <tr>\n",
       "      <th>R2</th>\n",
       "      <td>NaN</td>\n",
       "      <td>2</td>\n",
       "      <td>NaN</td>\n",
       "      <td>3</td>\n",
       "      <td>4.0</td>\n",
       "      <td>5.0</td>\n",
       "    </tr>\n",
       "    <tr>\n",
       "      <th>R3</th>\n",
       "      <td>NaN</td>\n",
       "      <td>9</td>\n",
       "      <td>NaN</td>\n",
       "      <td>8</td>\n",
       "      <td>7.0</td>\n",
       "      <td>6.0</td>\n",
       "    </tr>\n",
       "    <tr>\n",
       "      <th>R1</th>\n",
       "      <td>1.0</td>\n",
       "      <td>2</td>\n",
       "      <td>3.0</td>\n",
       "      <td>4</td>\n",
       "      <td>NaN</td>\n",
       "      <td>NaN</td>\n",
       "    </tr>\n",
       "    <tr>\n",
       "      <th>R2</th>\n",
       "      <td>4.0</td>\n",
       "      <td>5</td>\n",
       "      <td>6.0</td>\n",
       "      <td>7</td>\n",
       "      <td>NaN</td>\n",
       "      <td>NaN</td>\n",
       "    </tr>\n",
       "  </tbody>\n",
       "</table>\n",
       "</div>"
      ],
      "text/plain": [
       "     C1  C2   C3  C4   C8   C9\n",
       "R2  NaN   2  NaN   3  4.0  5.0\n",
       "R3  NaN   9  NaN   8  7.0  6.0\n",
       "R1  1.0   2  3.0   4  NaN  NaN\n",
       "R2  4.0   5  6.0   7  NaN  NaN"
      ]
     },
     "execution_count": 130,
     "metadata": {},
     "output_type": "execute_result"
    }
   ],
   "source": [
    "dFrame2.append(dFrame1,sort=True)"
   ]
  },
  {
   "cell_type": "code",
   "execution_count": 131,
   "id": "e74ec5c7",
   "metadata": {},
   "outputs": [
    {
     "name": "stderr",
     "output_type": "stream",
     "text": [
      "C:\\Users\\TOSHIBA\\AppData\\Local\\Temp\\ipykernel_11932\\922966555.py:1: FutureWarning: The frame.append method is deprecated and will be removed from pandas in a future version. Use pandas.concat instead.\n",
      "  dFrame1.append(dFrame2,ignore_index=True)\n"
     ]
    },
    {
     "data": {
      "text/html": [
       "<div>\n",
       "<style scoped>\n",
       "    .dataframe tbody tr th:only-of-type {\n",
       "        vertical-align: middle;\n",
       "    }\n",
       "\n",
       "    .dataframe tbody tr th {\n",
       "        vertical-align: top;\n",
       "    }\n",
       "\n",
       "    .dataframe thead th {\n",
       "        text-align: right;\n",
       "    }\n",
       "</style>\n",
       "<table border=\"1\" class=\"dataframe\">\n",
       "  <thead>\n",
       "    <tr style=\"text-align: right;\">\n",
       "      <th></th>\n",
       "      <th>C1</th>\n",
       "      <th>C2</th>\n",
       "      <th>C3</th>\n",
       "      <th>C4</th>\n",
       "      <th>C8</th>\n",
       "      <th>C9</th>\n",
       "    </tr>\n",
       "  </thead>\n",
       "  <tbody>\n",
       "    <tr>\n",
       "      <th>0</th>\n",
       "      <td>1.0</td>\n",
       "      <td>2</td>\n",
       "      <td>3.0</td>\n",
       "      <td>4</td>\n",
       "      <td>NaN</td>\n",
       "      <td>NaN</td>\n",
       "    </tr>\n",
       "    <tr>\n",
       "      <th>1</th>\n",
       "      <td>4.0</td>\n",
       "      <td>5</td>\n",
       "      <td>6.0</td>\n",
       "      <td>7</td>\n",
       "      <td>NaN</td>\n",
       "      <td>NaN</td>\n",
       "    </tr>\n",
       "    <tr>\n",
       "      <th>2</th>\n",
       "      <td>NaN</td>\n",
       "      <td>2</td>\n",
       "      <td>NaN</td>\n",
       "      <td>3</td>\n",
       "      <td>4.0</td>\n",
       "      <td>5.0</td>\n",
       "    </tr>\n",
       "    <tr>\n",
       "      <th>3</th>\n",
       "      <td>NaN</td>\n",
       "      <td>9</td>\n",
       "      <td>NaN</td>\n",
       "      <td>8</td>\n",
       "      <td>7.0</td>\n",
       "      <td>6.0</td>\n",
       "    </tr>\n",
       "  </tbody>\n",
       "</table>\n",
       "</div>"
      ],
      "text/plain": [
       "    C1  C2   C3  C4   C8   C9\n",
       "0  1.0   2  3.0   4  NaN  NaN\n",
       "1  4.0   5  6.0   7  NaN  NaN\n",
       "2  NaN   2  NaN   3  4.0  5.0\n",
       "3  NaN   9  NaN   8  7.0  6.0"
      ]
     },
     "execution_count": 131,
     "metadata": {},
     "output_type": "execute_result"
    }
   ],
   "source": [
    "dFrame1.append(dFrame2,ignore_index=True)"
   ]
  },
  {
   "cell_type": "markdown",
   "id": "1e9689da",
   "metadata": {},
   "source": [
    "# <h3><center> Attributes of DataFrames<center><h3>"
   ]
  },
  {
   "cell_type": "code",
   "execution_count": 132,
   "id": "b104d815",
   "metadata": {},
   "outputs": [],
   "source": [
    "ForestArea = {\n",
    " 'Assam' :pd.Series([78438, 2797, \n",
    "10192, 15116], index = ['GeoArea', 'VeryDense', \n",
    "'ModeratelyDense', 'OpenForest']),\n",
    " 'Kerala' :pd.Series([ 38852, 1663, \n",
    "9407, 9251], index = ['GeoArea' ,'VeryDense', \n",
    "'ModeratelyDense', 'OpenForest']),\n",
    " 'Delhi' :pd.Series([1483, 6.72, 56.24, \n",
    "129.45], index = ['GeoArea', 'VeryDense', \n",
    "'ModeratelyDense', 'OpenForest'])}"
   ]
  },
  {
   "cell_type": "code",
   "execution_count": 133,
   "id": "86ba07bc",
   "metadata": {},
   "outputs": [
    {
     "data": {
      "text/plain": [
       "{'Assam': GeoArea            78438\n",
       " VeryDense           2797\n",
       " ModeratelyDense    10192\n",
       " OpenForest         15116\n",
       " dtype: int64,\n",
       " 'Kerala': GeoArea            38852\n",
       " VeryDense           1663\n",
       " ModeratelyDense     9407\n",
       " OpenForest          9251\n",
       " dtype: int64,\n",
       " 'Delhi': GeoArea            1483.00\n",
       " VeryDense             6.72\n",
       " ModeratelyDense      56.24\n",
       " OpenForest          129.45\n",
       " dtype: float64}"
      ]
     },
     "execution_count": 133,
     "metadata": {},
     "output_type": "execute_result"
    }
   ],
   "source": [
    "ForestArea"
   ]
  },
  {
   "cell_type": "code",
   "execution_count": 134,
   "id": "ffbaf767",
   "metadata": {},
   "outputs": [],
   "source": [
    " ForestAreaDF = pd.DataFrame(ForestArea)"
   ]
  },
  {
   "cell_type": "code",
   "execution_count": 135,
   "id": "c37e0e04",
   "metadata": {},
   "outputs": [
    {
     "data": {
      "text/html": [
       "<div>\n",
       "<style scoped>\n",
       "    .dataframe tbody tr th:only-of-type {\n",
       "        vertical-align: middle;\n",
       "    }\n",
       "\n",
       "    .dataframe tbody tr th {\n",
       "        vertical-align: top;\n",
       "    }\n",
       "\n",
       "    .dataframe thead th {\n",
       "        text-align: right;\n",
       "    }\n",
       "</style>\n",
       "<table border=\"1\" class=\"dataframe\">\n",
       "  <thead>\n",
       "    <tr style=\"text-align: right;\">\n",
       "      <th></th>\n",
       "      <th>Assam</th>\n",
       "      <th>Kerala</th>\n",
       "      <th>Delhi</th>\n",
       "    </tr>\n",
       "  </thead>\n",
       "  <tbody>\n",
       "    <tr>\n",
       "      <th>GeoArea</th>\n",
       "      <td>78438</td>\n",
       "      <td>38852</td>\n",
       "      <td>1483.00</td>\n",
       "    </tr>\n",
       "    <tr>\n",
       "      <th>VeryDense</th>\n",
       "      <td>2797</td>\n",
       "      <td>1663</td>\n",
       "      <td>6.72</td>\n",
       "    </tr>\n",
       "    <tr>\n",
       "      <th>ModeratelyDense</th>\n",
       "      <td>10192</td>\n",
       "      <td>9407</td>\n",
       "      <td>56.24</td>\n",
       "    </tr>\n",
       "    <tr>\n",
       "      <th>OpenForest</th>\n",
       "      <td>15116</td>\n",
       "      <td>9251</td>\n",
       "      <td>129.45</td>\n",
       "    </tr>\n",
       "  </tbody>\n",
       "</table>\n",
       "</div>"
      ],
      "text/plain": [
       "                 Assam  Kerala    Delhi\n",
       "GeoArea          78438   38852  1483.00\n",
       "VeryDense         2797    1663     6.72\n",
       "ModeratelyDense  10192    9407    56.24\n",
       "OpenForest       15116    9251   129.45"
      ]
     },
     "execution_count": 135,
     "metadata": {},
     "output_type": "execute_result"
    }
   ],
   "source": [
    "ForestAreaDF"
   ]
  },
  {
   "cell_type": "code",
   "execution_count": 136,
   "id": "678e2f49",
   "metadata": {},
   "outputs": [
    {
     "data": {
      "text/plain": [
       "Index(['GeoArea', 'VeryDense', 'ModeratelyDense', 'OpenForest'], dtype='object')"
      ]
     },
     "execution_count": 136,
     "metadata": {},
     "output_type": "execute_result"
    }
   ],
   "source": [
    "ForestAreaDF.index"
   ]
  },
  {
   "cell_type": "code",
   "execution_count": 137,
   "id": "10248b78",
   "metadata": {},
   "outputs": [
    {
     "data": {
      "text/plain": [
       "Index(['Assam', 'Kerala', 'Delhi'], dtype='object')"
      ]
     },
     "execution_count": 137,
     "metadata": {},
     "output_type": "execute_result"
    }
   ],
   "source": [
    "ForestAreaDF.columns"
   ]
  },
  {
   "cell_type": "code",
   "execution_count": 138,
   "id": "a84e9c40",
   "metadata": {},
   "outputs": [
    {
     "data": {
      "text/plain": [
       "Assam       int64\n",
       "Kerala      int64\n",
       "Delhi     float64\n",
       "dtype: object"
      ]
     },
     "execution_count": 138,
     "metadata": {},
     "output_type": "execute_result"
    }
   ],
   "source": [
    "ForestAreaDF.dtypes"
   ]
  },
  {
   "cell_type": "code",
   "execution_count": 139,
   "id": "71a2288b",
   "metadata": {},
   "outputs": [
    {
     "data": {
      "text/plain": [
       "array([[7.8438e+04, 3.8852e+04, 1.4830e+03],\n",
       "       [2.7970e+03, 1.6630e+03, 6.7200e+00],\n",
       "       [1.0192e+04, 9.4070e+03, 5.6240e+01],\n",
       "       [1.5116e+04, 9.2510e+03, 1.2945e+02]])"
      ]
     },
     "execution_count": 139,
     "metadata": {},
     "output_type": "execute_result"
    }
   ],
   "source": [
    "ForestAreaDF.values"
   ]
  },
  {
   "cell_type": "code",
   "execution_count": 140,
   "id": "315ffbad",
   "metadata": {},
   "outputs": [
    {
     "data": {
      "text/plain": [
       "(4, 3)"
      ]
     },
     "execution_count": 140,
     "metadata": {},
     "output_type": "execute_result"
    }
   ],
   "source": [
    "ForestAreaDF.shape"
   ]
  },
  {
   "cell_type": "code",
   "execution_count": 141,
   "id": "9d5737f4",
   "metadata": {},
   "outputs": [
    {
     "data": {
      "text/plain": [
       "12"
      ]
     },
     "execution_count": 141,
     "metadata": {},
     "output_type": "execute_result"
    }
   ],
   "source": [
    "ForestAreaDF.size"
   ]
  },
  {
   "cell_type": "code",
   "execution_count": 142,
   "id": "63faf110",
   "metadata": {},
   "outputs": [
    {
     "data": {
      "text/html": [
       "<div>\n",
       "<style scoped>\n",
       "    .dataframe tbody tr th:only-of-type {\n",
       "        vertical-align: middle;\n",
       "    }\n",
       "\n",
       "    .dataframe tbody tr th {\n",
       "        vertical-align: top;\n",
       "    }\n",
       "\n",
       "    .dataframe thead th {\n",
       "        text-align: right;\n",
       "    }\n",
       "</style>\n",
       "<table border=\"1\" class=\"dataframe\">\n",
       "  <thead>\n",
       "    <tr style=\"text-align: right;\">\n",
       "      <th></th>\n",
       "      <th>GeoArea</th>\n",
       "      <th>VeryDense</th>\n",
       "      <th>ModeratelyDense</th>\n",
       "      <th>OpenForest</th>\n",
       "    </tr>\n",
       "  </thead>\n",
       "  <tbody>\n",
       "    <tr>\n",
       "      <th>Assam</th>\n",
       "      <td>78438.0</td>\n",
       "      <td>2797.00</td>\n",
       "      <td>10192.00</td>\n",
       "      <td>15116.00</td>\n",
       "    </tr>\n",
       "    <tr>\n",
       "      <th>Kerala</th>\n",
       "      <td>38852.0</td>\n",
       "      <td>1663.00</td>\n",
       "      <td>9407.00</td>\n",
       "      <td>9251.00</td>\n",
       "    </tr>\n",
       "    <tr>\n",
       "      <th>Delhi</th>\n",
       "      <td>1483.0</td>\n",
       "      <td>6.72</td>\n",
       "      <td>56.24</td>\n",
       "      <td>129.45</td>\n",
       "    </tr>\n",
       "  </tbody>\n",
       "</table>\n",
       "</div>"
      ],
      "text/plain": [
       "        GeoArea  VeryDense  ModeratelyDense  OpenForest\n",
       "Assam   78438.0    2797.00         10192.00    15116.00\n",
       "Kerala  38852.0    1663.00          9407.00     9251.00\n",
       "Delhi    1483.0       6.72            56.24      129.45"
      ]
     },
     "execution_count": 142,
     "metadata": {},
     "output_type": "execute_result"
    }
   ],
   "source": [
    "ForestAreaDF.T"
   ]
  },
  {
   "cell_type": "code",
   "execution_count": 143,
   "id": "a883370c",
   "metadata": {},
   "outputs": [
    {
     "data": {
      "text/html": [
       "<div>\n",
       "<style scoped>\n",
       "    .dataframe tbody tr th:only-of-type {\n",
       "        vertical-align: middle;\n",
       "    }\n",
       "\n",
       "    .dataframe tbody tr th {\n",
       "        vertical-align: top;\n",
       "    }\n",
       "\n",
       "    .dataframe thead th {\n",
       "        text-align: right;\n",
       "    }\n",
       "</style>\n",
       "<table border=\"1\" class=\"dataframe\">\n",
       "  <thead>\n",
       "    <tr style=\"text-align: right;\">\n",
       "      <th></th>\n",
       "      <th>Assam</th>\n",
       "      <th>Kerala</th>\n",
       "      <th>Delhi</th>\n",
       "    </tr>\n",
       "  </thead>\n",
       "  <tbody>\n",
       "    <tr>\n",
       "      <th>GeoArea</th>\n",
       "      <td>78438</td>\n",
       "      <td>38852</td>\n",
       "      <td>1483.00</td>\n",
       "    </tr>\n",
       "    <tr>\n",
       "      <th>VeryDense</th>\n",
       "      <td>2797</td>\n",
       "      <td>1663</td>\n",
       "      <td>6.72</td>\n",
       "    </tr>\n",
       "    <tr>\n",
       "      <th>ModeratelyDense</th>\n",
       "      <td>10192</td>\n",
       "      <td>9407</td>\n",
       "      <td>56.24</td>\n",
       "    </tr>\n",
       "  </tbody>\n",
       "</table>\n",
       "</div>"
      ],
      "text/plain": [
       "                 Assam  Kerala    Delhi\n",
       "GeoArea          78438   38852  1483.00\n",
       "VeryDense         2797    1663     6.72\n",
       "ModeratelyDense  10192    9407    56.24"
      ]
     },
     "execution_count": 143,
     "metadata": {},
     "output_type": "execute_result"
    }
   ],
   "source": [
    "ForestAreaDF.head(3)"
   ]
  },
  {
   "cell_type": "code",
   "execution_count": 144,
   "id": "ed2f4b08",
   "metadata": {},
   "outputs": [
    {
     "data": {
      "text/html": [
       "<div>\n",
       "<style scoped>\n",
       "    .dataframe tbody tr th:only-of-type {\n",
       "        vertical-align: middle;\n",
       "    }\n",
       "\n",
       "    .dataframe tbody tr th {\n",
       "        vertical-align: top;\n",
       "    }\n",
       "\n",
       "    .dataframe thead th {\n",
       "        text-align: right;\n",
       "    }\n",
       "</style>\n",
       "<table border=\"1\" class=\"dataframe\">\n",
       "  <thead>\n",
       "    <tr style=\"text-align: right;\">\n",
       "      <th></th>\n",
       "      <th>Assam</th>\n",
       "      <th>Kerala</th>\n",
       "      <th>Delhi</th>\n",
       "    </tr>\n",
       "  </thead>\n",
       "  <tbody>\n",
       "    <tr>\n",
       "      <th>ModeratelyDense</th>\n",
       "      <td>10192</td>\n",
       "      <td>9407</td>\n",
       "      <td>56.24</td>\n",
       "    </tr>\n",
       "    <tr>\n",
       "      <th>OpenForest</th>\n",
       "      <td>15116</td>\n",
       "      <td>9251</td>\n",
       "      <td>129.45</td>\n",
       "    </tr>\n",
       "  </tbody>\n",
       "</table>\n",
       "</div>"
      ],
      "text/plain": [
       "                 Assam  Kerala   Delhi\n",
       "ModeratelyDense  10192    9407   56.24\n",
       "OpenForest       15116    9251  129.45"
      ]
     },
     "execution_count": 144,
     "metadata": {},
     "output_type": "execute_result"
    }
   ],
   "source": [
    "ForestAreaDF.tail(2)"
   ]
  },
  {
   "cell_type": "code",
   "execution_count": 145,
   "id": "25223958",
   "metadata": {},
   "outputs": [
    {
     "data": {
      "text/plain": [
       "False"
      ]
     },
     "execution_count": 145,
     "metadata": {},
     "output_type": "execute_result"
    }
   ],
   "source": [
    "ForestAreaDF.empty"
   ]
  },
  {
   "cell_type": "code",
   "execution_count": 146,
   "id": "2494ff64",
   "metadata": {},
   "outputs": [
    {
     "data": {
      "text/html": [
       "<div>\n",
       "<style scoped>\n",
       "    .dataframe tbody tr th:only-of-type {\n",
       "        vertical-align: middle;\n",
       "    }\n",
       "\n",
       "    .dataframe tbody tr th {\n",
       "        vertical-align: top;\n",
       "    }\n",
       "\n",
       "    .dataframe thead th {\n",
       "        text-align: right;\n",
       "    }\n",
       "</style>\n",
       "<table border=\"1\" class=\"dataframe\">\n",
       "  <thead>\n",
       "    <tr style=\"text-align: right;\">\n",
       "      <th></th>\n",
       "      <th>Assam</th>\n",
       "      <th>Kerala</th>\n",
       "      <th>Delhi</th>\n",
       "    </tr>\n",
       "  </thead>\n",
       "  <tbody>\n",
       "    <tr>\n",
       "      <th>GeoArea</th>\n",
       "      <td>78438</td>\n",
       "      <td>38852</td>\n",
       "      <td>1483.00</td>\n",
       "    </tr>\n",
       "    <tr>\n",
       "      <th>VeryDense</th>\n",
       "      <td>2797</td>\n",
       "      <td>1663</td>\n",
       "      <td>6.72</td>\n",
       "    </tr>\n",
       "    <tr>\n",
       "      <th>ModeratelyDense</th>\n",
       "      <td>10192</td>\n",
       "      <td>9407</td>\n",
       "      <td>56.24</td>\n",
       "    </tr>\n",
       "    <tr>\n",
       "      <th>OpenForest</th>\n",
       "      <td>15116</td>\n",
       "      <td>9251</td>\n",
       "      <td>129.45</td>\n",
       "    </tr>\n",
       "  </tbody>\n",
       "</table>\n",
       "</div>"
      ],
      "text/plain": [
       "                 Assam  Kerala    Delhi\n",
       "GeoArea          78438   38852  1483.00\n",
       "VeryDense         2797    1663     6.72\n",
       "ModeratelyDense  10192    9407    56.24\n",
       "OpenForest       15116    9251   129.45"
      ]
     },
     "execution_count": 146,
     "metadata": {},
     "output_type": "execute_result"
    }
   ],
   "source": [
    "ForestAreaDF"
   ]
  },
  {
   "cell_type": "code",
   "execution_count": 147,
   "id": "7b1856d1",
   "metadata": {},
   "outputs": [
    {
     "data": {
      "text/html": [
       "<div>\n",
       "<style scoped>\n",
       "    .dataframe tbody tr th:only-of-type {\n",
       "        vertical-align: middle;\n",
       "    }\n",
       "\n",
       "    .dataframe tbody tr th {\n",
       "        vertical-align: top;\n",
       "    }\n",
       "\n",
       "    .dataframe thead th {\n",
       "        text-align: right;\n",
       "    }\n",
       "</style>\n",
       "<table border=\"1\" class=\"dataframe\">\n",
       "  <thead>\n",
       "    <tr style=\"text-align: right;\">\n",
       "      <th></th>\n",
       "      <th>Assam</th>\n",
       "      <th>Kerala</th>\n",
       "    </tr>\n",
       "  </thead>\n",
       "  <tbody>\n",
       "    <tr>\n",
       "      <th>GeoArea</th>\n",
       "      <td>78438</td>\n",
       "      <td>38852</td>\n",
       "    </tr>\n",
       "    <tr>\n",
       "      <th>VeryDense</th>\n",
       "      <td>2797</td>\n",
       "      <td>1663</td>\n",
       "    </tr>\n",
       "  </tbody>\n",
       "</table>\n",
       "</div>"
      ],
      "text/plain": [
       "           Assam  Kerala\n",
       "GeoArea    78438   38852\n",
       "VeryDense   2797    1663"
      ]
     },
     "execution_count": 147,
     "metadata": {},
     "output_type": "execute_result"
    }
   ],
   "source": [
    "ForestAreaDF.loc[[\"GeoArea\",\"VeryDense\"],[\"Assam\",\"Kerala\"]]"
   ]
  },
  {
   "cell_type": "code",
   "execution_count": 148,
   "id": "3f1e7fcc",
   "metadata": {},
   "outputs": [
    {
     "data": {
      "text/html": [
       "<div>\n",
       "<style scoped>\n",
       "    .dataframe tbody tr th:only-of-type {\n",
       "        vertical-align: middle;\n",
       "    }\n",
       "\n",
       "    .dataframe tbody tr th {\n",
       "        vertical-align: top;\n",
       "    }\n",
       "\n",
       "    .dataframe thead th {\n",
       "        text-align: right;\n",
       "    }\n",
       "</style>\n",
       "<table border=\"1\" class=\"dataframe\">\n",
       "  <thead>\n",
       "    <tr style=\"text-align: right;\">\n",
       "      <th></th>\n",
       "      <th>Assam</th>\n",
       "      <th>Kerala</th>\n",
       "    </tr>\n",
       "  </thead>\n",
       "  <tbody>\n",
       "    <tr>\n",
       "      <th>VeryDense</th>\n",
       "      <td>2797</td>\n",
       "      <td>1663</td>\n",
       "    </tr>\n",
       "    <tr>\n",
       "      <th>ModeratelyDense</th>\n",
       "      <td>10192</td>\n",
       "      <td>9407</td>\n",
       "    </tr>\n",
       "  </tbody>\n",
       "</table>\n",
       "</div>"
      ],
      "text/plain": [
       "                 Assam  Kerala\n",
       "VeryDense         2797    1663\n",
       "ModeratelyDense  10192    9407"
      ]
     },
     "execution_count": 148,
     "metadata": {},
     "output_type": "execute_result"
    }
   ],
   "source": [
    "ForestAreaDF.iloc[[1,2],[0,1]]"
   ]
  },
  {
   "cell_type": "markdown",
   "id": "5b0b5bed",
   "metadata": {},
   "source": [
    "# <h3><center>Imprting a csv file to a dataframe<center><h3>"
   ]
  },
  {
   "cell_type": "code",
   "execution_count": 161,
   "id": "a5860a0a",
   "metadata": {},
   "outputs": [],
   "source": [
    "marks=pd.read_csv(r\"C:\\Users\\TOSHIBA\\OneDrive\\Desktop\\Pandas\\Studentmarks.txt\",delimiter=\",\",header=0)"
   ]
  },
  {
   "cell_type": "code",
   "execution_count": 162,
   "id": "a0b5e686",
   "metadata": {},
   "outputs": [
    {
     "data": {
      "text/html": [
       "<div>\n",
       "<style scoped>\n",
       "    .dataframe tbody tr th:only-of-type {\n",
       "        vertical-align: middle;\n",
       "    }\n",
       "\n",
       "    .dataframe tbody tr th {\n",
       "        vertical-align: top;\n",
       "    }\n",
       "\n",
       "    .dataframe thead th {\n",
       "        text-align: right;\n",
       "    }\n",
       "</style>\n",
       "<table border=\"1\" class=\"dataframe\">\n",
       "  <thead>\n",
       "    <tr style=\"text-align: right;\">\n",
       "      <th></th>\n",
       "      <th>RollNo</th>\n",
       "      <th>Name</th>\n",
       "      <th>Eco</th>\n",
       "      <th>Maths</th>\n",
       "    </tr>\n",
       "  </thead>\n",
       "  <tbody>\n",
       "    <tr>\n",
       "      <th>0</th>\n",
       "      <td>1</td>\n",
       "      <td>Arnab</td>\n",
       "      <td>18</td>\n",
       "      <td>57</td>\n",
       "    </tr>\n",
       "    <tr>\n",
       "      <th>1</th>\n",
       "      <td>2</td>\n",
       "      <td>Kritika</td>\n",
       "      <td>23</td>\n",
       "      <td>45</td>\n",
       "    </tr>\n",
       "    <tr>\n",
       "      <th>2</th>\n",
       "      <td>3</td>\n",
       "      <td>Divyam</td>\n",
       "      <td>51</td>\n",
       "      <td>37</td>\n",
       "    </tr>\n",
       "    <tr>\n",
       "      <th>3</th>\n",
       "      <td>4</td>\n",
       "      <td>Vivaan</td>\n",
       "      <td>49</td>\n",
       "      <td>60</td>\n",
       "    </tr>\n",
       "    <tr>\n",
       "      <th>4</th>\n",
       "      <td>5</td>\n",
       "      <td>Aroosh</td>\n",
       "      <td>18</td>\n",
       "      <td>27</td>\n",
       "    </tr>\n",
       "    <tr>\n",
       "      <th>5</th>\n",
       "      <td>6</td>\n",
       "      <td>Adnan</td>\n",
       "      <td>16</td>\n",
       "      <td>78</td>\n",
       "    </tr>\n",
       "    <tr>\n",
       "      <th>6</th>\n",
       "      <td>7</td>\n",
       "      <td>Adiba</td>\n",
       "      <td>78</td>\n",
       "      <td>100</td>\n",
       "    </tr>\n",
       "    <tr>\n",
       "      <th>7</th>\n",
       "      <td>8</td>\n",
       "      <td>Arish</td>\n",
       "      <td>87</td>\n",
       "      <td>19</td>\n",
       "    </tr>\n",
       "    <tr>\n",
       "      <th>8</th>\n",
       "      <td>9</td>\n",
       "      <td>Muhammad Suhaib</td>\n",
       "      <td>90</td>\n",
       "      <td>18</td>\n",
       "    </tr>\n",
       "    <tr>\n",
       "      <th>9</th>\n",
       "      <td>10</td>\n",
       "      <td>Aliya</td>\n",
       "      <td>78</td>\n",
       "      <td>88</td>\n",
       "    </tr>\n",
       "  </tbody>\n",
       "</table>\n",
       "</div>"
      ],
      "text/plain": [
       "   RollNo             Name  Eco  Maths\n",
       "0       1            Arnab   18     57\n",
       "1       2          Kritika   23     45\n",
       "2       3           Divyam   51     37\n",
       "3       4           Vivaan   49     60\n",
       "4       5           Aroosh   18     27\n",
       "5       6            Adnan   16     78\n",
       "6       7            Adiba   78    100\n",
       "7       8            Arish   87     19\n",
       "8       9  Muhammad Suhaib   90     18\n",
       "9      10            Aliya   78     88"
      ]
     },
     "execution_count": 162,
     "metadata": {},
     "output_type": "execute_result"
    }
   ],
   "source": [
    "marks"
   ]
  },
  {
   "cell_type": "code",
   "execution_count": 163,
   "id": "aff4db33",
   "metadata": {},
   "outputs": [
    {
     "data": {
      "text/html": [
       "<div>\n",
       "<style scoped>\n",
       "    .dataframe tbody tr th:only-of-type {\n",
       "        vertical-align: middle;\n",
       "    }\n",
       "\n",
       "    .dataframe tbody tr th {\n",
       "        vertical-align: top;\n",
       "    }\n",
       "\n",
       "    .dataframe thead th {\n",
       "        text-align: right;\n",
       "    }\n",
       "</style>\n",
       "<table border=\"1\" class=\"dataframe\">\n",
       "  <thead>\n",
       "    <tr style=\"text-align: right;\">\n",
       "      <th></th>\n",
       "      <th>Name</th>\n",
       "      <th>Eco</th>\n",
       "    </tr>\n",
       "  </thead>\n",
       "  <tbody>\n",
       "    <tr>\n",
       "      <th>2</th>\n",
       "      <td>Divyam</td>\n",
       "      <td>51</td>\n",
       "    </tr>\n",
       "    <tr>\n",
       "      <th>3</th>\n",
       "      <td>Vivaan</td>\n",
       "      <td>49</td>\n",
       "    </tr>\n",
       "  </tbody>\n",
       "</table>\n",
       "</div>"
      ],
      "text/plain": [
       "     Name  Eco\n",
       "2  Divyam   51\n",
       "3  Vivaan   49"
      ]
     },
     "execution_count": 163,
     "metadata": {},
     "output_type": "execute_result"
    }
   ],
   "source": [
    "marks.iloc[[2,3],[1,2]]"
   ]
  },
  {
   "cell_type": "code",
   "execution_count": 164,
   "id": "309eae4f",
   "metadata": {},
   "outputs": [],
   "source": [
    " marks[\"Hindi\"]=[20,99,100,76,56,45,78,30,46,77]"
   ]
  },
  {
   "cell_type": "code",
   "execution_count": 178,
   "id": "ddc37725",
   "metadata": {},
   "outputs": [],
   "source": [
    "marks.iloc[9]=[9,\"Ayush Patel\",89,19,90]"
   ]
  },
  {
   "cell_type": "code",
   "execution_count": 180,
   "id": "7bddb833",
   "metadata": {},
   "outputs": [
    {
     "data": {
      "text/html": [
       "<div>\n",
       "<style scoped>\n",
       "    .dataframe tbody tr th:only-of-type {\n",
       "        vertical-align: middle;\n",
       "    }\n",
       "\n",
       "    .dataframe tbody tr th {\n",
       "        vertical-align: top;\n",
       "    }\n",
       "\n",
       "    .dataframe thead th {\n",
       "        text-align: right;\n",
       "    }\n",
       "</style>\n",
       "<table border=\"1\" class=\"dataframe\">\n",
       "  <thead>\n",
       "    <tr style=\"text-align: right;\">\n",
       "      <th></th>\n",
       "      <th>RollNo</th>\n",
       "      <th>Name</th>\n",
       "      <th>Eco</th>\n",
       "      <th>Maths</th>\n",
       "      <th>Hindi</th>\n",
       "    </tr>\n",
       "  </thead>\n",
       "  <tbody>\n",
       "    <tr>\n",
       "      <th>0</th>\n",
       "      <td>1</td>\n",
       "      <td>Arnab</td>\n",
       "      <td>18</td>\n",
       "      <td>57</td>\n",
       "      <td>20</td>\n",
       "    </tr>\n",
       "    <tr>\n",
       "      <th>1</th>\n",
       "      <td>2</td>\n",
       "      <td>Kritika</td>\n",
       "      <td>23</td>\n",
       "      <td>45</td>\n",
       "      <td>99</td>\n",
       "    </tr>\n",
       "    <tr>\n",
       "      <th>2</th>\n",
       "      <td>3</td>\n",
       "      <td>Divyam</td>\n",
       "      <td>51</td>\n",
       "      <td>37</td>\n",
       "      <td>100</td>\n",
       "    </tr>\n",
       "    <tr>\n",
       "      <th>3</th>\n",
       "      <td>4</td>\n",
       "      <td>Vivaan</td>\n",
       "      <td>49</td>\n",
       "      <td>60</td>\n",
       "      <td>76</td>\n",
       "    </tr>\n",
       "    <tr>\n",
       "      <th>4</th>\n",
       "      <td>5</td>\n",
       "      <td>Aroosh</td>\n",
       "      <td>18</td>\n",
       "      <td>27</td>\n",
       "      <td>56</td>\n",
       "    </tr>\n",
       "    <tr>\n",
       "      <th>5</th>\n",
       "      <td>6</td>\n",
       "      <td>Adnan</td>\n",
       "      <td>16</td>\n",
       "      <td>78</td>\n",
       "      <td>45</td>\n",
       "    </tr>\n",
       "    <tr>\n",
       "      <th>6</th>\n",
       "      <td>7</td>\n",
       "      <td>Adiba</td>\n",
       "      <td>78</td>\n",
       "      <td>100</td>\n",
       "      <td>78</td>\n",
       "    </tr>\n",
       "    <tr>\n",
       "      <th>7</th>\n",
       "      <td>8</td>\n",
       "      <td>Arish</td>\n",
       "      <td>87</td>\n",
       "      <td>19</td>\n",
       "      <td>30</td>\n",
       "    </tr>\n",
       "    <tr>\n",
       "      <th>8</th>\n",
       "      <td>9</td>\n",
       "      <td>Muhammad Suhaib</td>\n",
       "      <td>90</td>\n",
       "      <td>18</td>\n",
       "      <td>46</td>\n",
       "    </tr>\n",
       "    <tr>\n",
       "      <th>9</th>\n",
       "      <td>9</td>\n",
       "      <td>Ayush Patel</td>\n",
       "      <td>89</td>\n",
       "      <td>19</td>\n",
       "      <td>90</td>\n",
       "    </tr>\n",
       "  </tbody>\n",
       "</table>\n",
       "</div>"
      ],
      "text/plain": [
       "   RollNo             Name Eco  Maths  Hindi\n",
       "0       1            Arnab  18     57     20\n",
       "1       2          Kritika  23     45     99\n",
       "2       3           Divyam  51     37    100\n",
       "3       4           Vivaan  49     60     76\n",
       "4       5           Aroosh  18     27     56\n",
       "5       6            Adnan  16     78     45\n",
       "6       7            Adiba  78    100     78\n",
       "7       8            Arish  87     19     30\n",
       "8       9  Muhammad Suhaib  90     18     46\n",
       "9       9      Ayush Patel  89     19     90"
      ]
     },
     "execution_count": 180,
     "metadata": {},
     "output_type": "execute_result"
    }
   ],
   "source": [
    "marks"
   ]
  },
  {
   "cell_type": "code",
   "execution_count": 191,
   "id": "da392788",
   "metadata": {},
   "outputs": [],
   "source": [
    "marks.drop(9,axis=0,inplace=True)"
   ]
  },
  {
   "cell_type": "code",
   "execution_count": 217,
   "id": "82a4c51a",
   "metadata": {},
   "outputs": [
    {
     "data": {
      "text/html": [
       "<div>\n",
       "<style scoped>\n",
       "    .dataframe tbody tr th:only-of-type {\n",
       "        vertical-align: middle;\n",
       "    }\n",
       "\n",
       "    .dataframe tbody tr th {\n",
       "        vertical-align: top;\n",
       "    }\n",
       "\n",
       "    .dataframe thead th {\n",
       "        text-align: right;\n",
       "    }\n",
       "</style>\n",
       "<table border=\"1\" class=\"dataframe\">\n",
       "  <thead>\n",
       "    <tr style=\"text-align: right;\">\n",
       "      <th></th>\n",
       "      <th>RollNo</th>\n",
       "      <th>Name</th>\n",
       "      <th>Eco</th>\n",
       "      <th>Maths</th>\n",
       "      <th>Hindi</th>\n",
       "    </tr>\n",
       "  </thead>\n",
       "  <tbody>\n",
       "    <tr>\n",
       "      <th>0</th>\n",
       "      <td>1</td>\n",
       "      <td>Arnab</td>\n",
       "      <td>18</td>\n",
       "      <td>57</td>\n",
       "      <td>20</td>\n",
       "    </tr>\n",
       "    <tr>\n",
       "      <th>1</th>\n",
       "      <td>2</td>\n",
       "      <td>Kritika</td>\n",
       "      <td>23</td>\n",
       "      <td>45</td>\n",
       "      <td>99</td>\n",
       "    </tr>\n",
       "    <tr>\n",
       "      <th>2</th>\n",
       "      <td>3</td>\n",
       "      <td>Divyam</td>\n",
       "      <td>51</td>\n",
       "      <td>37</td>\n",
       "      <td>100</td>\n",
       "    </tr>\n",
       "    <tr>\n",
       "      <th>3</th>\n",
       "      <td>4</td>\n",
       "      <td>Vivaan</td>\n",
       "      <td>49</td>\n",
       "      <td>60</td>\n",
       "      <td>76</td>\n",
       "    </tr>\n",
       "    <tr>\n",
       "      <th>4</th>\n",
       "      <td>5</td>\n",
       "      <td>Aroosh</td>\n",
       "      <td>18</td>\n",
       "      <td>27</td>\n",
       "      <td>56</td>\n",
       "    </tr>\n",
       "    <tr>\n",
       "      <th>5</th>\n",
       "      <td>6</td>\n",
       "      <td>Adnan</td>\n",
       "      <td>16</td>\n",
       "      <td>78</td>\n",
       "      <td>45</td>\n",
       "    </tr>\n",
       "    <tr>\n",
       "      <th>6</th>\n",
       "      <td>7</td>\n",
       "      <td>Adiba</td>\n",
       "      <td>78</td>\n",
       "      <td>100</td>\n",
       "      <td>78</td>\n",
       "    </tr>\n",
       "    <tr>\n",
       "      <th>7</th>\n",
       "      <td>8</td>\n",
       "      <td>Arish</td>\n",
       "      <td>87</td>\n",
       "      <td>19</td>\n",
       "      <td>30</td>\n",
       "    </tr>\n",
       "    <tr>\n",
       "      <th>8</th>\n",
       "      <td>10</td>\n",
       "      <td>Muhammad Zubair</td>\n",
       "      <td>90</td>\n",
       "      <td>10</td>\n",
       "      <td>91</td>\n",
       "    </tr>\n",
       "  </tbody>\n",
       "</table>\n",
       "</div>"
      ],
      "text/plain": [
       "   RollNo             Name Eco  Maths  Hindi\n",
       "0       1            Arnab  18     57     20\n",
       "1       2          Kritika  23     45     99\n",
       "2       3           Divyam  51     37    100\n",
       "3       4           Vivaan  49     60     76\n",
       "4       5           Aroosh  18     27     56\n",
       "5       6            Adnan  16     78     45\n",
       "6       7            Adiba  78    100     78\n",
       "7       8            Arish  87     19     30\n",
       "8      10  Muhammad Zubair  90     10     91"
      ]
     },
     "execution_count": 217,
     "metadata": {},
     "output_type": "execute_result"
    }
   ],
   "source": [
    "marks"
   ]
  },
  {
   "cell_type": "code",
   "execution_count": 218,
   "id": "7d715923",
   "metadata": {},
   "outputs": [],
   "source": [
    "marks.iloc[8]=[9,\"Muhammad Zubair\",90,10,91]"
   ]
  },
  {
   "cell_type": "code",
   "execution_count": 225,
   "id": "a6e532df",
   "metadata": {},
   "outputs": [],
   "source": [
    "marks.loc[9]=[10,\"Muhammad Arish\",99,10,91]"
   ]
  },
  {
   "cell_type": "code",
   "execution_count": 226,
   "id": "a5a000b4",
   "metadata": {},
   "outputs": [
    {
     "data": {
      "text/html": [
       "<div>\n",
       "<style scoped>\n",
       "    .dataframe tbody tr th:only-of-type {\n",
       "        vertical-align: middle;\n",
       "    }\n",
       "\n",
       "    .dataframe tbody tr th {\n",
       "        vertical-align: top;\n",
       "    }\n",
       "\n",
       "    .dataframe thead th {\n",
       "        text-align: right;\n",
       "    }\n",
       "</style>\n",
       "<table border=\"1\" class=\"dataframe\">\n",
       "  <thead>\n",
       "    <tr style=\"text-align: right;\">\n",
       "      <th></th>\n",
       "      <th>RollNo</th>\n",
       "      <th>Name</th>\n",
       "      <th>Eco</th>\n",
       "      <th>Maths</th>\n",
       "      <th>Hindi</th>\n",
       "    </tr>\n",
       "  </thead>\n",
       "  <tbody>\n",
       "    <tr>\n",
       "      <th>0</th>\n",
       "      <td>1</td>\n",
       "      <td>Arnab</td>\n",
       "      <td>18</td>\n",
       "      <td>57</td>\n",
       "      <td>20</td>\n",
       "    </tr>\n",
       "    <tr>\n",
       "      <th>1</th>\n",
       "      <td>2</td>\n",
       "      <td>Kritika</td>\n",
       "      <td>23</td>\n",
       "      <td>45</td>\n",
       "      <td>99</td>\n",
       "    </tr>\n",
       "    <tr>\n",
       "      <th>2</th>\n",
       "      <td>3</td>\n",
       "      <td>Divyam</td>\n",
       "      <td>51</td>\n",
       "      <td>37</td>\n",
       "      <td>100</td>\n",
       "    </tr>\n",
       "    <tr>\n",
       "      <th>3</th>\n",
       "      <td>4</td>\n",
       "      <td>Vivaan</td>\n",
       "      <td>49</td>\n",
       "      <td>60</td>\n",
       "      <td>76</td>\n",
       "    </tr>\n",
       "    <tr>\n",
       "      <th>4</th>\n",
       "      <td>5</td>\n",
       "      <td>Aroosh</td>\n",
       "      <td>18</td>\n",
       "      <td>27</td>\n",
       "      <td>56</td>\n",
       "    </tr>\n",
       "    <tr>\n",
       "      <th>5</th>\n",
       "      <td>6</td>\n",
       "      <td>Adnan</td>\n",
       "      <td>16</td>\n",
       "      <td>78</td>\n",
       "      <td>45</td>\n",
       "    </tr>\n",
       "    <tr>\n",
       "      <th>6</th>\n",
       "      <td>7</td>\n",
       "      <td>Adiba</td>\n",
       "      <td>78</td>\n",
       "      <td>100</td>\n",
       "      <td>78</td>\n",
       "    </tr>\n",
       "    <tr>\n",
       "      <th>7</th>\n",
       "      <td>8</td>\n",
       "      <td>Arish</td>\n",
       "      <td>87</td>\n",
       "      <td>19</td>\n",
       "      <td>30</td>\n",
       "    </tr>\n",
       "    <tr>\n",
       "      <th>8</th>\n",
       "      <td>9</td>\n",
       "      <td>Muhammad Zubair</td>\n",
       "      <td>90</td>\n",
       "      <td>10</td>\n",
       "      <td>91</td>\n",
       "    </tr>\n",
       "    <tr>\n",
       "      <th>9</th>\n",
       "      <td>10</td>\n",
       "      <td>Muhammad Arish</td>\n",
       "      <td>99</td>\n",
       "      <td>10</td>\n",
       "      <td>91</td>\n",
       "    </tr>\n",
       "  </tbody>\n",
       "</table>\n",
       "</div>"
      ],
      "text/plain": [
       "   RollNo             Name Eco  Maths  Hindi\n",
       "0       1            Arnab  18     57     20\n",
       "1       2          Kritika  23     45     99\n",
       "2       3           Divyam  51     37    100\n",
       "3       4           Vivaan  49     60     76\n",
       "4       5           Aroosh  18     27     56\n",
       "5       6            Adnan  16     78     45\n",
       "6       7            Adiba  78    100     78\n",
       "7       8            Arish  87     19     30\n",
       "8       9  Muhammad Zubair  90     10     91\n",
       "9      10   Muhammad Arish  99     10     91"
      ]
     },
     "execution_count": 226,
     "metadata": {},
     "output_type": "execute_result"
    }
   ],
   "source": [
    "marks"
   ]
  },
  {
   "cell_type": "code",
   "execution_count": 227,
   "id": "f769280b",
   "metadata": {},
   "outputs": [],
   "source": [
    "marks.loc[10]=[11,\"Adeel Arish\",89,19,69]"
   ]
  },
  {
   "cell_type": "code",
   "execution_count": 228,
   "id": "5b7db9d3",
   "metadata": {},
   "outputs": [
    {
     "data": {
      "text/html": [
       "<div>\n",
       "<style scoped>\n",
       "    .dataframe tbody tr th:only-of-type {\n",
       "        vertical-align: middle;\n",
       "    }\n",
       "\n",
       "    .dataframe tbody tr th {\n",
       "        vertical-align: top;\n",
       "    }\n",
       "\n",
       "    .dataframe thead th {\n",
       "        text-align: right;\n",
       "    }\n",
       "</style>\n",
       "<table border=\"1\" class=\"dataframe\">\n",
       "  <thead>\n",
       "    <tr style=\"text-align: right;\">\n",
       "      <th></th>\n",
       "      <th>RollNo</th>\n",
       "      <th>Name</th>\n",
       "      <th>Eco</th>\n",
       "      <th>Maths</th>\n",
       "      <th>Hindi</th>\n",
       "    </tr>\n",
       "  </thead>\n",
       "  <tbody>\n",
       "    <tr>\n",
       "      <th>0</th>\n",
       "      <td>1</td>\n",
       "      <td>Arnab</td>\n",
       "      <td>18</td>\n",
       "      <td>57</td>\n",
       "      <td>20</td>\n",
       "    </tr>\n",
       "    <tr>\n",
       "      <th>1</th>\n",
       "      <td>2</td>\n",
       "      <td>Kritika</td>\n",
       "      <td>23</td>\n",
       "      <td>45</td>\n",
       "      <td>99</td>\n",
       "    </tr>\n",
       "    <tr>\n",
       "      <th>2</th>\n",
       "      <td>3</td>\n",
       "      <td>Divyam</td>\n",
       "      <td>51</td>\n",
       "      <td>37</td>\n",
       "      <td>100</td>\n",
       "    </tr>\n",
       "    <tr>\n",
       "      <th>3</th>\n",
       "      <td>4</td>\n",
       "      <td>Vivaan</td>\n",
       "      <td>49</td>\n",
       "      <td>60</td>\n",
       "      <td>76</td>\n",
       "    </tr>\n",
       "    <tr>\n",
       "      <th>4</th>\n",
       "      <td>5</td>\n",
       "      <td>Aroosh</td>\n",
       "      <td>18</td>\n",
       "      <td>27</td>\n",
       "      <td>56</td>\n",
       "    </tr>\n",
       "    <tr>\n",
       "      <th>5</th>\n",
       "      <td>6</td>\n",
       "      <td>Adnan</td>\n",
       "      <td>16</td>\n",
       "      <td>78</td>\n",
       "      <td>45</td>\n",
       "    </tr>\n",
       "    <tr>\n",
       "      <th>6</th>\n",
       "      <td>7</td>\n",
       "      <td>Adiba</td>\n",
       "      <td>78</td>\n",
       "      <td>100</td>\n",
       "      <td>78</td>\n",
       "    </tr>\n",
       "    <tr>\n",
       "      <th>7</th>\n",
       "      <td>8</td>\n",
       "      <td>Arish</td>\n",
       "      <td>87</td>\n",
       "      <td>19</td>\n",
       "      <td>30</td>\n",
       "    </tr>\n",
       "    <tr>\n",
       "      <th>8</th>\n",
       "      <td>9</td>\n",
       "      <td>Muhammad Zubair</td>\n",
       "      <td>90</td>\n",
       "      <td>10</td>\n",
       "      <td>91</td>\n",
       "    </tr>\n",
       "    <tr>\n",
       "      <th>9</th>\n",
       "      <td>10</td>\n",
       "      <td>Muhammad Arish</td>\n",
       "      <td>99</td>\n",
       "      <td>10</td>\n",
       "      <td>91</td>\n",
       "    </tr>\n",
       "    <tr>\n",
       "      <th>10</th>\n",
       "      <td>11</td>\n",
       "      <td>Adeel Arish</td>\n",
       "      <td>89</td>\n",
       "      <td>19</td>\n",
       "      <td>69</td>\n",
       "    </tr>\n",
       "  </tbody>\n",
       "</table>\n",
       "</div>"
      ],
      "text/plain": [
       "    RollNo             Name Eco  Maths  Hindi\n",
       "0        1            Arnab  18     57     20\n",
       "1        2          Kritika  23     45     99\n",
       "2        3           Divyam  51     37    100\n",
       "3        4           Vivaan  49     60     76\n",
       "4        5           Aroosh  18     27     56\n",
       "5        6            Adnan  16     78     45\n",
       "6        7            Adiba  78    100     78\n",
       "7        8            Arish  87     19     30\n",
       "8        9  Muhammad Zubair  90     10     91\n",
       "9       10   Muhammad Arish  99     10     91\n",
       "10      11      Adeel Arish  89     19     69"
      ]
     },
     "execution_count": 228,
     "metadata": {},
     "output_type": "execute_result"
    }
   ],
   "source": [
    "marks"
   ]
  },
  {
   "cell_type": "code",
   "execution_count": null,
   "id": "ef4fc07a",
   "metadata": {},
   "outputs": [],
   "source": []
  },
  {
   "cell_type": "code",
   "execution_count": null,
   "id": "cf8b948f",
   "metadata": {},
   "outputs": [],
   "source": []
  },
  {
   "cell_type": "code",
   "execution_count": null,
   "id": "4a2b74c5",
   "metadata": {},
   "outputs": [],
   "source": []
  },
  {
   "cell_type": "code",
   "execution_count": null,
   "id": "6e8aaa9d",
   "metadata": {},
   "outputs": [],
   "source": []
  },
  {
   "cell_type": "code",
   "execution_count": null,
   "id": "74a77ff9",
   "metadata": {},
   "outputs": [],
   "source": []
  },
  {
   "cell_type": "code",
   "execution_count": null,
   "id": "09a4ccf1",
   "metadata": {},
   "outputs": [],
   "source": []
  },
  {
   "cell_type": "code",
   "execution_count": null,
   "id": "0dc0120b",
   "metadata": {},
   "outputs": [],
   "source": []
  },
  {
   "cell_type": "code",
   "execution_count": null,
   "id": "baece943",
   "metadata": {},
   "outputs": [],
   "source": []
  },
  {
   "cell_type": "code",
   "execution_count": null,
   "id": "964d7659",
   "metadata": {},
   "outputs": [],
   "source": []
  },
  {
   "cell_type": "code",
   "execution_count": null,
   "id": "13fc0a8e",
   "metadata": {},
   "outputs": [],
   "source": []
  },
  {
   "cell_type": "code",
   "execution_count": null,
   "id": "8e5b91cf",
   "metadata": {},
   "outputs": [],
   "source": []
  },
  {
   "cell_type": "code",
   "execution_count": null,
   "id": "7eb3cd89",
   "metadata": {},
   "outputs": [],
   "source": []
  },
  {
   "cell_type": "code",
   "execution_count": null,
   "id": "dd2a2134",
   "metadata": {},
   "outputs": [],
   "source": []
  },
  {
   "cell_type": "code",
   "execution_count": null,
   "id": "590a9069",
   "metadata": {},
   "outputs": [],
   "source": []
  },
  {
   "cell_type": "code",
   "execution_count": null,
   "id": "21d42735",
   "metadata": {},
   "outputs": [],
   "source": []
  },
  {
   "cell_type": "code",
   "execution_count": null,
   "id": "a27eda80",
   "metadata": {},
   "outputs": [],
   "source": []
  },
  {
   "cell_type": "code",
   "execution_count": null,
   "id": "d370a083",
   "metadata": {},
   "outputs": [],
   "source": []
  },
  {
   "cell_type": "code",
   "execution_count": null,
   "id": "39ae63da",
   "metadata": {},
   "outputs": [],
   "source": []
  },
  {
   "cell_type": "code",
   "execution_count": null,
   "id": "6b529fbd",
   "metadata": {},
   "outputs": [],
   "source": []
  },
  {
   "cell_type": "code",
   "execution_count": null,
   "id": "4f0570d9",
   "metadata": {},
   "outputs": [],
   "source": []
  },
  {
   "cell_type": "code",
   "execution_count": null,
   "id": "ceb9b301",
   "metadata": {},
   "outputs": [],
   "source": []
  },
  {
   "cell_type": "code",
   "execution_count": null,
   "id": "3cfaf6da",
   "metadata": {},
   "outputs": [],
   "source": []
  },
  {
   "cell_type": "code",
   "execution_count": null,
   "id": "4f1b19ab",
   "metadata": {},
   "outputs": [],
   "source": []
  },
  {
   "cell_type": "code",
   "execution_count": null,
   "id": "9e7b09c0",
   "metadata": {},
   "outputs": [],
   "source": []
  },
  {
   "cell_type": "code",
   "execution_count": null,
   "id": "15fadc55",
   "metadata": {},
   "outputs": [],
   "source": []
  },
  {
   "cell_type": "code",
   "execution_count": null,
   "id": "5199fdd1",
   "metadata": {},
   "outputs": [],
   "source": []
  },
  {
   "cell_type": "code",
   "execution_count": null,
   "id": "c5269d5b",
   "metadata": {},
   "outputs": [],
   "source": []
  },
  {
   "cell_type": "code",
   "execution_count": null,
   "id": "60e4593d",
   "metadata": {},
   "outputs": [],
   "source": []
  },
  {
   "cell_type": "code",
   "execution_count": null,
   "id": "db17c73e",
   "metadata": {},
   "outputs": [],
   "source": []
  },
  {
   "cell_type": "code",
   "execution_count": null,
   "id": "952d3435",
   "metadata": {},
   "outputs": [],
   "source": []
  },
  {
   "cell_type": "code",
   "execution_count": null,
   "id": "2f74c86a",
   "metadata": {},
   "outputs": [],
   "source": []
  },
  {
   "cell_type": "code",
   "execution_count": null,
   "id": "c36d8da2",
   "metadata": {},
   "outputs": [],
   "source": []
  },
  {
   "cell_type": "code",
   "execution_count": null,
   "id": "8d43bb13",
   "metadata": {},
   "outputs": [],
   "source": []
  },
  {
   "cell_type": "code",
   "execution_count": null,
   "id": "1bf3426c",
   "metadata": {},
   "outputs": [],
   "source": []
  },
  {
   "cell_type": "code",
   "execution_count": null,
   "id": "7b916515",
   "metadata": {},
   "outputs": [],
   "source": []
  },
  {
   "cell_type": "code",
   "execution_count": null,
   "id": "d49c7684",
   "metadata": {},
   "outputs": [],
   "source": []
  },
  {
   "cell_type": "code",
   "execution_count": null,
   "id": "11ce7f7d",
   "metadata": {},
   "outputs": [],
   "source": []
  },
  {
   "cell_type": "code",
   "execution_count": null,
   "id": "6f8a9534",
   "metadata": {},
   "outputs": [],
   "source": []
  },
  {
   "cell_type": "code",
   "execution_count": null,
   "id": "099f4c7c",
   "metadata": {},
   "outputs": [],
   "source": []
  },
  {
   "cell_type": "code",
   "execution_count": null,
   "id": "83c1a0ec",
   "metadata": {},
   "outputs": [],
   "source": []
  },
  {
   "cell_type": "code",
   "execution_count": null,
   "id": "f2b3dca4",
   "metadata": {},
   "outputs": [],
   "source": []
  },
  {
   "cell_type": "code",
   "execution_count": null,
   "id": "03efee5f",
   "metadata": {},
   "outputs": [],
   "source": []
  },
  {
   "cell_type": "code",
   "execution_count": null,
   "id": "2dd4552b",
   "metadata": {},
   "outputs": [],
   "source": []
  },
  {
   "cell_type": "code",
   "execution_count": null,
   "id": "943be07a",
   "metadata": {},
   "outputs": [],
   "source": []
  },
  {
   "cell_type": "code",
   "execution_count": null,
   "id": "d2bead37",
   "metadata": {},
   "outputs": [],
   "source": []
  },
  {
   "cell_type": "code",
   "execution_count": null,
   "id": "7414af30",
   "metadata": {},
   "outputs": [],
   "source": []
  },
  {
   "cell_type": "code",
   "execution_count": null,
   "id": "5a16e7ee",
   "metadata": {},
   "outputs": [],
   "source": []
  },
  {
   "cell_type": "code",
   "execution_count": null,
   "id": "86074740",
   "metadata": {},
   "outputs": [],
   "source": []
  },
  {
   "cell_type": "code",
   "execution_count": null,
   "id": "ae47f57e",
   "metadata": {},
   "outputs": [],
   "source": []
  },
  {
   "cell_type": "code",
   "execution_count": null,
   "id": "8b43ba69",
   "metadata": {},
   "outputs": [],
   "source": []
  },
  {
   "cell_type": "code",
   "execution_count": null,
   "id": "e5ec90b1",
   "metadata": {},
   "outputs": [],
   "source": []
  },
  {
   "cell_type": "code",
   "execution_count": null,
   "id": "a23d5989",
   "metadata": {},
   "outputs": [],
   "source": []
  },
  {
   "cell_type": "code",
   "execution_count": null,
   "id": "a8aebb9b",
   "metadata": {},
   "outputs": [],
   "source": []
  },
  {
   "cell_type": "code",
   "execution_count": null,
   "id": "eee03e9d",
   "metadata": {},
   "outputs": [],
   "source": []
  },
  {
   "cell_type": "code",
   "execution_count": null,
   "id": "aa12b809",
   "metadata": {},
   "outputs": [],
   "source": [
    "mar"
   ]
  },
  {
   "cell_type": "code",
   "execution_count": null,
   "id": "05a8caf7",
   "metadata": {},
   "outputs": [],
   "source": []
  },
  {
   "cell_type": "markdown",
   "id": "ebc316d3",
   "metadata": {},
   "source": []
  },
  {
   "cell_type": "code",
   "execution_count": null,
   "id": "d2625754",
   "metadata": {},
   "outputs": [],
   "source": []
  },
  {
   "cell_type": "code",
   "execution_count": null,
   "id": "d68a30fa",
   "metadata": {},
   "outputs": [],
   "source": []
  },
  {
   "cell_type": "code",
   "execution_count": null,
   "id": "84361f15",
   "metadata": {},
   "outputs": [],
   "source": []
  },
  {
   "cell_type": "code",
   "execution_count": null,
   "id": "8dda1719",
   "metadata": {},
   "outputs": [],
   "source": []
  },
  {
   "cell_type": "code",
   "execution_count": null,
   "id": "757b1373",
   "metadata": {},
   "outputs": [],
   "source": []
  },
  {
   "cell_type": "code",
   "execution_count": null,
   "id": "659fe11b",
   "metadata": {},
   "outputs": [],
   "source": []
  },
  {
   "cell_type": "code",
   "execution_count": null,
   "id": "a4912103",
   "metadata": {},
   "outputs": [],
   "source": []
  },
  {
   "cell_type": "code",
   "execution_count": null,
   "id": "57b5ee2b",
   "metadata": {},
   "outputs": [],
   "source": []
  },
  {
   "cell_type": "code",
   "execution_count": null,
   "id": "57590b4f",
   "metadata": {},
   "outputs": [],
   "source": []
  },
  {
   "cell_type": "code",
   "execution_count": null,
   "id": "86dd9e19",
   "metadata": {},
   "outputs": [],
   "source": []
  },
  {
   "cell_type": "code",
   "execution_count": null,
   "id": "743c0a44",
   "metadata": {},
   "outputs": [],
   "source": []
  },
  {
   "cell_type": "code",
   "execution_count": null,
   "id": "742ffc54",
   "metadata": {},
   "outputs": [],
   "source": []
  },
  {
   "cell_type": "code",
   "execution_count": null,
   "id": "a3988c7f",
   "metadata": {},
   "outputs": [],
   "source": []
  },
  {
   "cell_type": "code",
   "execution_count": null,
   "id": "22807f69",
   "metadata": {},
   "outputs": [],
   "source": []
  },
  {
   "cell_type": "code",
   "execution_count": null,
   "id": "be8db73c",
   "metadata": {},
   "outputs": [],
   "source": []
  },
  {
   "cell_type": "code",
   "execution_count": null,
   "id": "2cd9fbc8",
   "metadata": {},
   "outputs": [],
   "source": []
  },
  {
   "cell_type": "code",
   "execution_count": null,
   "id": "78652345",
   "metadata": {},
   "outputs": [],
   "source": []
  },
  {
   "cell_type": "code",
   "execution_count": null,
   "id": "bbcc3fc0",
   "metadata": {},
   "outputs": [],
   "source": []
  },
  {
   "cell_type": "code",
   "execution_count": null,
   "id": "a96a4c46",
   "metadata": {},
   "outputs": [],
   "source": []
  },
  {
   "cell_type": "code",
   "execution_count": null,
   "id": "f55fe07b",
   "metadata": {},
   "outputs": [],
   "source": []
  },
  {
   "cell_type": "code",
   "execution_count": null,
   "id": "cfb99f89",
   "metadata": {},
   "outputs": [],
   "source": []
  },
  {
   "cell_type": "code",
   "execution_count": null,
   "id": "da24b664",
   "metadata": {},
   "outputs": [],
   "source": []
  },
  {
   "cell_type": "code",
   "execution_count": null,
   "id": "2869524d",
   "metadata": {},
   "outputs": [],
   "source": []
  },
  {
   "cell_type": "code",
   "execution_count": null,
   "id": "f85c6199",
   "metadata": {},
   "outputs": [],
   "source": []
  },
  {
   "cell_type": "code",
   "execution_count": null,
   "id": "91d4cec5",
   "metadata": {},
   "outputs": [],
   "source": []
  },
  {
   "cell_type": "code",
   "execution_count": null,
   "id": "f1173bee",
   "metadata": {},
   "outputs": [],
   "source": []
  },
  {
   "cell_type": "code",
   "execution_count": null,
   "id": "4dba808d",
   "metadata": {},
   "outputs": [],
   "source": []
  },
  {
   "cell_type": "code",
   "execution_count": null,
   "id": "93357472",
   "metadata": {},
   "outputs": [],
   "source": []
  },
  {
   "cell_type": "code",
   "execution_count": null,
   "id": "97433ffe",
   "metadata": {},
   "outputs": [],
   "source": []
  },
  {
   "cell_type": "code",
   "execution_count": null,
   "id": "e59f2209",
   "metadata": {},
   "outputs": [],
   "source": []
  },
  {
   "cell_type": "code",
   "execution_count": null,
   "id": "fa5d35a8",
   "metadata": {},
   "outputs": [],
   "source": []
  },
  {
   "cell_type": "code",
   "execution_count": null,
   "id": "a5f2ba51",
   "metadata": {},
   "outputs": [],
   "source": []
  },
  {
   "cell_type": "code",
   "execution_count": null,
   "id": "b9269620",
   "metadata": {},
   "outputs": [],
   "source": []
  },
  {
   "cell_type": "code",
   "execution_count": null,
   "id": "e699a0e1",
   "metadata": {},
   "outputs": [],
   "source": []
  },
  {
   "cell_type": "code",
   "execution_count": null,
   "id": "06e4f46e",
   "metadata": {},
   "outputs": [],
   "source": []
  },
  {
   "cell_type": "code",
   "execution_count": null,
   "id": "c31f8bb2",
   "metadata": {},
   "outputs": [],
   "source": []
  },
  {
   "cell_type": "code",
   "execution_count": null,
   "id": "1c4e0f89",
   "metadata": {},
   "outputs": [],
   "source": []
  },
  {
   "cell_type": "code",
   "execution_count": null,
   "id": "c231e872",
   "metadata": {},
   "outputs": [],
   "source": []
  },
  {
   "cell_type": "code",
   "execution_count": null,
   "id": "c552008d",
   "metadata": {},
   "outputs": [],
   "source": []
  },
  {
   "cell_type": "code",
   "execution_count": null,
   "id": "f5baeed2",
   "metadata": {},
   "outputs": [],
   "source": []
  },
  {
   "cell_type": "code",
   "execution_count": null,
   "id": "4680be5e",
   "metadata": {},
   "outputs": [],
   "source": []
  },
  {
   "cell_type": "code",
   "execution_count": null,
   "id": "030c1a63",
   "metadata": {},
   "outputs": [],
   "source": []
  },
  {
   "cell_type": "code",
   "execution_count": null,
   "id": "3be74567",
   "metadata": {},
   "outputs": [],
   "source": []
  },
  {
   "cell_type": "code",
   "execution_count": null,
   "id": "aa3412c7",
   "metadata": {},
   "outputs": [],
   "source": []
  },
  {
   "cell_type": "code",
   "execution_count": null,
   "id": "13c2b566",
   "metadata": {},
   "outputs": [],
   "source": []
  },
  {
   "cell_type": "code",
   "execution_count": null,
   "id": "aaf12d2b",
   "metadata": {},
   "outputs": [],
   "source": []
  },
  {
   "cell_type": "code",
   "execution_count": null,
   "id": "f8a020af",
   "metadata": {},
   "outputs": [],
   "source": []
  },
  {
   "cell_type": "code",
   "execution_count": null,
   "id": "169ad56a",
   "metadata": {},
   "outputs": [],
   "source": []
  },
  {
   "cell_type": "code",
   "execution_count": null,
   "id": "d9982844",
   "metadata": {},
   "outputs": [],
   "source": []
  },
  {
   "cell_type": "code",
   "execution_count": null,
   "id": "5e82a2ed",
   "metadata": {},
   "outputs": [],
   "source": []
  },
  {
   "cell_type": "code",
   "execution_count": null,
   "id": "0be110da",
   "metadata": {},
   "outputs": [],
   "source": []
  },
  {
   "cell_type": "code",
   "execution_count": null,
   "id": "c12f9269",
   "metadata": {},
   "outputs": [],
   "source": []
  },
  {
   "cell_type": "code",
   "execution_count": null,
   "id": "dc8712f3",
   "metadata": {},
   "outputs": [],
   "source": []
  },
  {
   "cell_type": "code",
   "execution_count": null,
   "id": "2fd16610",
   "metadata": {},
   "outputs": [],
   "source": []
  },
  {
   "cell_type": "code",
   "execution_count": null,
   "id": "766cec1d",
   "metadata": {},
   "outputs": [],
   "source": []
  },
  {
   "cell_type": "code",
   "execution_count": null,
   "id": "3b78d9f2",
   "metadata": {},
   "outputs": [],
   "source": []
  },
  {
   "cell_type": "code",
   "execution_count": null,
   "id": "d02273d2",
   "metadata": {},
   "outputs": [],
   "source": []
  },
  {
   "cell_type": "code",
   "execution_count": null,
   "id": "dddc0e90",
   "metadata": {},
   "outputs": [],
   "source": []
  },
  {
   "cell_type": "code",
   "execution_count": null,
   "id": "a167d459",
   "metadata": {},
   "outputs": [],
   "source": []
  },
  {
   "cell_type": "code",
   "execution_count": null,
   "id": "bc815932",
   "metadata": {},
   "outputs": [],
   "source": []
  },
  {
   "cell_type": "code",
   "execution_count": null,
   "id": "01826bfc",
   "metadata": {},
   "outputs": [],
   "source": []
  },
  {
   "cell_type": "code",
   "execution_count": null,
   "id": "eb454c50",
   "metadata": {},
   "outputs": [],
   "source": []
  },
  {
   "cell_type": "code",
   "execution_count": null,
   "id": "b5f3044a",
   "metadata": {},
   "outputs": [],
   "source": []
  },
  {
   "cell_type": "code",
   "execution_count": null,
   "id": "52c27c62",
   "metadata": {},
   "outputs": [],
   "source": []
  },
  {
   "cell_type": "code",
   "execution_count": null,
   "id": "246acde5",
   "metadata": {},
   "outputs": [],
   "source": []
  },
  {
   "cell_type": "code",
   "execution_count": null,
   "id": "6db3725f",
   "metadata": {},
   "outputs": [],
   "source": []
  },
  {
   "cell_type": "code",
   "execution_count": null,
   "id": "e19350e4",
   "metadata": {},
   "outputs": [],
   "source": []
  },
  {
   "cell_type": "code",
   "execution_count": null,
   "id": "13741634",
   "metadata": {},
   "outputs": [],
   "source": []
  },
  {
   "cell_type": "code",
   "execution_count": null,
   "id": "27634ac4",
   "metadata": {},
   "outputs": [],
   "source": []
  },
  {
   "cell_type": "code",
   "execution_count": null,
   "id": "21b38b94",
   "metadata": {},
   "outputs": [],
   "source": []
  },
  {
   "cell_type": "code",
   "execution_count": null,
   "id": "97e4cea1",
   "metadata": {},
   "outputs": [],
   "source": []
  },
  {
   "cell_type": "code",
   "execution_count": null,
   "id": "9bcc030c",
   "metadata": {},
   "outputs": [],
   "source": []
  },
  {
   "cell_type": "code",
   "execution_count": null,
   "id": "dddacff6",
   "metadata": {},
   "outputs": [],
   "source": []
  },
  {
   "cell_type": "code",
   "execution_count": null,
   "id": "12d06eb3",
   "metadata": {},
   "outputs": [],
   "source": []
  },
  {
   "cell_type": "code",
   "execution_count": null,
   "id": "2fac1487",
   "metadata": {},
   "outputs": [],
   "source": []
  },
  {
   "cell_type": "code",
   "execution_count": null,
   "id": "145c040f",
   "metadata": {},
   "outputs": [],
   "source": []
  },
  {
   "cell_type": "code",
   "execution_count": null,
   "id": "93d1263a",
   "metadata": {},
   "outputs": [],
   "source": []
  },
  {
   "cell_type": "code",
   "execution_count": null,
   "id": "c2b92493",
   "metadata": {},
   "outputs": [],
   "source": []
  },
  {
   "cell_type": "code",
   "execution_count": null,
   "id": "af509651",
   "metadata": {},
   "outputs": [],
   "source": []
  },
  {
   "cell_type": "code",
   "execution_count": null,
   "id": "20d72bef",
   "metadata": {},
   "outputs": [],
   "source": []
  },
  {
   "cell_type": "code",
   "execution_count": null,
   "id": "66749cca",
   "metadata": {},
   "outputs": [],
   "source": []
  },
  {
   "cell_type": "code",
   "execution_count": null,
   "id": "032e0044",
   "metadata": {},
   "outputs": [],
   "source": []
  },
  {
   "cell_type": "code",
   "execution_count": null,
   "id": "fcaf9eab",
   "metadata": {},
   "outputs": [],
   "source": []
  },
  {
   "cell_type": "code",
   "execution_count": null,
   "id": "217ca82d",
   "metadata": {},
   "outputs": [],
   "source": []
  },
  {
   "cell_type": "code",
   "execution_count": null,
   "id": "fd4839a3",
   "metadata": {},
   "outputs": [],
   "source": []
  },
  {
   "cell_type": "code",
   "execution_count": null,
   "id": "0568735b",
   "metadata": {},
   "outputs": [],
   "source": []
  },
  {
   "cell_type": "code",
   "execution_count": null,
   "id": "83339920",
   "metadata": {},
   "outputs": [],
   "source": []
  },
  {
   "cell_type": "code",
   "execution_count": null,
   "id": "a0f67f06",
   "metadata": {},
   "outputs": [],
   "source": []
  },
  {
   "cell_type": "code",
   "execution_count": null,
   "id": "916fc5d1",
   "metadata": {},
   "outputs": [],
   "source": []
  },
  {
   "cell_type": "code",
   "execution_count": null,
   "id": "f8d6ab10",
   "metadata": {},
   "outputs": [],
   "source": []
  },
  {
   "cell_type": "code",
   "execution_count": null,
   "id": "13e39fb1",
   "metadata": {},
   "outputs": [],
   "source": []
  },
  {
   "cell_type": "code",
   "execution_count": null,
   "id": "6a0908e8",
   "metadata": {},
   "outputs": [],
   "source": []
  },
  {
   "cell_type": "code",
   "execution_count": null,
   "id": "73f1f7b9",
   "metadata": {},
   "outputs": [],
   "source": []
  },
  {
   "cell_type": "code",
   "execution_count": null,
   "id": "c0382e00",
   "metadata": {},
   "outputs": [],
   "source": []
  },
  {
   "cell_type": "code",
   "execution_count": null,
   "id": "b8d2c797",
   "metadata": {},
   "outputs": [],
   "source": []
  },
  {
   "cell_type": "code",
   "execution_count": null,
   "id": "46470e0d",
   "metadata": {},
   "outputs": [],
   "source": []
  },
  {
   "cell_type": "code",
   "execution_count": null,
   "id": "a5ca16c9",
   "metadata": {},
   "outputs": [],
   "source": []
  },
  {
   "cell_type": "code",
   "execution_count": null,
   "id": "238729f6",
   "metadata": {},
   "outputs": [],
   "source": []
  },
  {
   "cell_type": "code",
   "execution_count": null,
   "id": "ed962391",
   "metadata": {},
   "outputs": [],
   "source": []
  },
  {
   "cell_type": "code",
   "execution_count": null,
   "id": "b067ab68",
   "metadata": {},
   "outputs": [],
   "source": []
  },
  {
   "cell_type": "code",
   "execution_count": null,
   "id": "aaa81a33",
   "metadata": {},
   "outputs": [],
   "source": []
  },
  {
   "cell_type": "code",
   "execution_count": null,
   "id": "5946b9de",
   "metadata": {},
   "outputs": [],
   "source": []
  },
  {
   "cell_type": "code",
   "execution_count": null,
   "id": "6874fe80",
   "metadata": {},
   "outputs": [],
   "source": []
  },
  {
   "cell_type": "code",
   "execution_count": null,
   "id": "51dce92c",
   "metadata": {},
   "outputs": [],
   "source": []
  },
  {
   "cell_type": "code",
   "execution_count": null,
   "id": "a19afde8",
   "metadata": {},
   "outputs": [],
   "source": []
  },
  {
   "cell_type": "code",
   "execution_count": null,
   "id": "24a384c6",
   "metadata": {},
   "outputs": [],
   "source": []
  },
  {
   "cell_type": "code",
   "execution_count": null,
   "id": "16ccb7cf",
   "metadata": {},
   "outputs": [],
   "source": []
  },
  {
   "cell_type": "code",
   "execution_count": null,
   "id": "4ef782a4",
   "metadata": {},
   "outputs": [],
   "source": []
  },
  {
   "cell_type": "code",
   "execution_count": null,
   "id": "85f1990c",
   "metadata": {},
   "outputs": [],
   "source": []
  },
  {
   "cell_type": "code",
   "execution_count": null,
   "id": "fb2dc8a6",
   "metadata": {},
   "outputs": [],
   "source": []
  },
  {
   "cell_type": "code",
   "execution_count": null,
   "id": "2c235ea0",
   "metadata": {},
   "outputs": [],
   "source": []
  },
  {
   "cell_type": "code",
   "execution_count": null,
   "id": "1ce12d8b",
   "metadata": {},
   "outputs": [],
   "source": []
  },
  {
   "cell_type": "code",
   "execution_count": null,
   "id": "f02307a7",
   "metadata": {},
   "outputs": [],
   "source": []
  },
  {
   "cell_type": "code",
   "execution_count": null,
   "id": "a6961b5d",
   "metadata": {},
   "outputs": [],
   "source": []
  },
  {
   "cell_type": "code",
   "execution_count": null,
   "id": "4e42b68d",
   "metadata": {},
   "outputs": [],
   "source": []
  },
  {
   "cell_type": "code",
   "execution_count": null,
   "id": "77b36e04",
   "metadata": {},
   "outputs": [],
   "source": []
  },
  {
   "cell_type": "code",
   "execution_count": null,
   "id": "86e010c7",
   "metadata": {},
   "outputs": [],
   "source": []
  },
  {
   "cell_type": "code",
   "execution_count": null,
   "id": "44607e74",
   "metadata": {},
   "outputs": [],
   "source": []
  },
  {
   "cell_type": "code",
   "execution_count": null,
   "id": "aa150997",
   "metadata": {},
   "outputs": [],
   "source": []
  },
  {
   "cell_type": "code",
   "execution_count": null,
   "id": "57d33d32",
   "metadata": {},
   "outputs": [],
   "source": []
  },
  {
   "cell_type": "code",
   "execution_count": null,
   "id": "8ce1fe9c",
   "metadata": {},
   "outputs": [],
   "source": []
  },
  {
   "cell_type": "code",
   "execution_count": null,
   "id": "381ee154",
   "metadata": {},
   "outputs": [],
   "source": []
  },
  {
   "cell_type": "code",
   "execution_count": null,
   "id": "1954f822",
   "metadata": {},
   "outputs": [],
   "source": []
  },
  {
   "cell_type": "code",
   "execution_count": null,
   "id": "fb23bf33",
   "metadata": {},
   "outputs": [],
   "source": []
  },
  {
   "cell_type": "code",
   "execution_count": null,
   "id": "08556973",
   "metadata": {},
   "outputs": [],
   "source": []
  },
  {
   "cell_type": "code",
   "execution_count": null,
   "id": "af626a30",
   "metadata": {},
   "outputs": [],
   "source": []
  },
  {
   "cell_type": "code",
   "execution_count": null,
   "id": "1df0f751",
   "metadata": {},
   "outputs": [],
   "source": []
  },
  {
   "cell_type": "code",
   "execution_count": null,
   "id": "f8999a81",
   "metadata": {},
   "outputs": [],
   "source": []
  },
  {
   "cell_type": "code",
   "execution_count": null,
   "id": "d57efdab",
   "metadata": {},
   "outputs": [],
   "source": []
  },
  {
   "cell_type": "code",
   "execution_count": null,
   "id": "2d1c7abe",
   "metadata": {},
   "outputs": [],
   "source": []
  },
  {
   "cell_type": "code",
   "execution_count": null,
   "id": "52693750",
   "metadata": {},
   "outputs": [],
   "source": []
  },
  {
   "cell_type": "code",
   "execution_count": null,
   "id": "468777f6",
   "metadata": {},
   "outputs": [],
   "source": []
  },
  {
   "cell_type": "code",
   "execution_count": null,
   "id": "6140b591",
   "metadata": {},
   "outputs": [],
   "source": []
  },
  {
   "cell_type": "code",
   "execution_count": null,
   "id": "4aad3d90",
   "metadata": {},
   "outputs": [],
   "source": []
  },
  {
   "cell_type": "code",
   "execution_count": null,
   "id": "4c912193",
   "metadata": {},
   "outputs": [],
   "source": []
  },
  {
   "cell_type": "code",
   "execution_count": null,
   "id": "0d182732",
   "metadata": {},
   "outputs": [],
   "source": []
  },
  {
   "cell_type": "code",
   "execution_count": null,
   "id": "e820c9d5",
   "metadata": {},
   "outputs": [],
   "source": []
  },
  {
   "cell_type": "code",
   "execution_count": null,
   "id": "ec6b6aa1",
   "metadata": {},
   "outputs": [],
   "source": []
  },
  {
   "cell_type": "code",
   "execution_count": null,
   "id": "7a781d72",
   "metadata": {},
   "outputs": [],
   "source": []
  },
  {
   "cell_type": "code",
   "execution_count": null,
   "id": "0644b40a",
   "metadata": {},
   "outputs": [],
   "source": []
  },
  {
   "cell_type": "code",
   "execution_count": null,
   "id": "9cda4f2a",
   "metadata": {},
   "outputs": [],
   "source": []
  },
  {
   "cell_type": "code",
   "execution_count": null,
   "id": "59277e04",
   "metadata": {},
   "outputs": [],
   "source": []
  },
  {
   "cell_type": "code",
   "execution_count": null,
   "id": "377d4834",
   "metadata": {},
   "outputs": [],
   "source": []
  },
  {
   "cell_type": "code",
   "execution_count": null,
   "id": "94ce211e",
   "metadata": {},
   "outputs": [],
   "source": []
  },
  {
   "cell_type": "code",
   "execution_count": null,
   "id": "b04d6a2d",
   "metadata": {},
   "outputs": [],
   "source": []
  },
  {
   "cell_type": "code",
   "execution_count": null,
   "id": "653ef3bf",
   "metadata": {},
   "outputs": [],
   "source": []
  },
  {
   "cell_type": "code",
   "execution_count": null,
   "id": "bd2c3acd",
   "metadata": {},
   "outputs": [],
   "source": []
  },
  {
   "cell_type": "code",
   "execution_count": null,
   "id": "ff5de795",
   "metadata": {},
   "outputs": [],
   "source": []
  },
  {
   "cell_type": "code",
   "execution_count": null,
   "id": "464c4996",
   "metadata": {},
   "outputs": [],
   "source": []
  },
  {
   "cell_type": "code",
   "execution_count": null,
   "id": "1652510d",
   "metadata": {},
   "outputs": [],
   "source": []
  },
  {
   "cell_type": "code",
   "execution_count": null,
   "id": "3680567e",
   "metadata": {},
   "outputs": [],
   "source": []
  },
  {
   "cell_type": "code",
   "execution_count": null,
   "id": "2822d3ec",
   "metadata": {},
   "outputs": [],
   "source": []
  },
  {
   "cell_type": "code",
   "execution_count": null,
   "id": "c2067963",
   "metadata": {},
   "outputs": [],
   "source": []
  },
  {
   "cell_type": "code",
   "execution_count": null,
   "id": "8ddfe965",
   "metadata": {},
   "outputs": [],
   "source": []
  },
  {
   "cell_type": "code",
   "execution_count": null,
   "id": "cf43012f",
   "metadata": {},
   "outputs": [],
   "source": []
  },
  {
   "cell_type": "code",
   "execution_count": null,
   "id": "dad67d8f",
   "metadata": {},
   "outputs": [],
   "source": []
  },
  {
   "cell_type": "code",
   "execution_count": null,
   "id": "07568599",
   "metadata": {},
   "outputs": [],
   "source": []
  },
  {
   "cell_type": "code",
   "execution_count": null,
   "id": "e10358a6",
   "metadata": {},
   "outputs": [],
   "source": []
  },
  {
   "cell_type": "code",
   "execution_count": null,
   "id": "69b200e8",
   "metadata": {},
   "outputs": [],
   "source": []
  },
  {
   "cell_type": "code",
   "execution_count": null,
   "id": "7eb281bf",
   "metadata": {},
   "outputs": [],
   "source": []
  },
  {
   "cell_type": "code",
   "execution_count": null,
   "id": "e48c4280",
   "metadata": {},
   "outputs": [],
   "source": []
  }
 ],
 "metadata": {
  "kernelspec": {
   "display_name": "Python 3 (ipykernel)",
   "language": "python",
   "name": "python3"
  },
  "language_info": {
   "codemirror_mode": {
    "name": "ipython",
    "version": 3
   },
   "file_extension": ".py",
   "mimetype": "text/x-python",
   "name": "python",
   "nbconvert_exporter": "python",
   "pygments_lexer": "ipython3",
   "version": "3.9.13"
  }
 },
 "nbformat": 4,
 "nbformat_minor": 5
}
