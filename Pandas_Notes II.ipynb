{
 "cells": [
  {
   "cell_type": "markdown",
   "id": "52c36654",
   "metadata": {},
   "source": [
    "# <h1><center>Data Handling using Pandas II<center><h1>"
   ]
  },
  {
   "cell_type": "code",
   "execution_count": 1,
   "id": "64da36db",
   "metadata": {},
   "outputs": [],
   "source": [
    "# First we will make a dataFrame of marks of Students for multiple subjects"
   ]
  },
  {
   "cell_type": "code",
   "execution_count": 2,
   "id": "57d8990f",
   "metadata": {},
   "outputs": [],
   "source": [
    "import pandas as pd"
   ]
  },
  {
   "cell_type": "code",
   "execution_count": 3,
   "id": "ae7680b0",
   "metadata": {},
   "outputs": [],
   "source": [
    " marksUT= {'Name':['Raman','Raman','Raman','Zuhaire','Zuhaire','Zuhaire', 'Ashravy','Ashravy','Ashravy','Mishti','Mishti','Mishti'],\n",
    " 'UT':[1,2,3,1,2,3,1,2,3,1,2,3],\n",
    " 'Maths':[22,21,14,20,23,22,23,24,12,15,18,17],\n",
    " 'Science':[21,20,19,17,15,18,19,22,25,22,21,18],\n",
    " 'S.St':[18,17,15,22,21,19,20,24,19,25,25,20],\n",
    " 'Hindi':[20,22,24,24,25,23,15,17,21,22,24,25],\n",
    " 'Eng':[21,24,23,19,15,13,22,21,23,22,23,20]\n",
    " }"
   ]
  },
  {
   "cell_type": "code",
   "execution_count": 4,
   "id": "6416295a",
   "metadata": {},
   "outputs": [],
   "source": [
    "df=pd.DataFrame(marksUT)"
   ]
  },
  {
   "cell_type": "code",
   "execution_count": 5,
   "id": "7572aa22",
   "metadata": {},
   "outputs": [
    {
     "name": "stdout",
     "output_type": "stream",
     "text": [
      "       Name  UT  Maths  Science  S.St  Hindi  Eng\n",
      "0     Raman   1     22       21    18     20   21\n",
      "1     Raman   2     21       20    17     22   24\n",
      "2     Raman   3     14       19    15     24   23\n",
      "3   Zuhaire   1     20       17    22     24   19\n",
      "4   Zuhaire   2     23       15    21     25   15\n",
      "5   Zuhaire   3     22       18    19     23   13\n",
      "6   Ashravy   1     23       19    20     15   22\n",
      "7   Ashravy   2     24       22    24     17   21\n",
      "8   Ashravy   3     12       25    19     21   23\n",
      "9    Mishti   1     15       22    25     22   22\n",
      "10   Mishti   2     18       21    25     24   23\n",
      "11   Mishti   3     17       18    20     25   20\n"
     ]
    }
   ],
   "source": [
    "print(df)"
   ]
  },
  {
   "cell_type": "markdown",
   "id": "b86c3d9c",
   "metadata": {},
   "source": [
    "# <h2><center>Descriptive Statistics<center><h2>"
   ]
  },
  {
   "cell_type": "markdown",
   "id": "f4493a47",
   "metadata": {},
   "source": [
    "# <h3><center>Maximum<center><h3>"
   ]
  },
  {
   "cell_type": "code",
   "execution_count": 6,
   "id": "f04e0024",
   "metadata": {},
   "outputs": [
    {
     "data": {
      "text/plain": [
       "Name       Zuhaire\n",
       "UT               3\n",
       "Maths           24\n",
       "Science         25\n",
       "S.St            25\n",
       "Hindi           25\n",
       "Eng             24\n",
       "dtype: object"
      ]
     },
     "execution_count": 6,
     "metadata": {},
     "output_type": "execute_result"
    }
   ],
   "source": [
    "df.max()"
   ]
  },
  {
   "cell_type": "code",
   "execution_count": 7,
   "id": "f4a78bb1",
   "metadata": {},
   "outputs": [
    {
     "data": {
      "text/plain": [
       "'If we want to output maximum value for the columns\\nhaving only numeric values, then we can set the\\nparameter numeric_only=True in the max() method'"
      ]
     },
     "execution_count": 7,
     "metadata": {},
     "output_type": "execute_result"
    }
   ],
   "source": [
    "\"\"\"If we want to output maximum value for the columns\n",
    "having only numeric values, then we can set the\n",
    "parameter numeric_only=True in the max() method\"\"\""
   ]
  },
  {
   "cell_type": "code",
   "execution_count": 8,
   "id": "e6582951",
   "metadata": {},
   "outputs": [
    {
     "data": {
      "text/plain": [
       "UT          3\n",
       "Maths      24\n",
       "Science    25\n",
       "S.St       25\n",
       "Hindi      25\n",
       "Eng        24\n",
       "dtype: int64"
      ]
     },
     "execution_count": 8,
     "metadata": {},
     "output_type": "execute_result"
    }
   ],
   "source": [
    "df.max(numeric_only=True)"
   ]
  },
  {
   "cell_type": "code",
   "execution_count": 9,
   "id": "63de7f36",
   "metadata": {},
   "outputs": [],
   "source": [
    "dfUT2=df[df.UT==2]"
   ]
  },
  {
   "cell_type": "code",
   "execution_count": 10,
   "id": "d69e8197",
   "metadata": {},
   "outputs": [
    {
     "data": {
      "text/html": [
       "<div>\n",
       "<style scoped>\n",
       "    .dataframe tbody tr th:only-of-type {\n",
       "        vertical-align: middle;\n",
       "    }\n",
       "\n",
       "    .dataframe tbody tr th {\n",
       "        vertical-align: top;\n",
       "    }\n",
       "\n",
       "    .dataframe thead th {\n",
       "        text-align: right;\n",
       "    }\n",
       "</style>\n",
       "<table border=\"1\" class=\"dataframe\">\n",
       "  <thead>\n",
       "    <tr style=\"text-align: right;\">\n",
       "      <th></th>\n",
       "      <th>Name</th>\n",
       "      <th>UT</th>\n",
       "      <th>Maths</th>\n",
       "      <th>Science</th>\n",
       "      <th>S.St</th>\n",
       "      <th>Hindi</th>\n",
       "      <th>Eng</th>\n",
       "    </tr>\n",
       "  </thead>\n",
       "  <tbody>\n",
       "    <tr>\n",
       "      <th>1</th>\n",
       "      <td>Raman</td>\n",
       "      <td>2</td>\n",
       "      <td>21</td>\n",
       "      <td>20</td>\n",
       "      <td>17</td>\n",
       "      <td>22</td>\n",
       "      <td>24</td>\n",
       "    </tr>\n",
       "    <tr>\n",
       "      <th>4</th>\n",
       "      <td>Zuhaire</td>\n",
       "      <td>2</td>\n",
       "      <td>23</td>\n",
       "      <td>15</td>\n",
       "      <td>21</td>\n",
       "      <td>25</td>\n",
       "      <td>15</td>\n",
       "    </tr>\n",
       "    <tr>\n",
       "      <th>7</th>\n",
       "      <td>Ashravy</td>\n",
       "      <td>2</td>\n",
       "      <td>24</td>\n",
       "      <td>22</td>\n",
       "      <td>24</td>\n",
       "      <td>17</td>\n",
       "      <td>21</td>\n",
       "    </tr>\n",
       "    <tr>\n",
       "      <th>10</th>\n",
       "      <td>Mishti</td>\n",
       "      <td>2</td>\n",
       "      <td>18</td>\n",
       "      <td>21</td>\n",
       "      <td>25</td>\n",
       "      <td>24</td>\n",
       "      <td>23</td>\n",
       "    </tr>\n",
       "  </tbody>\n",
       "</table>\n",
       "</div>"
      ],
      "text/plain": [
       "       Name  UT  Maths  Science  S.St  Hindi  Eng\n",
       "1     Raman   2     21       20    17     22   24\n",
       "4   Zuhaire   2     23       15    21     25   15\n",
       "7   Ashravy   2     24       22    24     17   21\n",
       "10   Mishti   2     18       21    25     24   23"
      ]
     },
     "execution_count": 10,
     "metadata": {},
     "output_type": "execute_result"
    }
   ],
   "source": [
    "dfUT2 "
   ]
  },
  {
   "cell_type": "code",
   "execution_count": 11,
   "id": "688fa265",
   "metadata": {},
   "outputs": [
    {
     "data": {
      "text/plain": [
       "UT          2\n",
       "Maths      24\n",
       "Science    22\n",
       "S.St       25\n",
       "Hindi      25\n",
       "Eng        24\n",
       "dtype: int64"
      ]
     },
     "execution_count": 11,
     "metadata": {},
     "output_type": "execute_result"
    }
   ],
   "source": [
    "dfUT2.max(numeric_only=True)"
   ]
  },
  {
   "cell_type": "code",
   "execution_count": 12,
   "id": "196bf0fd",
   "metadata": {},
   "outputs": [],
   "source": [
    "# By default max() method will find the maximum of each column, to find\n",
    "# the maximum value of each row, we have to use axis=1 "
   ]
  },
  {
   "cell_type": "code",
   "execution_count": 13,
   "id": "850d35fa",
   "metadata": {},
   "outputs": [
    {
     "data": {
      "text/plain": [
       "0     22\n",
       "1     24\n",
       "2     24\n",
       "3     24\n",
       "4     25\n",
       "5     23\n",
       "6     23\n",
       "7     24\n",
       "8     25\n",
       "9     25\n",
       "10    25\n",
       "11    25\n",
       "dtype: int64"
      ]
     },
     "execution_count": 13,
     "metadata": {},
     "output_type": "execute_result"
    }
   ],
   "source": [
    "df.max(numeric_only=True,axis=1)"
   ]
  },
  {
   "cell_type": "code",
   "execution_count": 14,
   "id": "9adce859",
   "metadata": {},
   "outputs": [
    {
     "data": {
      "text/plain": [
       "1     24\n",
       "4     25\n",
       "7     24\n",
       "10    25\n",
       "dtype: int64"
      ]
     },
     "execution_count": 14,
     "metadata": {},
     "output_type": "execute_result"
    }
   ],
   "source": [
    "dfUT2.max(numeric_only=True,axis=1)"
   ]
  },
  {
   "cell_type": "markdown",
   "id": "793710d7",
   "metadata": {},
   "source": [
    "# <h3><center>Minimum<center><h3>"
   ]
  },
  {
   "cell_type": "code",
   "execution_count": 15,
   "id": "4c6f163f",
   "metadata": {},
   "outputs": [
    {
     "data": {
      "text/plain": [
       "Name       Ashravy\n",
       "UT               1\n",
       "Maths           12\n",
       "Science         15\n",
       "S.St            15\n",
       "Hindi           15\n",
       "Eng             13\n",
       "dtype: object"
      ]
     },
     "execution_count": 15,
     "metadata": {},
     "output_type": "execute_result"
    }
   ],
   "source": [
    "df.min()"
   ]
  },
  {
   "cell_type": "code",
   "execution_count": 16,
   "id": "f8fd22c3",
   "metadata": {},
   "outputs": [
    {
     "data": {
      "text/plain": [
       "UT          1\n",
       "Maths      12\n",
       "Science    15\n",
       "S.St       15\n",
       "Hindi      15\n",
       "Eng        13\n",
       "dtype: int64"
      ]
     },
     "execution_count": 16,
     "metadata": {},
     "output_type": "execute_result"
    }
   ],
   "source": [
    "df.min(numeric_only=True)"
   ]
  },
  {
   "cell_type": "code",
   "execution_count": 17,
   "id": "82070812",
   "metadata": {},
   "outputs": [],
   "source": [
    "dfMishti=df.loc[df.Name == 'Mishti']"
   ]
  },
  {
   "cell_type": "code",
   "execution_count": 18,
   "id": "80da6ebd",
   "metadata": {},
   "outputs": [
    {
     "data": {
      "text/html": [
       "<div>\n",
       "<style scoped>\n",
       "    .dataframe tbody tr th:only-of-type {\n",
       "        vertical-align: middle;\n",
       "    }\n",
       "\n",
       "    .dataframe tbody tr th {\n",
       "        vertical-align: top;\n",
       "    }\n",
       "\n",
       "    .dataframe thead th {\n",
       "        text-align: right;\n",
       "    }\n",
       "</style>\n",
       "<table border=\"1\" class=\"dataframe\">\n",
       "  <thead>\n",
       "    <tr style=\"text-align: right;\">\n",
       "      <th></th>\n",
       "      <th>Name</th>\n",
       "      <th>UT</th>\n",
       "      <th>Maths</th>\n",
       "      <th>Science</th>\n",
       "      <th>S.St</th>\n",
       "      <th>Hindi</th>\n",
       "      <th>Eng</th>\n",
       "    </tr>\n",
       "  </thead>\n",
       "  <tbody>\n",
       "    <tr>\n",
       "      <th>9</th>\n",
       "      <td>Mishti</td>\n",
       "      <td>1</td>\n",
       "      <td>15</td>\n",
       "      <td>22</td>\n",
       "      <td>25</td>\n",
       "      <td>22</td>\n",
       "      <td>22</td>\n",
       "    </tr>\n",
       "    <tr>\n",
       "      <th>10</th>\n",
       "      <td>Mishti</td>\n",
       "      <td>2</td>\n",
       "      <td>18</td>\n",
       "      <td>21</td>\n",
       "      <td>25</td>\n",
       "      <td>24</td>\n",
       "      <td>23</td>\n",
       "    </tr>\n",
       "    <tr>\n",
       "      <th>11</th>\n",
       "      <td>Mishti</td>\n",
       "      <td>3</td>\n",
       "      <td>17</td>\n",
       "      <td>18</td>\n",
       "      <td>20</td>\n",
       "      <td>25</td>\n",
       "      <td>20</td>\n",
       "    </tr>\n",
       "  </tbody>\n",
       "</table>\n",
       "</div>"
      ],
      "text/plain": [
       "      Name  UT  Maths  Science  S.St  Hindi  Eng\n",
       "9   Mishti   1     15       22    25     22   22\n",
       "10  Mishti   2     18       21    25     24   23\n",
       "11  Mishti   3     17       18    20     25   20"
      ]
     },
     "execution_count": 18,
     "metadata": {},
     "output_type": "execute_result"
    }
   ],
   "source": [
    "dfMishti"
   ]
  },
  {
   "cell_type": "code",
   "execution_count": 19,
   "id": "fcf2f391",
   "metadata": {},
   "outputs": [
    {
     "data": {
      "text/plain": [
       "UT          1\n",
       "Maths      15\n",
       "Science    18\n",
       "S.St       20\n",
       "Hindi      22\n",
       "Eng        20\n",
       "dtype: int64"
      ]
     },
     "execution_count": 19,
     "metadata": {},
     "output_type": "execute_result"
    }
   ],
   "source": [
    "dfMishti.min(numeric_only=True)"
   ]
  },
  {
   "cell_type": "code",
   "execution_count": 20,
   "id": "2926c2d6",
   "metadata": {},
   "outputs": [],
   "source": [
    "#Suppose we don't want to determine the minimum value of UT columns, then "
   ]
  },
  {
   "cell_type": "code",
   "execution_count": 21,
   "id": "92b6de28",
   "metadata": {},
   "outputs": [],
   "source": [
    "dfMishti=df[[\"Maths\",\"Science\",\"S.St\",\"Hindi\",\"Eng\"]]"
   ]
  },
  {
   "cell_type": "code",
   "execution_count": 22,
   "id": "4770df91",
   "metadata": {},
   "outputs": [
    {
     "data": {
      "text/plain": [
       "Maths      12\n",
       "Science    15\n",
       "S.St       15\n",
       "Hindi      15\n",
       "Eng        13\n",
       "dtype: int64"
      ]
     },
     "execution_count": 22,
     "metadata": {},
     "output_type": "execute_result"
    }
   ],
   "source": [
    "dfMishti.min()"
   ]
  },
  {
   "cell_type": "markdown",
   "id": "9587338c",
   "metadata": {},
   "source": [
    "# <h3><center>Sum<center><h3>"
   ]
  },
  {
   "cell_type": "code",
   "execution_count": 23,
   "id": "87d2ba3a",
   "metadata": {},
   "outputs": [
    {
     "data": {
      "text/plain": [
       "Name       RamanRamanRamanZuhaireZuhaireZuhaireAshravyAsh...\n",
       "UT                                                        24\n",
       "Maths                                                    231\n",
       "Science                                                  237\n",
       "S.St                                                     245\n",
       "Hindi                                                    262\n",
       "Eng                                                      246\n",
       "dtype: object"
      ]
     },
     "execution_count": 23,
     "metadata": {},
     "output_type": "execute_result"
    }
   ],
   "source": [
    "df.sum()"
   ]
  },
  {
   "cell_type": "code",
   "execution_count": 24,
   "id": "0e1cf390",
   "metadata": {},
   "outputs": [
    {
     "data": {
      "text/plain": [
       "UT          24\n",
       "Maths      231\n",
       "Science    237\n",
       "S.St       245\n",
       "Hindi      262\n",
       "Eng        246\n",
       "dtype: int64"
      ]
     },
     "execution_count": 24,
     "metadata": {},
     "output_type": "execute_result"
    }
   ],
   "source": [
    "df.sum(numeric_only=True)"
   ]
  },
  {
   "cell_type": "code",
   "execution_count": 25,
   "id": "d0c1efd1",
   "metadata": {},
   "outputs": [
    {
     "data": {
      "text/plain": [
       "231"
      ]
     },
     "execution_count": 25,
     "metadata": {},
     "output_type": "execute_result"
    }
   ],
   "source": [
    "df[\"Maths\"].sum()"
   ]
  },
  {
   "cell_type": "code",
   "execution_count": 26,
   "id": "df029712",
   "metadata": {},
   "outputs": [],
   "source": [
    "dfRaman=df[df.Name==\"Raman\"]"
   ]
  },
  {
   "cell_type": "code",
   "execution_count": 27,
   "id": "5364a7d6",
   "metadata": {},
   "outputs": [
    {
     "data": {
      "text/plain": [
       "Name       RamanRamanRaman\n",
       "UT                       6\n",
       "Maths                   57\n",
       "Science                 60\n",
       "S.St                    50\n",
       "Hindi                   66\n",
       "Eng                     68\n",
       "dtype: object"
      ]
     },
     "execution_count": 27,
     "metadata": {},
     "output_type": "execute_result"
    }
   ],
   "source": [
    "dfRaman.sum()"
   ]
  },
  {
   "cell_type": "code",
   "execution_count": 28,
   "id": "3dfc05d1",
   "metadata": {},
   "outputs": [
    {
     "data": {
      "text/html": [
       "<div>\n",
       "<style scoped>\n",
       "    .dataframe tbody tr th:only-of-type {\n",
       "        vertical-align: middle;\n",
       "    }\n",
       "\n",
       "    .dataframe tbody tr th {\n",
       "        vertical-align: top;\n",
       "    }\n",
       "\n",
       "    .dataframe thead th {\n",
       "        text-align: right;\n",
       "    }\n",
       "</style>\n",
       "<table border=\"1\" class=\"dataframe\">\n",
       "  <thead>\n",
       "    <tr style=\"text-align: right;\">\n",
       "      <th></th>\n",
       "      <th>Maths</th>\n",
       "      <th>Science</th>\n",
       "      <th>S.St</th>\n",
       "      <th>Hindi</th>\n",
       "      <th>Eng</th>\n",
       "    </tr>\n",
       "  </thead>\n",
       "  <tbody>\n",
       "    <tr>\n",
       "      <th>0</th>\n",
       "      <td>22</td>\n",
       "      <td>21</td>\n",
       "      <td>18</td>\n",
       "      <td>20</td>\n",
       "      <td>21</td>\n",
       "    </tr>\n",
       "    <tr>\n",
       "      <th>1</th>\n",
       "      <td>21</td>\n",
       "      <td>20</td>\n",
       "      <td>17</td>\n",
       "      <td>22</td>\n",
       "      <td>24</td>\n",
       "    </tr>\n",
       "    <tr>\n",
       "      <th>2</th>\n",
       "      <td>14</td>\n",
       "      <td>19</td>\n",
       "      <td>15</td>\n",
       "      <td>24</td>\n",
       "      <td>23</td>\n",
       "    </tr>\n",
       "  </tbody>\n",
       "</table>\n",
       "</div>"
      ],
      "text/plain": [
       "   Maths  Science  S.St  Hindi  Eng\n",
       "0     22       21    18     20   21\n",
       "1     21       20    17     22   24\n",
       "2     14       19    15     24   23"
      ]
     },
     "execution_count": 28,
     "metadata": {},
     "output_type": "execute_result"
    }
   ],
   "source": [
    "dfRaman[[\"Maths\",\"Science\",\"S.St\",\"Hindi\",\"Eng\"]]"
   ]
  },
  {
   "cell_type": "code",
   "execution_count": 29,
   "id": "e86fb8d3",
   "metadata": {},
   "outputs": [
    {
     "data": {
      "text/plain": [
       "0    102\n",
       "1    104\n",
       "2     95\n",
       "dtype: int64"
      ]
     },
     "execution_count": 29,
     "metadata": {},
     "output_type": "execute_result"
    }
   ],
   "source": [
    "dfRaman[[\"Maths\",\"Science\",\"S.St\",\"Hindi\",\"Eng\"]].sum(axis=1)"
   ]
  },
  {
   "cell_type": "markdown",
   "id": "3b2880e7",
   "metadata": {},
   "source": [
    "# <h3><center>Number of values<center><h3>"
   ]
  },
  {
   "cell_type": "code",
   "execution_count": 30,
   "id": "24c37e5c",
   "metadata": {},
   "outputs": [
    {
     "data": {
      "text/plain": [
       "Name       12\n",
       "UT         12\n",
       "Maths      12\n",
       "Science    12\n",
       "S.St       12\n",
       "Hindi      12\n",
       "Eng        12\n",
       "dtype: int64"
      ]
     },
     "execution_count": 30,
     "metadata": {},
     "output_type": "execute_result"
    }
   ],
   "source": [
    "df.count()"
   ]
  },
  {
   "cell_type": "code",
   "execution_count": 31,
   "id": "65be72e8",
   "metadata": {},
   "outputs": [
    {
     "data": {
      "text/plain": [
       "0     7\n",
       "1     7\n",
       "2     7\n",
       "3     7\n",
       "4     7\n",
       "5     7\n",
       "6     7\n",
       "7     7\n",
       "8     7\n",
       "9     7\n",
       "10    7\n",
       "11    7\n",
       "dtype: int64"
      ]
     },
     "execution_count": 31,
     "metadata": {},
     "output_type": "execute_result"
    }
   ],
   "source": [
    "df.count(axis=1)"
   ]
  },
  {
   "cell_type": "markdown",
   "id": "b0a9b0a3",
   "metadata": {},
   "source": [
    "# <h3><center>Calculating mean<center><h3>"
   ]
  },
  {
   "cell_type": "code",
   "execution_count": 32,
   "id": "4284ae43",
   "metadata": {},
   "outputs": [
    {
     "name": "stderr",
     "output_type": "stream",
     "text": [
      "C:\\Users\\TOSHIBA\\AppData\\Local\\Temp\\ipykernel_1000\\3698961737.py:1: FutureWarning: Dropping of nuisance columns in DataFrame reductions (with 'numeric_only=None') is deprecated; in a future version this will raise TypeError.  Select only valid columns before calling the reduction.\n",
      "  df.mean()\n"
     ]
    },
    {
     "data": {
      "text/plain": [
       "UT          2.000000\n",
       "Maths      19.250000\n",
       "Science    19.750000\n",
       "S.St       20.416667\n",
       "Hindi      21.833333\n",
       "Eng        20.500000\n",
       "dtype: float64"
      ]
     },
     "execution_count": 32,
     "metadata": {},
     "output_type": "execute_result"
    }
   ],
   "source": [
    "df.mean()"
   ]
  },
  {
   "cell_type": "code",
   "execution_count": 33,
   "id": "303d0b5a",
   "metadata": {},
   "outputs": [
    {
     "name": "stderr",
     "output_type": "stream",
     "text": [
      "C:\\Users\\TOSHIBA\\AppData\\Local\\Temp\\ipykernel_1000\\3676274908.py:1: FutureWarning: Dropping of nuisance columns in DataFrame reductions (with 'numeric_only=None') is deprecated; in a future version this will raise TypeError.  Select only valid columns before calling the reduction.\n",
      "  df.mean(axis=1)\n"
     ]
    },
    {
     "data": {
      "text/plain": [
       "0     17.166667\n",
       "1     17.666667\n",
       "2     16.333333\n",
       "3     17.166667\n",
       "4     16.833333\n",
       "5     16.333333\n",
       "6     16.666667\n",
       "7     18.333333\n",
       "8     17.166667\n",
       "9     17.833333\n",
       "10    18.833333\n",
       "11    17.166667\n",
       "dtype: float64"
      ]
     },
     "execution_count": 33,
     "metadata": {},
     "output_type": "execute_result"
    }
   ],
   "source": [
    "df.mean(axis=1)"
   ]
  },
  {
   "cell_type": "code",
   "execution_count": 34,
   "id": "b6d9ba9e",
   "metadata": {},
   "outputs": [],
   "source": [
    "dfZuhaire=df[df.Name==\"Zuhaire\"]"
   ]
  },
  {
   "cell_type": "code",
   "execution_count": 35,
   "id": "d1d41ba5",
   "metadata": {},
   "outputs": [
    {
     "data": {
      "text/html": [
       "<div>\n",
       "<style scoped>\n",
       "    .dataframe tbody tr th:only-of-type {\n",
       "        vertical-align: middle;\n",
       "    }\n",
       "\n",
       "    .dataframe tbody tr th {\n",
       "        vertical-align: top;\n",
       "    }\n",
       "\n",
       "    .dataframe thead th {\n",
       "        text-align: right;\n",
       "    }\n",
       "</style>\n",
       "<table border=\"1\" class=\"dataframe\">\n",
       "  <thead>\n",
       "    <tr style=\"text-align: right;\">\n",
       "      <th></th>\n",
       "      <th>Name</th>\n",
       "      <th>UT</th>\n",
       "      <th>Maths</th>\n",
       "      <th>Science</th>\n",
       "      <th>S.St</th>\n",
       "      <th>Hindi</th>\n",
       "      <th>Eng</th>\n",
       "    </tr>\n",
       "  </thead>\n",
       "  <tbody>\n",
       "    <tr>\n",
       "      <th>3</th>\n",
       "      <td>Zuhaire</td>\n",
       "      <td>1</td>\n",
       "      <td>20</td>\n",
       "      <td>17</td>\n",
       "      <td>22</td>\n",
       "      <td>24</td>\n",
       "      <td>19</td>\n",
       "    </tr>\n",
       "    <tr>\n",
       "      <th>4</th>\n",
       "      <td>Zuhaire</td>\n",
       "      <td>2</td>\n",
       "      <td>23</td>\n",
       "      <td>15</td>\n",
       "      <td>21</td>\n",
       "      <td>25</td>\n",
       "      <td>15</td>\n",
       "    </tr>\n",
       "    <tr>\n",
       "      <th>5</th>\n",
       "      <td>Zuhaire</td>\n",
       "      <td>3</td>\n",
       "      <td>22</td>\n",
       "      <td>18</td>\n",
       "      <td>19</td>\n",
       "      <td>23</td>\n",
       "      <td>13</td>\n",
       "    </tr>\n",
       "  </tbody>\n",
       "</table>\n",
       "</div>"
      ],
      "text/plain": [
       "      Name  UT  Maths  Science  S.St  Hindi  Eng\n",
       "3  Zuhaire   1     20       17    22     24   19\n",
       "4  Zuhaire   2     23       15    21     25   15\n",
       "5  Zuhaire   3     22       18    19     23   13"
      ]
     },
     "execution_count": 35,
     "metadata": {},
     "output_type": "execute_result"
    }
   ],
   "source": [
    "dfZuhaire"
   ]
  },
  {
   "cell_type": "code",
   "execution_count": 36,
   "id": "db1ebd91",
   "metadata": {},
   "outputs": [],
   "source": [
    "dfZuhaireMarks=dfZuhaire.loc[:,\"Maths\":\"Eng\"]"
   ]
  },
  {
   "cell_type": "code",
   "execution_count": 37,
   "id": "f95db88e",
   "metadata": {},
   "outputs": [
    {
     "data": {
      "text/plain": [
       "Maths      21.666667\n",
       "Science    16.666667\n",
       "S.St       20.666667\n",
       "Hindi      24.000000\n",
       "Eng        15.666667\n",
       "dtype: float64"
      ]
     },
     "execution_count": 37,
     "metadata": {},
     "output_type": "execute_result"
    }
   ],
   "source": [
    "dfZuhaireMarks.mean()"
   ]
  },
  {
   "cell_type": "code",
   "execution_count": 38,
   "id": "74da955d",
   "metadata": {},
   "outputs": [
    {
     "data": {
      "text/plain": [
       "3    20.4\n",
       "4    19.8\n",
       "5    19.0\n",
       "dtype: float64"
      ]
     },
     "execution_count": 38,
     "metadata": {},
     "output_type": "execute_result"
    }
   ],
   "source": [
    "dfZuhaireMarks.mean(axis=1)"
   ]
  },
  {
   "cell_type": "code",
   "execution_count": 39,
   "id": "5b84c5b9",
   "metadata": {},
   "outputs": [],
   "source": [
    "dfMaths=df[[\"Maths\"]]"
   ]
  },
  {
   "cell_type": "code",
   "execution_count": 40,
   "id": "df7afbb6",
   "metadata": {},
   "outputs": [
    {
     "data": {
      "text/html": [
       "<div>\n",
       "<style scoped>\n",
       "    .dataframe tbody tr th:only-of-type {\n",
       "        vertical-align: middle;\n",
       "    }\n",
       "\n",
       "    .dataframe tbody tr th {\n",
       "        vertical-align: top;\n",
       "    }\n",
       "\n",
       "    .dataframe thead th {\n",
       "        text-align: right;\n",
       "    }\n",
       "</style>\n",
       "<table border=\"1\" class=\"dataframe\">\n",
       "  <thead>\n",
       "    <tr style=\"text-align: right;\">\n",
       "      <th></th>\n",
       "      <th>Maths</th>\n",
       "    </tr>\n",
       "  </thead>\n",
       "  <tbody>\n",
       "    <tr>\n",
       "      <th>0</th>\n",
       "      <td>22</td>\n",
       "    </tr>\n",
       "    <tr>\n",
       "      <th>1</th>\n",
       "      <td>21</td>\n",
       "    </tr>\n",
       "    <tr>\n",
       "      <th>2</th>\n",
       "      <td>14</td>\n",
       "    </tr>\n",
       "    <tr>\n",
       "      <th>3</th>\n",
       "      <td>20</td>\n",
       "    </tr>\n",
       "    <tr>\n",
       "      <th>4</th>\n",
       "      <td>23</td>\n",
       "    </tr>\n",
       "    <tr>\n",
       "      <th>5</th>\n",
       "      <td>22</td>\n",
       "    </tr>\n",
       "    <tr>\n",
       "      <th>6</th>\n",
       "      <td>23</td>\n",
       "    </tr>\n",
       "    <tr>\n",
       "      <th>7</th>\n",
       "      <td>24</td>\n",
       "    </tr>\n",
       "    <tr>\n",
       "      <th>8</th>\n",
       "      <td>12</td>\n",
       "    </tr>\n",
       "    <tr>\n",
       "      <th>9</th>\n",
       "      <td>15</td>\n",
       "    </tr>\n",
       "    <tr>\n",
       "      <th>10</th>\n",
       "      <td>18</td>\n",
       "    </tr>\n",
       "    <tr>\n",
       "      <th>11</th>\n",
       "      <td>17</td>\n",
       "    </tr>\n",
       "  </tbody>\n",
       "</table>\n",
       "</div>"
      ],
      "text/plain": [
       "    Maths\n",
       "0      22\n",
       "1      21\n",
       "2      14\n",
       "3      20\n",
       "4      23\n",
       "5      22\n",
       "6      23\n",
       "7      24\n",
       "8      12\n",
       "9      15\n",
       "10     18\n",
       "11     17"
      ]
     },
     "execution_count": 40,
     "metadata": {},
     "output_type": "execute_result"
    }
   ],
   "source": [
    "dfMaths"
   ]
  },
  {
   "cell_type": "code",
   "execution_count": 41,
   "id": "49f90e64",
   "metadata": {},
   "outputs": [],
   "source": [
    "dfMathsUT1=dfMaths[df.UT==1]"
   ]
  },
  {
   "cell_type": "code",
   "execution_count": 42,
   "id": "4c2a19b4",
   "metadata": {},
   "outputs": [
    {
     "data": {
      "text/plain": [
       "Maths    21.0\n",
       "dtype: float64"
      ]
     },
     "execution_count": 42,
     "metadata": {},
     "output_type": "execute_result"
    }
   ],
   "source": [
    "dfMathsUT1.median()"
   ]
  },
  {
   "cell_type": "markdown",
   "id": "5e4d9d77",
   "metadata": {},
   "source": [
    "\n",
    "# <h3><center>Calculating mode<center><h3>"
   ]
  },
  {
   "cell_type": "code",
   "execution_count": 43,
   "id": "8804255c",
   "metadata": {
    "scrolled": false
   },
   "outputs": [
    {
     "data": {
      "text/plain": [
       "0    24\n",
       "Name: Hindi, dtype: int64"
      ]
     },
     "execution_count": 43,
     "metadata": {},
     "output_type": "execute_result"
    }
   ],
   "source": [
    "df[\"Hindi\"].mode()"
   ]
  },
  {
   "cell_type": "markdown",
   "id": "4d527cbb",
   "metadata": {},
   "source": [
    "\n",
    "# <h3><center>Calculating mode<center><h3>"
   ]
  },
  {
   "cell_type": "code",
   "execution_count": 44,
   "id": "9c84a883",
   "metadata": {},
   "outputs": [
    {
     "data": {
      "text/plain": [
       "UT          1.00\n",
       "Maths      16.50\n",
       "Science    18.00\n",
       "S.St       18.75\n",
       "Hindi      20.75\n",
       "Eng        19.75\n",
       "Name: 0.25, dtype: float64"
      ]
     },
     "execution_count": 44,
     "metadata": {},
     "output_type": "execute_result"
    }
   ],
   "source": [
    "df.quantile(q=0.25) # The first quartile of each column"
   ]
  },
  {
   "cell_type": "code",
   "execution_count": 45,
   "id": "37fe5f0c",
   "metadata": {},
   "outputs": [
    {
     "data": {
      "text/plain": [
       "UT          2.0\n",
       "Maths      20.5\n",
       "Science    19.5\n",
       "S.St       20.0\n",
       "Hindi      22.5\n",
       "Eng        21.5\n",
       "Name: 0.5, dtype: float64"
      ]
     },
     "execution_count": 45,
     "metadata": {},
     "output_type": "execute_result"
    }
   ],
   "source": [
    "df.quantile(q=0.50)  # The second quartile of each column"
   ]
  },
  {
   "cell_type": "code",
   "execution_count": 46,
   "id": "4ea9e39e",
   "metadata": {},
   "outputs": [
    {
     "data": {
      "text/plain": [
       "UT          3.00\n",
       "Maths      22.25\n",
       "Science    21.25\n",
       "S.St       22.50\n",
       "Hindi      24.00\n",
       "Eng        23.00\n",
       "Name: 0.75, dtype: float64"
      ]
     },
     "execution_count": 46,
     "metadata": {},
     "output_type": "execute_result"
    }
   ],
   "source": [
    "df.quantile(q=0.75)  # The third quartile of each column"
   ]
  },
  {
   "cell_type": "code",
   "execution_count": 47,
   "id": "4ff7ebdc",
   "metadata": {},
   "outputs": [],
   "source": [
    "dfSubjects=df[[\"Maths\",\"Science\",\"S.St\",\"Hindi\",\"Eng\"]]"
   ]
  },
  {
   "cell_type": "code",
   "execution_count": 48,
   "id": "a3be6508",
   "metadata": {},
   "outputs": [
    {
     "data": {
      "text/html": [
       "<div>\n",
       "<style scoped>\n",
       "    .dataframe tbody tr th:only-of-type {\n",
       "        vertical-align: middle;\n",
       "    }\n",
       "\n",
       "    .dataframe tbody tr th {\n",
       "        vertical-align: top;\n",
       "    }\n",
       "\n",
       "    .dataframe thead th {\n",
       "        text-align: right;\n",
       "    }\n",
       "</style>\n",
       "<table border=\"1\" class=\"dataframe\">\n",
       "  <thead>\n",
       "    <tr style=\"text-align: right;\">\n",
       "      <th></th>\n",
       "      <th>Maths</th>\n",
       "      <th>Science</th>\n",
       "      <th>S.St</th>\n",
       "      <th>Hindi</th>\n",
       "      <th>Eng</th>\n",
       "    </tr>\n",
       "  </thead>\n",
       "  <tbody>\n",
       "    <tr>\n",
       "      <th>0.25</th>\n",
       "      <td>16.50</td>\n",
       "      <td>18.00</td>\n",
       "      <td>18.75</td>\n",
       "      <td>20.75</td>\n",
       "      <td>19.75</td>\n",
       "    </tr>\n",
       "    <tr>\n",
       "      <th>0.75</th>\n",
       "      <td>22.25</td>\n",
       "      <td>21.25</td>\n",
       "      <td>22.50</td>\n",
       "      <td>24.00</td>\n",
       "      <td>23.00</td>\n",
       "    </tr>\n",
       "  </tbody>\n",
       "</table>\n",
       "</div>"
      ],
      "text/plain": [
       "      Maths  Science   S.St  Hindi    Eng\n",
       "0.25  16.50    18.00  18.75  20.75  19.75\n",
       "0.75  22.25    21.25  22.50  24.00  23.00"
      ]
     },
     "execution_count": 48,
     "metadata": {},
     "output_type": "execute_result"
    }
   ],
   "source": [
    "dfSubjects.quantile([0.25,0.75])"
   ]
  },
  {
   "cell_type": "markdown",
   "id": "30415379",
   "metadata": {},
   "source": [
    "# <h3><center>Calculating Variance<center><h3>"
   ]
  },
  {
   "cell_type": "code",
   "execution_count": 49,
   "id": "0c71d019",
   "metadata": {},
   "outputs": [
    {
     "data": {
      "text/plain": [
       "Maths      15.840909\n",
       "Science     7.113636\n",
       "S.St        9.901515\n",
       "Hindi       9.969697\n",
       "Eng        11.363636\n",
       "dtype: float64"
      ]
     },
     "execution_count": 49,
     "metadata": {},
     "output_type": "execute_result"
    }
   ],
   "source": [
    "df[[\"Maths\",\"Science\",\"S.St\",\"Hindi\",\"Eng\"]].var()"
   ]
  },
  {
   "cell_type": "code",
   "execution_count": 50,
   "id": "5a52e7be",
   "metadata": {},
   "outputs": [
    {
     "data": {
      "text/plain": [
       "0      2.3\n",
       "1      6.7\n",
       "2     20.5\n",
       "3      7.3\n",
       "4     21.2\n",
       "5     15.5\n",
       "6      9.7\n",
       "7      8.3\n",
       "8     25.0\n",
       "9     13.7\n",
       "10     7.7\n",
       "11     9.5\n",
       "dtype: float64"
      ]
     },
     "execution_count": 50,
     "metadata": {},
     "output_type": "execute_result"
    }
   ],
   "source": [
    "df[[\"Maths\",\"Science\",\"S.St\",\"Hindi\",\"Eng\"]].var(axis=1)"
   ]
  },
  {
   "cell_type": "markdown",
   "id": "6daea763",
   "metadata": {},
   "source": [
    "# <h3><center>Standard deviation<center><h3>"
   ]
  },
  {
   "cell_type": "code",
   "execution_count": 51,
   "id": "184e82ca",
   "metadata": {},
   "outputs": [
    {
     "data": {
      "text/plain": [
       "Maths      3.980064\n",
       "Science    2.667140\n",
       "S.St       3.146667\n",
       "Hindi      3.157483\n",
       "Eng        3.370999\n",
       "dtype: float64"
      ]
     },
     "execution_count": 51,
     "metadata": {},
     "output_type": "execute_result"
    }
   ],
   "source": [
    "df[[\"Maths\",\"Science\",\"S.St\",\"Hindi\",\"Eng\"]].std()"
   ]
  },
  {
   "cell_type": "code",
   "execution_count": 52,
   "id": "efb3feee",
   "metadata": {},
   "outputs": [
    {
     "data": {
      "text/plain": [
       "0     1.516575\n",
       "1     2.588436\n",
       "2     4.527693\n",
       "3     2.701851\n",
       "4     4.604346\n",
       "5     3.937004\n",
       "6     3.114482\n",
       "7     2.880972\n",
       "8     5.000000\n",
       "9     3.701351\n",
       "10    2.774887\n",
       "11    3.082207\n",
       "dtype: float64"
      ]
     },
     "execution_count": 52,
     "metadata": {},
     "output_type": "execute_result"
    }
   ],
   "source": [
    "df[[\"Maths\",\"Science\",\"S.St\",\"Hindi\",\"Eng\"]].std(axis=1)"
   ]
  },
  {
   "cell_type": "markdown",
   "id": "58fbf06c",
   "metadata": {},
   "source": [
    "# <h3><center>Data Aggregation<center><h3>"
   ]
  },
  {
   "cell_type": "code",
   "execution_count": 53,
   "id": "c01aef7b",
   "metadata": {},
   "outputs": [
    {
     "data": {
      "text/plain": [
       "Name       Zuhaire\n",
       "UT               3\n",
       "Maths           24\n",
       "Science         25\n",
       "S.St            25\n",
       "Hindi           25\n",
       "Eng             24\n",
       "dtype: object"
      ]
     },
     "execution_count": 53,
     "metadata": {},
     "output_type": "execute_result"
    }
   ],
   "source": [
    "df.aggregate(\"max\")"
   ]
  },
  {
   "cell_type": "code",
   "execution_count": 54,
   "id": "d8b46466",
   "metadata": {},
   "outputs": [
    {
     "data": {
      "text/html": [
       "<div>\n",
       "<style scoped>\n",
       "    .dataframe tbody tr th:only-of-type {\n",
       "        vertical-align: middle;\n",
       "    }\n",
       "\n",
       "    .dataframe tbody tr th {\n",
       "        vertical-align: top;\n",
       "    }\n",
       "\n",
       "    .dataframe thead th {\n",
       "        text-align: right;\n",
       "    }\n",
       "</style>\n",
       "<table border=\"1\" class=\"dataframe\">\n",
       "  <thead>\n",
       "    <tr style=\"text-align: right;\">\n",
       "      <th></th>\n",
       "      <th>Name</th>\n",
       "      <th>UT</th>\n",
       "      <th>Maths</th>\n",
       "      <th>Science</th>\n",
       "      <th>S.St</th>\n",
       "      <th>Hindi</th>\n",
       "      <th>Eng</th>\n",
       "    </tr>\n",
       "  </thead>\n",
       "  <tbody>\n",
       "    <tr>\n",
       "      <th>max</th>\n",
       "      <td>Zuhaire</td>\n",
       "      <td>3</td>\n",
       "      <td>24</td>\n",
       "      <td>25</td>\n",
       "      <td>25</td>\n",
       "      <td>25</td>\n",
       "      <td>24</td>\n",
       "    </tr>\n",
       "    <tr>\n",
       "      <th>count</th>\n",
       "      <td>12</td>\n",
       "      <td>12</td>\n",
       "      <td>12</td>\n",
       "      <td>12</td>\n",
       "      <td>12</td>\n",
       "      <td>12</td>\n",
       "      <td>12</td>\n",
       "    </tr>\n",
       "  </tbody>\n",
       "</table>\n",
       "</div>"
      ],
      "text/plain": [
       "          Name  UT  Maths  Science  S.St  Hindi  Eng\n",
       "max    Zuhaire   3     24       25    25     25   24\n",
       "count       12  12     12       12    12     12   12"
      ]
     },
     "execution_count": 54,
     "metadata": {},
     "output_type": "execute_result"
    }
   ],
   "source": [
    "df.aggregate([\"max\",\"count\"])"
   ]
  },
  {
   "cell_type": "code",
   "execution_count": 55,
   "id": "aded555e",
   "metadata": {},
   "outputs": [
    {
     "data": {
      "text/html": [
       "<div>\n",
       "<style scoped>\n",
       "    .dataframe tbody tr th:only-of-type {\n",
       "        vertical-align: middle;\n",
       "    }\n",
       "\n",
       "    .dataframe tbody tr th {\n",
       "        vertical-align: top;\n",
       "    }\n",
       "\n",
       "    .dataframe thead th {\n",
       "        text-align: right;\n",
       "    }\n",
       "</style>\n",
       "<table border=\"1\" class=\"dataframe\">\n",
       "  <thead>\n",
       "    <tr style=\"text-align: right;\">\n",
       "      <th></th>\n",
       "      <th>Name</th>\n",
       "      <th>UT</th>\n",
       "      <th>Maths</th>\n",
       "      <th>Science</th>\n",
       "      <th>S.St</th>\n",
       "      <th>Hindi</th>\n",
       "      <th>Eng</th>\n",
       "    </tr>\n",
       "  </thead>\n",
       "  <tbody>\n",
       "    <tr>\n",
       "      <th>max</th>\n",
       "      <td>Zuhaire</td>\n",
       "      <td>3</td>\n",
       "      <td>24</td>\n",
       "      <td>25</td>\n",
       "      <td>25</td>\n",
       "      <td>25</td>\n",
       "      <td>24</td>\n",
       "    </tr>\n",
       "    <tr>\n",
       "      <th>min</th>\n",
       "      <td>Ashravy</td>\n",
       "      <td>1</td>\n",
       "      <td>12</td>\n",
       "      <td>15</td>\n",
       "      <td>15</td>\n",
       "      <td>15</td>\n",
       "      <td>13</td>\n",
       "    </tr>\n",
       "  </tbody>\n",
       "</table>\n",
       "</div>"
      ],
      "text/plain": [
       "        Name  UT  Maths  Science  S.St  Hindi  Eng\n",
       "max  Zuhaire   3     24       25    25     25   24\n",
       "min  Ashravy   1     12       15    15     15   13"
      ]
     },
     "execution_count": 55,
     "metadata": {},
     "output_type": "execute_result"
    }
   ],
   "source": [
    "df.aggregate([\"max\",\"min\"])"
   ]
  },
  {
   "cell_type": "code",
   "execution_count": 56,
   "id": "2bbe2961",
   "metadata": {},
   "outputs": [
    {
     "data": {
      "text/plain": [
       "min      12\n",
       "max      24\n",
       "count    12\n",
       "Name: Maths, dtype: int64"
      ]
     },
     "execution_count": 56,
     "metadata": {},
     "output_type": "execute_result"
    }
   ],
   "source": [
    "df[\"Maths\"].aggregate([\"min\",\"max\",\"count\"])"
   ]
  },
  {
   "cell_type": "code",
   "execution_count": 60,
   "id": "4515e42b",
   "metadata": {},
   "outputs": [],
   "source": [
    "dfUT2=df[df.UT==2]"
   ]
  },
  {
   "cell_type": "code",
   "execution_count": 62,
   "id": "ffc0f493",
   "metadata": {},
   "outputs": [
    {
     "data": {
      "text/html": [
       "<div>\n",
       "<style scoped>\n",
       "    .dataframe tbody tr th:only-of-type {\n",
       "        vertical-align: middle;\n",
       "    }\n",
       "\n",
       "    .dataframe tbody tr th {\n",
       "        vertical-align: top;\n",
       "    }\n",
       "\n",
       "    .dataframe thead th {\n",
       "        text-align: right;\n",
       "    }\n",
       "</style>\n",
       "<table border=\"1\" class=\"dataframe\">\n",
       "  <thead>\n",
       "    <tr style=\"text-align: right;\">\n",
       "      <th></th>\n",
       "      <th>Name</th>\n",
       "      <th>UT</th>\n",
       "      <th>Maths</th>\n",
       "      <th>Science</th>\n",
       "      <th>S.St</th>\n",
       "      <th>Hindi</th>\n",
       "      <th>Eng</th>\n",
       "    </tr>\n",
       "  </thead>\n",
       "  <tbody>\n",
       "    <tr>\n",
       "      <th>1</th>\n",
       "      <td>Raman</td>\n",
       "      <td>2</td>\n",
       "      <td>21</td>\n",
       "      <td>20</td>\n",
       "      <td>17</td>\n",
       "      <td>22</td>\n",
       "      <td>24</td>\n",
       "    </tr>\n",
       "    <tr>\n",
       "      <th>4</th>\n",
       "      <td>Zuhaire</td>\n",
       "      <td>2</td>\n",
       "      <td>23</td>\n",
       "      <td>15</td>\n",
       "      <td>21</td>\n",
       "      <td>25</td>\n",
       "      <td>15</td>\n",
       "    </tr>\n",
       "    <tr>\n",
       "      <th>7</th>\n",
       "      <td>Ashravy</td>\n",
       "      <td>2</td>\n",
       "      <td>24</td>\n",
       "      <td>22</td>\n",
       "      <td>24</td>\n",
       "      <td>17</td>\n",
       "      <td>21</td>\n",
       "    </tr>\n",
       "    <tr>\n",
       "      <th>10</th>\n",
       "      <td>Mishti</td>\n",
       "      <td>2</td>\n",
       "      <td>18</td>\n",
       "      <td>21</td>\n",
       "      <td>25</td>\n",
       "      <td>24</td>\n",
       "      <td>23</td>\n",
       "    </tr>\n",
       "  </tbody>\n",
       "</table>\n",
       "</div>"
      ],
      "text/plain": [
       "       Name  UT  Maths  Science  S.St  Hindi  Eng\n",
       "1     Raman   2     21       20    17     22   24\n",
       "4   Zuhaire   2     23       15    21     25   15\n",
       "7   Ashravy   2     24       22    24     17   21\n",
       "10   Mishti   2     18       21    25     24   23"
      ]
     },
     "execution_count": 62,
     "metadata": {},
     "output_type": "execute_result"
    }
   ],
   "source": [
    "dfUT2"
   ]
  },
  {
   "cell_type": "code",
   "execution_count": 65,
   "id": "99acdb83",
   "metadata": {},
   "outputs": [
    {
     "data": {
      "text/html": [
       "<div>\n",
       "<style scoped>\n",
       "    .dataframe tbody tr th:only-of-type {\n",
       "        vertical-align: middle;\n",
       "    }\n",
       "\n",
       "    .dataframe tbody tr th {\n",
       "        vertical-align: top;\n",
       "    }\n",
       "\n",
       "    .dataframe thead th {\n",
       "        text-align: right;\n",
       "    }\n",
       "</style>\n",
       "<table border=\"1\" class=\"dataframe\">\n",
       "  <thead>\n",
       "    <tr style=\"text-align: right;\">\n",
       "      <th></th>\n",
       "      <th>Name</th>\n",
       "      <th>UT</th>\n",
       "      <th>Maths</th>\n",
       "      <th>Science</th>\n",
       "      <th>S.St</th>\n",
       "      <th>Hindi</th>\n",
       "      <th>Eng</th>\n",
       "    </tr>\n",
       "  </thead>\n",
       "  <tbody>\n",
       "    <tr>\n",
       "      <th>4</th>\n",
       "      <td>Zuhaire</td>\n",
       "      <td>2</td>\n",
       "      <td>23</td>\n",
       "      <td>15</td>\n",
       "      <td>21</td>\n",
       "      <td>25</td>\n",
       "      <td>15</td>\n",
       "    </tr>\n",
       "    <tr>\n",
       "      <th>1</th>\n",
       "      <td>Raman</td>\n",
       "      <td>2</td>\n",
       "      <td>21</td>\n",
       "      <td>20</td>\n",
       "      <td>17</td>\n",
       "      <td>22</td>\n",
       "      <td>24</td>\n",
       "    </tr>\n",
       "    <tr>\n",
       "      <th>10</th>\n",
       "      <td>Mishti</td>\n",
       "      <td>2</td>\n",
       "      <td>18</td>\n",
       "      <td>21</td>\n",
       "      <td>25</td>\n",
       "      <td>24</td>\n",
       "      <td>23</td>\n",
       "    </tr>\n",
       "    <tr>\n",
       "      <th>7</th>\n",
       "      <td>Ashravy</td>\n",
       "      <td>2</td>\n",
       "      <td>24</td>\n",
       "      <td>22</td>\n",
       "      <td>24</td>\n",
       "      <td>17</td>\n",
       "      <td>21</td>\n",
       "    </tr>\n",
       "  </tbody>\n",
       "</table>\n",
       "</div>"
      ],
      "text/plain": [
       "       Name  UT  Maths  Science  S.St  Hindi  Eng\n",
       "4   Zuhaire   2     23       15    21     25   15\n",
       "1     Raman   2     21       20    17     22   24\n",
       "10   Mishti   2     18       21    25     24   23\n",
       "7   Ashravy   2     24       22    24     17   21"
      ]
     },
     "execution_count": 65,
     "metadata": {},
     "output_type": "execute_result"
    }
   ],
   "source": [
    "dfUT2.sort_values(by=[\"Science\"],ascending=True)"
   ]
  },
  {
   "cell_type": "code",
   "execution_count": 67,
   "id": "8fdee2a2",
   "metadata": {},
   "outputs": [
    {
     "data": {
      "text/html": [
       "<div>\n",
       "<style scoped>\n",
       "    .dataframe tbody tr th:only-of-type {\n",
       "        vertical-align: middle;\n",
       "    }\n",
       "\n",
       "    .dataframe tbody tr th {\n",
       "        vertical-align: top;\n",
       "    }\n",
       "\n",
       "    .dataframe thead th {\n",
       "        text-align: right;\n",
       "    }\n",
       "</style>\n",
       "<table border=\"1\" class=\"dataframe\">\n",
       "  <thead>\n",
       "    <tr style=\"text-align: right;\">\n",
       "      <th></th>\n",
       "      <th>Name</th>\n",
       "      <th>UT</th>\n",
       "      <th>Maths</th>\n",
       "      <th>Science</th>\n",
       "      <th>S.St</th>\n",
       "      <th>Hindi</th>\n",
       "      <th>Eng</th>\n",
       "    </tr>\n",
       "  </thead>\n",
       "  <tbody>\n",
       "    <tr>\n",
       "      <th>7</th>\n",
       "      <td>Ashravy</td>\n",
       "      <td>2</td>\n",
       "      <td>24</td>\n",
       "      <td>22</td>\n",
       "      <td>24</td>\n",
       "      <td>17</td>\n",
       "      <td>21</td>\n",
       "    </tr>\n",
       "    <tr>\n",
       "      <th>10</th>\n",
       "      <td>Mishti</td>\n",
       "      <td>2</td>\n",
       "      <td>18</td>\n",
       "      <td>21</td>\n",
       "      <td>25</td>\n",
       "      <td>24</td>\n",
       "      <td>23</td>\n",
       "    </tr>\n",
       "    <tr>\n",
       "      <th>1</th>\n",
       "      <td>Raman</td>\n",
       "      <td>2</td>\n",
       "      <td>21</td>\n",
       "      <td>20</td>\n",
       "      <td>17</td>\n",
       "      <td>22</td>\n",
       "      <td>24</td>\n",
       "    </tr>\n",
       "    <tr>\n",
       "      <th>4</th>\n",
       "      <td>Zuhaire</td>\n",
       "      <td>2</td>\n",
       "      <td>23</td>\n",
       "      <td>15</td>\n",
       "      <td>21</td>\n",
       "      <td>25</td>\n",
       "      <td>15</td>\n",
       "    </tr>\n",
       "  </tbody>\n",
       "</table>\n",
       "</div>"
      ],
      "text/plain": [
       "       Name  UT  Maths  Science  S.St  Hindi  Eng\n",
       "7   Ashravy   2     24       22    24     17   21\n",
       "10   Mishti   2     18       21    25     24   23\n",
       "1     Raman   2     21       20    17     22   24\n",
       "4   Zuhaire   2     23       15    21     25   15"
      ]
     },
     "execution_count": 67,
     "metadata": {},
     "output_type": "execute_result"
    }
   ],
   "source": [
    "dfUT2.sort_values(by=[\"Science\"],ascending=False)"
   ]
  },
  {
   "cell_type": "code",
   "execution_count": 69,
   "id": "302048f3",
   "metadata": {},
   "outputs": [],
   "source": [
    "dfUT3=df[df.UT==3]"
   ]
  },
  {
   "cell_type": "code",
   "execution_count": 73,
   "id": "f0414c29",
   "metadata": {},
   "outputs": [
    {
     "data": {
      "text/html": [
       "<div>\n",
       "<style scoped>\n",
       "    .dataframe tbody tr th:only-of-type {\n",
       "        vertical-align: middle;\n",
       "    }\n",
       "\n",
       "    .dataframe tbody tr th {\n",
       "        vertical-align: top;\n",
       "    }\n",
       "\n",
       "    .dataframe thead th {\n",
       "        text-align: right;\n",
       "    }\n",
       "</style>\n",
       "<table border=\"1\" class=\"dataframe\">\n",
       "  <thead>\n",
       "    <tr style=\"text-align: right;\">\n",
       "      <th></th>\n",
       "      <th>Name</th>\n",
       "      <th>UT</th>\n",
       "      <th>Maths</th>\n",
       "      <th>Science</th>\n",
       "      <th>S.St</th>\n",
       "      <th>Hindi</th>\n",
       "      <th>Eng</th>\n",
       "    </tr>\n",
       "  </thead>\n",
       "  <tbody>\n",
       "    <tr>\n",
       "      <th>5</th>\n",
       "      <td>Zuhaire</td>\n",
       "      <td>3</td>\n",
       "      <td>22</td>\n",
       "      <td>18</td>\n",
       "      <td>19</td>\n",
       "      <td>23</td>\n",
       "      <td>13</td>\n",
       "    </tr>\n",
       "    <tr>\n",
       "      <th>11</th>\n",
       "      <td>Mishti</td>\n",
       "      <td>3</td>\n",
       "      <td>17</td>\n",
       "      <td>18</td>\n",
       "      <td>20</td>\n",
       "      <td>25</td>\n",
       "      <td>20</td>\n",
       "    </tr>\n",
       "    <tr>\n",
       "      <th>2</th>\n",
       "      <td>Raman</td>\n",
       "      <td>3</td>\n",
       "      <td>14</td>\n",
       "      <td>19</td>\n",
       "      <td>15</td>\n",
       "      <td>24</td>\n",
       "      <td>23</td>\n",
       "    </tr>\n",
       "    <tr>\n",
       "      <th>8</th>\n",
       "      <td>Ashravy</td>\n",
       "      <td>3</td>\n",
       "      <td>12</td>\n",
       "      <td>25</td>\n",
       "      <td>19</td>\n",
       "      <td>21</td>\n",
       "      <td>23</td>\n",
       "    </tr>\n",
       "  </tbody>\n",
       "</table>\n",
       "</div>"
      ],
      "text/plain": [
       "       Name  UT  Maths  Science  S.St  Hindi  Eng\n",
       "5   Zuhaire   3     22       18    19     23   13\n",
       "11   Mishti   3     17       18    20     25   20\n",
       "2     Raman   3     14       19    15     24   23\n",
       "8   Ashravy   3     12       25    19     21   23"
      ]
     },
     "execution_count": 73,
     "metadata": {},
     "output_type": "execute_result"
    }
   ],
   "source": [
    "dfUT3.sort_values(by=[\"Eng\"],ascending=True)"
   ]
  },
  {
   "cell_type": "code",
   "execution_count": 75,
   "id": "a5c6ee43",
   "metadata": {},
   "outputs": [
    {
     "data": {
      "text/html": [
       "<div>\n",
       "<style scoped>\n",
       "    .dataframe tbody tr th:only-of-type {\n",
       "        vertical-align: middle;\n",
       "    }\n",
       "\n",
       "    .dataframe tbody tr th {\n",
       "        vertical-align: top;\n",
       "    }\n",
       "\n",
       "    .dataframe thead th {\n",
       "        text-align: right;\n",
       "    }\n",
       "</style>\n",
       "<table border=\"1\" class=\"dataframe\">\n",
       "  <thead>\n",
       "    <tr style=\"text-align: right;\">\n",
       "      <th></th>\n",
       "      <th>Name</th>\n",
       "      <th>UT</th>\n",
       "      <th>Maths</th>\n",
       "      <th>Science</th>\n",
       "      <th>S.St</th>\n",
       "      <th>Hindi</th>\n",
       "      <th>Eng</th>\n",
       "    </tr>\n",
       "  </thead>\n",
       "  <tbody>\n",
       "    <tr>\n",
       "      <th>2</th>\n",
       "      <td>Raman</td>\n",
       "      <td>3</td>\n",
       "      <td>14</td>\n",
       "      <td>19</td>\n",
       "      <td>15</td>\n",
       "      <td>24</td>\n",
       "      <td>23</td>\n",
       "    </tr>\n",
       "    <tr>\n",
       "      <th>8</th>\n",
       "      <td>Ashravy</td>\n",
       "      <td>3</td>\n",
       "      <td>12</td>\n",
       "      <td>25</td>\n",
       "      <td>19</td>\n",
       "      <td>21</td>\n",
       "      <td>23</td>\n",
       "    </tr>\n",
       "    <tr>\n",
       "      <th>11</th>\n",
       "      <td>Mishti</td>\n",
       "      <td>3</td>\n",
       "      <td>17</td>\n",
       "      <td>18</td>\n",
       "      <td>20</td>\n",
       "      <td>25</td>\n",
       "      <td>20</td>\n",
       "    </tr>\n",
       "    <tr>\n",
       "      <th>5</th>\n",
       "      <td>Zuhaire</td>\n",
       "      <td>3</td>\n",
       "      <td>22</td>\n",
       "      <td>18</td>\n",
       "      <td>19</td>\n",
       "      <td>23</td>\n",
       "      <td>13</td>\n",
       "    </tr>\n",
       "  </tbody>\n",
       "</table>\n",
       "</div>"
      ],
      "text/plain": [
       "       Name  UT  Maths  Science  S.St  Hindi  Eng\n",
       "2     Raman   3     14       19    15     24   23\n",
       "8   Ashravy   3     12       25    19     21   23\n",
       "11   Mishti   3     17       18    20     25   20\n",
       "5   Zuhaire   3     22       18    19     23   13"
      ]
     },
     "execution_count": 75,
     "metadata": {},
     "output_type": "execute_result"
    }
   ],
   "source": [
    "dfUT3.sort_values(by=[\"Eng\"],ascending=False)"
   ]
  },
  {
   "cell_type": "code",
   "execution_count": 79,
   "id": "b3876ef0",
   "metadata": {},
   "outputs": [
    {
     "data": {
      "text/html": [
       "<div>\n",
       "<style scoped>\n",
       "    .dataframe tbody tr th:only-of-type {\n",
       "        vertical-align: middle;\n",
       "    }\n",
       "\n",
       "    .dataframe tbody tr th {\n",
       "        vertical-align: top;\n",
       "    }\n",
       "\n",
       "    .dataframe thead th {\n",
       "        text-align: right;\n",
       "    }\n",
       "</style>\n",
       "<table border=\"1\" class=\"dataframe\">\n",
       "  <thead>\n",
       "    <tr style=\"text-align: right;\">\n",
       "      <th></th>\n",
       "      <th>Name</th>\n",
       "      <th>UT</th>\n",
       "      <th>Maths</th>\n",
       "      <th>Science</th>\n",
       "      <th>S.St</th>\n",
       "      <th>Hindi</th>\n",
       "      <th>Eng</th>\n",
       "    </tr>\n",
       "  </thead>\n",
       "  <tbody>\n",
       "    <tr>\n",
       "      <th>5</th>\n",
       "      <td>Zuhaire</td>\n",
       "      <td>3</td>\n",
       "      <td>22</td>\n",
       "      <td>18</td>\n",
       "      <td>19</td>\n",
       "      <td>23</td>\n",
       "      <td>13</td>\n",
       "    </tr>\n",
       "    <tr>\n",
       "      <th>11</th>\n",
       "      <td>Mishti</td>\n",
       "      <td>3</td>\n",
       "      <td>17</td>\n",
       "      <td>18</td>\n",
       "      <td>20</td>\n",
       "      <td>25</td>\n",
       "      <td>20</td>\n",
       "    </tr>\n",
       "    <tr>\n",
       "      <th>2</th>\n",
       "      <td>Raman</td>\n",
       "      <td>3</td>\n",
       "      <td>14</td>\n",
       "      <td>19</td>\n",
       "      <td>15</td>\n",
       "      <td>24</td>\n",
       "      <td>23</td>\n",
       "    </tr>\n",
       "    <tr>\n",
       "      <th>8</th>\n",
       "      <td>Ashravy</td>\n",
       "      <td>3</td>\n",
       "      <td>12</td>\n",
       "      <td>25</td>\n",
       "      <td>19</td>\n",
       "      <td>21</td>\n",
       "      <td>23</td>\n",
       "    </tr>\n",
       "  </tbody>\n",
       "</table>\n",
       "</div>"
      ],
      "text/plain": [
       "       Name  UT  Maths  Science  S.St  Hindi  Eng\n",
       "5   Zuhaire   3     22       18    19     23   13\n",
       "11   Mishti   3     17       18    20     25   20\n",
       "2     Raman   3     14       19    15     24   23\n",
       "8   Ashravy   3     12       25    19     21   23"
      ]
     },
     "execution_count": 79,
     "metadata": {},
     "output_type": "execute_result"
    }
   ],
   "source": [
    "dfUT3.sort_values(by=[\"Science\",\"Eng\"],ascending=True)"
   ]
  },
  {
   "cell_type": "code",
   "execution_count": 89,
   "id": "8abca8ba",
   "metadata": {},
   "outputs": [],
   "source": [
    "g1=df.groupby(\"Name\")"
   ]
  },
  {
   "cell_type": "code",
   "execution_count": 103,
   "id": "361f5efb",
   "metadata": {
    "scrolled": true
   },
   "outputs": [
    {
     "data": {
      "text/html": [
       "<div>\n",
       "<style scoped>\n",
       "    .dataframe tbody tr th:only-of-type {\n",
       "        vertical-align: middle;\n",
       "    }\n",
       "\n",
       "    .dataframe tbody tr th {\n",
       "        vertical-align: top;\n",
       "    }\n",
       "\n",
       "    .dataframe thead th {\n",
       "        text-align: right;\n",
       "    }\n",
       "</style>\n",
       "<table border=\"1\" class=\"dataframe\">\n",
       "  <thead>\n",
       "    <tr style=\"text-align: right;\">\n",
       "      <th></th>\n",
       "      <th>Name</th>\n",
       "      <th>UT</th>\n",
       "      <th>Maths</th>\n",
       "      <th>Science</th>\n",
       "      <th>S.St</th>\n",
       "      <th>Hindi</th>\n",
       "      <th>Eng</th>\n",
       "    </tr>\n",
       "  </thead>\n",
       "  <tbody>\n",
       "    <tr>\n",
       "      <th>0</th>\n",
       "      <td>Raman</td>\n",
       "      <td>1</td>\n",
       "      <td>22</td>\n",
       "      <td>21</td>\n",
       "      <td>18</td>\n",
       "      <td>20</td>\n",
       "      <td>21</td>\n",
       "    </tr>\n",
       "    <tr>\n",
       "      <th>1</th>\n",
       "      <td>Raman</td>\n",
       "      <td>2</td>\n",
       "      <td>21</td>\n",
       "      <td>20</td>\n",
       "      <td>17</td>\n",
       "      <td>22</td>\n",
       "      <td>24</td>\n",
       "    </tr>\n",
       "    <tr>\n",
       "      <th>2</th>\n",
       "      <td>Raman</td>\n",
       "      <td>3</td>\n",
       "      <td>14</td>\n",
       "      <td>19</td>\n",
       "      <td>15</td>\n",
       "      <td>24</td>\n",
       "      <td>23</td>\n",
       "    </tr>\n",
       "  </tbody>\n",
       "</table>\n",
       "</div>"
      ],
      "text/plain": [
       "    Name  UT  Maths  Science  S.St  Hindi  Eng\n",
       "0  Raman   1     22       21    18     20   21\n",
       "1  Raman   2     21       20    17     22   24\n",
       "2  Raman   3     14       19    15     24   23"
      ]
     },
     "execution_count": 103,
     "metadata": {},
     "output_type": "execute_result"
    }
   ],
   "source": [
    "g1.get_group(\"Raman\")"
   ]
  },
  {
   "cell_type": "code",
   "execution_count": 106,
   "id": "7481ca9e",
   "metadata": {},
   "outputs": [
    {
     "data": {
      "text/plain": [
       "Name\n",
       "Ashravy    3\n",
       "Mishti     3\n",
       "Raman      3\n",
       "Zuhaire    3\n",
       "dtype: int64"
      ]
     },
     "execution_count": 106,
     "metadata": {},
     "output_type": "execute_result"
    }
   ],
   "source": [
    "g1.size()"
   ]
  },
  {
   "cell_type": "code",
   "execution_count": 107,
   "id": "389ab2b8",
   "metadata": {},
   "outputs": [],
   "source": [
    "g2=df.groupby([\"Name\",\"UT\"])"
   ]
  },
  {
   "cell_type": "code",
   "execution_count": 111,
   "id": "5bd36175",
   "metadata": {},
   "outputs": [
    {
     "data": {
      "text/plain": [
       "{('Ashravy', 1): [6], ('Ashravy', 2): [7], ('Ashravy', 3): [8], ('Mishti', 1): [9], ('Mishti', 2): [10], ('Mishti', 3): [11], ('Raman', 1): [0], ('Raman', 2): [1], ('Raman', 3): [2], ('Zuhaire', 1): [3], ('Zuhaire', 2): [4], ('Zuhaire', 3): [5]}"
      ]
     },
     "execution_count": 111,
     "metadata": {},
     "output_type": "execute_result"
    }
   ],
   "source": [
    "g2.groups"
   ]
  },
  {
   "cell_type": "code",
   "execution_count": 115,
   "id": "757be257",
   "metadata": {},
   "outputs": [
    {
     "data": {
      "text/html": [
       "<div>\n",
       "<style scoped>\n",
       "    .dataframe tbody tr th:only-of-type {\n",
       "        vertical-align: middle;\n",
       "    }\n",
       "\n",
       "    .dataframe tbody tr th {\n",
       "        vertical-align: top;\n",
       "    }\n",
       "\n",
       "    .dataframe thead th {\n",
       "        text-align: right;\n",
       "    }\n",
       "</style>\n",
       "<table border=\"1\" class=\"dataframe\">\n",
       "  <thead>\n",
       "    <tr style=\"text-align: right;\">\n",
       "      <th></th>\n",
       "      <th>Name</th>\n",
       "      <th>UT</th>\n",
       "      <th>Maths</th>\n",
       "      <th>Science</th>\n",
       "      <th>S.St</th>\n",
       "      <th>Hindi</th>\n",
       "      <th>Eng</th>\n",
       "    </tr>\n",
       "  </thead>\n",
       "  <tbody>\n",
       "    <tr>\n",
       "      <th>8</th>\n",
       "      <td>Ashravy</td>\n",
       "      <td>3</td>\n",
       "      <td>12</td>\n",
       "      <td>25</td>\n",
       "      <td>19</td>\n",
       "      <td>21</td>\n",
       "      <td>23</td>\n",
       "    </tr>\n",
       "  </tbody>\n",
       "</table>\n",
       "</div>"
      ],
      "text/plain": [
       "      Name  UT  Maths  Science  S.St  Hindi  Eng\n",
       "8  Ashravy   3     12       25    19     21   23"
      ]
     },
     "execution_count": 115,
     "metadata": {},
     "output_type": "execute_result"
    }
   ],
   "source": [
    "g2.get_group(('Ashravy', 3))"
   ]
  },
  {
   "cell_type": "code",
   "execution_count": 117,
   "id": "bdd29db1",
   "metadata": {},
   "outputs": [
    {
     "data": {
      "text/html": [
       "<div>\n",
       "<style scoped>\n",
       "    .dataframe tbody tr th:only-of-type {\n",
       "        vertical-align: middle;\n",
       "    }\n",
       "\n",
       "    .dataframe tbody tr th {\n",
       "        vertical-align: top;\n",
       "    }\n",
       "\n",
       "    .dataframe thead th {\n",
       "        text-align: right;\n",
       "    }\n",
       "</style>\n",
       "<table border=\"1\" class=\"dataframe\">\n",
       "  <thead>\n",
       "    <tr style=\"text-align: right;\">\n",
       "      <th></th>\n",
       "      <th></th>\n",
       "      <th>Maths</th>\n",
       "      <th>Science</th>\n",
       "      <th>S.St</th>\n",
       "      <th>Hindi</th>\n",
       "      <th>Eng</th>\n",
       "    </tr>\n",
       "    <tr>\n",
       "      <th>Name</th>\n",
       "      <th>UT</th>\n",
       "      <th></th>\n",
       "      <th></th>\n",
       "      <th></th>\n",
       "      <th></th>\n",
       "      <th></th>\n",
       "    </tr>\n",
       "  </thead>\n",
       "  <tbody>\n",
       "    <tr>\n",
       "      <th rowspan=\"3\" valign=\"top\">Ashravy</th>\n",
       "      <th>1</th>\n",
       "      <td>23</td>\n",
       "      <td>19</td>\n",
       "      <td>20</td>\n",
       "      <td>15</td>\n",
       "      <td>22</td>\n",
       "    </tr>\n",
       "    <tr>\n",
       "      <th>2</th>\n",
       "      <td>24</td>\n",
       "      <td>22</td>\n",
       "      <td>24</td>\n",
       "      <td>17</td>\n",
       "      <td>21</td>\n",
       "    </tr>\n",
       "    <tr>\n",
       "      <th>3</th>\n",
       "      <td>12</td>\n",
       "      <td>25</td>\n",
       "      <td>19</td>\n",
       "      <td>21</td>\n",
       "      <td>23</td>\n",
       "    </tr>\n",
       "    <tr>\n",
       "      <th rowspan=\"3\" valign=\"top\">Mishti</th>\n",
       "      <th>1</th>\n",
       "      <td>15</td>\n",
       "      <td>22</td>\n",
       "      <td>25</td>\n",
       "      <td>22</td>\n",
       "      <td>22</td>\n",
       "    </tr>\n",
       "    <tr>\n",
       "      <th>2</th>\n",
       "      <td>18</td>\n",
       "      <td>21</td>\n",
       "      <td>25</td>\n",
       "      <td>24</td>\n",
       "      <td>23</td>\n",
       "    </tr>\n",
       "    <tr>\n",
       "      <th>3</th>\n",
       "      <td>17</td>\n",
       "      <td>18</td>\n",
       "      <td>20</td>\n",
       "      <td>25</td>\n",
       "      <td>20</td>\n",
       "    </tr>\n",
       "    <tr>\n",
       "      <th rowspan=\"3\" valign=\"top\">Raman</th>\n",
       "      <th>1</th>\n",
       "      <td>22</td>\n",
       "      <td>21</td>\n",
       "      <td>18</td>\n",
       "      <td>20</td>\n",
       "      <td>21</td>\n",
       "    </tr>\n",
       "    <tr>\n",
       "      <th>2</th>\n",
       "      <td>21</td>\n",
       "      <td>20</td>\n",
       "      <td>17</td>\n",
       "      <td>22</td>\n",
       "      <td>24</td>\n",
       "    </tr>\n",
       "    <tr>\n",
       "      <th>3</th>\n",
       "      <td>14</td>\n",
       "      <td>19</td>\n",
       "      <td>15</td>\n",
       "      <td>24</td>\n",
       "      <td>23</td>\n",
       "    </tr>\n",
       "    <tr>\n",
       "      <th rowspan=\"3\" valign=\"top\">Zuhaire</th>\n",
       "      <th>1</th>\n",
       "      <td>20</td>\n",
       "      <td>17</td>\n",
       "      <td>22</td>\n",
       "      <td>24</td>\n",
       "      <td>19</td>\n",
       "    </tr>\n",
       "    <tr>\n",
       "      <th>2</th>\n",
       "      <td>23</td>\n",
       "      <td>15</td>\n",
       "      <td>21</td>\n",
       "      <td>25</td>\n",
       "      <td>15</td>\n",
       "    </tr>\n",
       "    <tr>\n",
       "      <th>3</th>\n",
       "      <td>22</td>\n",
       "      <td>18</td>\n",
       "      <td>19</td>\n",
       "      <td>23</td>\n",
       "      <td>13</td>\n",
       "    </tr>\n",
       "  </tbody>\n",
       "</table>\n",
       "</div>"
      ],
      "text/plain": [
       "            Maths  Science  S.St  Hindi  Eng\n",
       "Name    UT                                  \n",
       "Ashravy 1      23       19    20     15   22\n",
       "        2      24       22    24     17   21\n",
       "        3      12       25    19     21   23\n",
       "Mishti  1      15       22    25     22   22\n",
       "        2      18       21    25     24   23\n",
       "        3      17       18    20     25   20\n",
       "Raman   1      22       21    18     20   21\n",
       "        2      21       20    17     22   24\n",
       "        3      14       19    15     24   23\n",
       "Zuhaire 1      20       17    22     24   19\n",
       "        2      23       15    21     25   15\n",
       "        3      22       18    19     23   13"
      ]
     },
     "execution_count": 117,
     "metadata": {},
     "output_type": "execute_result"
    }
   ],
   "source": [
    "g2.first()"
   ]
  },
  {
   "cell_type": "code",
   "execution_count": 121,
   "id": "dc40d8eb",
   "metadata": {},
   "outputs": [
    {
     "data": {
      "text/html": [
       "<div>\n",
       "<style scoped>\n",
       "    .dataframe tbody tr th:only-of-type {\n",
       "        vertical-align: middle;\n",
       "    }\n",
       "\n",
       "    .dataframe tbody tr th {\n",
       "        vertical-align: top;\n",
       "    }\n",
       "\n",
       "    .dataframe thead th {\n",
       "        text-align: right;\n",
       "    }\n",
       "</style>\n",
       "<table border=\"1\" class=\"dataframe\">\n",
       "  <thead>\n",
       "    <tr style=\"text-align: right;\">\n",
       "      <th></th>\n",
       "      <th>Maths</th>\n",
       "      <th>Science</th>\n",
       "      <th>S.St</th>\n",
       "      <th>Hindi</th>\n",
       "      <th>Eng</th>\n",
       "    </tr>\n",
       "    <tr>\n",
       "      <th>UT</th>\n",
       "      <th></th>\n",
       "      <th></th>\n",
       "      <th></th>\n",
       "      <th></th>\n",
       "      <th></th>\n",
       "    </tr>\n",
       "  </thead>\n",
       "  <tbody>\n",
       "    <tr>\n",
       "      <th>1</th>\n",
       "      <td>20.00</td>\n",
       "      <td>19.75</td>\n",
       "      <td>21.25</td>\n",
       "      <td>20.25</td>\n",
       "      <td>21.00</td>\n",
       "    </tr>\n",
       "    <tr>\n",
       "      <th>2</th>\n",
       "      <td>21.50</td>\n",
       "      <td>19.50</td>\n",
       "      <td>21.75</td>\n",
       "      <td>22.00</td>\n",
       "      <td>20.75</td>\n",
       "    </tr>\n",
       "    <tr>\n",
       "      <th>3</th>\n",
       "      <td>16.25</td>\n",
       "      <td>20.00</td>\n",
       "      <td>18.25</td>\n",
       "      <td>23.25</td>\n",
       "      <td>19.75</td>\n",
       "    </tr>\n",
       "  </tbody>\n",
       "</table>\n",
       "</div>"
      ],
      "text/plain": [
       "    Maths  Science   S.St  Hindi    Eng\n",
       "UT                                     \n",
       "1   20.00    19.75  21.25  20.25  21.00\n",
       "2   21.50    19.50  21.75  22.00  20.75\n",
       "3   16.25    20.00  18.25  23.25  19.75"
      ]
     },
     "execution_count": 121,
     "metadata": {},
     "output_type": "execute_result"
    }
   ],
   "source": [
    "df.groupby([\"UT\"]).agg(\"mean\")"
   ]
  },
  {
   "cell_type": "code",
   "execution_count": 123,
   "id": "88d09bab",
   "metadata": {},
   "outputs": [],
   "source": [
    "g3=df.groupby([\"UT\"])"
   ]
  },
  {
   "cell_type": "code",
   "execution_count": 125,
   "id": "1264c864",
   "metadata": {},
   "outputs": [
    {
     "data": {
      "text/plain": [
       "UT\n",
       "1    20.00\n",
       "2    21.50\n",
       "3    16.25\n",
       "Name: Maths, dtype: float64"
      ]
     },
     "execution_count": 125,
     "metadata": {},
     "output_type": "execute_result"
    }
   ],
   "source": [
    "g3[\"Maths\"].agg(\"mean\")"
   ]
  },
  {
   "cell_type": "code",
   "execution_count": 132,
   "id": "942a743c",
   "metadata": {},
   "outputs": [
    {
     "data": {
      "text/html": [
       "<div>\n",
       "<style scoped>\n",
       "    .dataframe tbody tr th:only-of-type {\n",
       "        vertical-align: middle;\n",
       "    }\n",
       "\n",
       "    .dataframe tbody tr th {\n",
       "        vertical-align: top;\n",
       "    }\n",
       "\n",
       "    .dataframe thead th {\n",
       "        text-align: right;\n",
       "    }\n",
       "</style>\n",
       "<table border=\"1\" class=\"dataframe\">\n",
       "  <thead>\n",
       "    <tr style=\"text-align: right;\">\n",
       "      <th></th>\n",
       "      <th>mean</th>\n",
       "      <th>var</th>\n",
       "      <th>quantile</th>\n",
       "      <th>std</th>\n",
       "    </tr>\n",
       "    <tr>\n",
       "      <th>Name</th>\n",
       "      <th></th>\n",
       "      <th></th>\n",
       "      <th></th>\n",
       "      <th></th>\n",
       "    </tr>\n",
       "  </thead>\n",
       "  <tbody>\n",
       "    <tr>\n",
       "      <th>Ashravy</th>\n",
       "      <td>19.666667</td>\n",
       "      <td>44.333333</td>\n",
       "      <td>23.0</td>\n",
       "      <td>6.658328</td>\n",
       "    </tr>\n",
       "    <tr>\n",
       "      <th>Mishti</th>\n",
       "      <td>16.666667</td>\n",
       "      <td>2.333333</td>\n",
       "      <td>17.0</td>\n",
       "      <td>1.527525</td>\n",
       "    </tr>\n",
       "    <tr>\n",
       "      <th>Raman</th>\n",
       "      <td>19.000000</td>\n",
       "      <td>19.000000</td>\n",
       "      <td>21.0</td>\n",
       "      <td>4.358899</td>\n",
       "    </tr>\n",
       "    <tr>\n",
       "      <th>Zuhaire</th>\n",
       "      <td>21.666667</td>\n",
       "      <td>2.333333</td>\n",
       "      <td>22.0</td>\n",
       "      <td>1.527525</td>\n",
       "    </tr>\n",
       "  </tbody>\n",
       "</table>\n",
       "</div>"
      ],
      "text/plain": [
       "              mean        var  quantile       std\n",
       "Name                                             \n",
       "Ashravy  19.666667  44.333333      23.0  6.658328\n",
       "Mishti   16.666667   2.333333      17.0  1.527525\n",
       "Raman    19.000000  19.000000      21.0  4.358899\n",
       "Zuhaire  21.666667   2.333333      22.0  1.527525"
      ]
     },
     "execution_count": 132,
     "metadata": {},
     "output_type": "execute_result"
    }
   ],
   "source": [
    "df.groupby(\"Name\")[\"Maths\"].agg([\"mean\",\"var\",\"quantile\",\"std\"])"
   ]
  },
  {
   "cell_type": "code",
   "execution_count": 135,
   "id": "b8590b37",
   "metadata": {},
   "outputs": [
    {
     "data": {
      "text/html": [
       "<div>\n",
       "<style scoped>\n",
       "    .dataframe tbody tr th:only-of-type {\n",
       "        vertical-align: middle;\n",
       "    }\n",
       "\n",
       "    .dataframe tbody tr th {\n",
       "        vertical-align: top;\n",
       "    }\n",
       "\n",
       "    .dataframe thead th {\n",
       "        text-align: right;\n",
       "    }\n",
       "</style>\n",
       "<table border=\"1\" class=\"dataframe\">\n",
       "  <thead>\n",
       "    <tr style=\"text-align: right;\">\n",
       "      <th></th>\n",
       "      <th>mean</th>\n",
       "    </tr>\n",
       "    <tr>\n",
       "      <th>UT</th>\n",
       "      <th></th>\n",
       "    </tr>\n",
       "  </thead>\n",
       "  <tbody>\n",
       "    <tr>\n",
       "      <th>1</th>\n",
       "      <td>19.75</td>\n",
       "    </tr>\n",
       "    <tr>\n",
       "      <th>2</th>\n",
       "      <td>19.50</td>\n",
       "    </tr>\n",
       "    <tr>\n",
       "      <th>3</th>\n",
       "      <td>20.00</td>\n",
       "    </tr>\n",
       "  </tbody>\n",
       "</table>\n",
       "</div>"
      ],
      "text/plain": [
       "     mean\n",
       "UT       \n",
       "1   19.75\n",
       "2   19.50\n",
       "3   20.00"
      ]
     },
     "execution_count": 135,
     "metadata": {},
     "output_type": "execute_result"
    }
   ],
   "source": [
    "df.groupby(\"UT\")[\"Science\"].agg([\"mean\"])"
   ]
  },
  {
   "cell_type": "code",
   "execution_count": 169,
   "id": "5455243f",
   "metadata": {},
   "outputs": [
    {
     "name": "stdout",
     "output_type": "stream",
     "text": [
      "      Name  UT  Maths  Science  S.St  Hindi  Eng\n",
      "0    Raman   1     22       21    18     20   21\n",
      "3  Zuhaire   1     20       17    22     24   19\n",
      "6  Ashravy   1     23       19    20     15   22\n",
      "9   Mishti   1     15       22    25     22   22\n"
     ]
    }
   ],
   "source": [
    "dfUT1=df[df.UT==1]\n",
    "print(dfUT1)"
   ]
  },
  {
   "cell_type": "code",
   "execution_count": 170,
   "id": "a8f23a53",
   "metadata": {},
   "outputs": [],
   "source": [
    "dfUT1.reset_index(inplace=True)"
   ]
  },
  {
   "cell_type": "code",
   "execution_count": 171,
   "id": "1b120826",
   "metadata": {},
   "outputs": [
    {
     "data": {
      "text/html": [
       "<div>\n",
       "<style scoped>\n",
       "    .dataframe tbody tr th:only-of-type {\n",
       "        vertical-align: middle;\n",
       "    }\n",
       "\n",
       "    .dataframe tbody tr th {\n",
       "        vertical-align: top;\n",
       "    }\n",
       "\n",
       "    .dataframe thead th {\n",
       "        text-align: right;\n",
       "    }\n",
       "</style>\n",
       "<table border=\"1\" class=\"dataframe\">\n",
       "  <thead>\n",
       "    <tr style=\"text-align: right;\">\n",
       "      <th></th>\n",
       "      <th>index</th>\n",
       "      <th>Name</th>\n",
       "      <th>UT</th>\n",
       "      <th>Maths</th>\n",
       "      <th>Science</th>\n",
       "      <th>S.St</th>\n",
       "      <th>Hindi</th>\n",
       "      <th>Eng</th>\n",
       "    </tr>\n",
       "  </thead>\n",
       "  <tbody>\n",
       "    <tr>\n",
       "      <th>0</th>\n",
       "      <td>0</td>\n",
       "      <td>Raman</td>\n",
       "      <td>1</td>\n",
       "      <td>22</td>\n",
       "      <td>21</td>\n",
       "      <td>18</td>\n",
       "      <td>20</td>\n",
       "      <td>21</td>\n",
       "    </tr>\n",
       "    <tr>\n",
       "      <th>1</th>\n",
       "      <td>3</td>\n",
       "      <td>Zuhaire</td>\n",
       "      <td>1</td>\n",
       "      <td>20</td>\n",
       "      <td>17</td>\n",
       "      <td>22</td>\n",
       "      <td>24</td>\n",
       "      <td>19</td>\n",
       "    </tr>\n",
       "    <tr>\n",
       "      <th>2</th>\n",
       "      <td>6</td>\n",
       "      <td>Ashravy</td>\n",
       "      <td>1</td>\n",
       "      <td>23</td>\n",
       "      <td>19</td>\n",
       "      <td>20</td>\n",
       "      <td>15</td>\n",
       "      <td>22</td>\n",
       "    </tr>\n",
       "    <tr>\n",
       "      <th>3</th>\n",
       "      <td>9</td>\n",
       "      <td>Mishti</td>\n",
       "      <td>1</td>\n",
       "      <td>15</td>\n",
       "      <td>22</td>\n",
       "      <td>25</td>\n",
       "      <td>22</td>\n",
       "      <td>22</td>\n",
       "    </tr>\n",
       "  </tbody>\n",
       "</table>\n",
       "</div>"
      ],
      "text/plain": [
       "   index     Name  UT  Maths  Science  S.St  Hindi  Eng\n",
       "0      0    Raman   1     22       21    18     20   21\n",
       "1      3  Zuhaire   1     20       17    22     24   19\n",
       "2      6  Ashravy   1     23       19    20     15   22\n",
       "3      9   Mishti   1     15       22    25     22   22"
      ]
     },
     "execution_count": 171,
     "metadata": {},
     "output_type": "execute_result"
    }
   ],
   "source": [
    "dfUT1"
   ]
  },
  {
   "cell_type": "code",
   "execution_count": 172,
   "id": "660a5b6b",
   "metadata": {},
   "outputs": [
    {
     "name": "stderr",
     "output_type": "stream",
     "text": [
      "C:\\Users\\TOSHIBA\\AppData\\Local\\Temp\\ipykernel_1000\\522226873.py:1: SettingWithCopyWarning: \n",
      "A value is trying to be set on a copy of a slice from a DataFrame\n",
      "\n",
      "See the caveats in the documentation: https://pandas.pydata.org/pandas-docs/stable/user_guide/indexing.html#returning-a-view-versus-a-copy\n",
      "  dfUT1.drop(columns=[\"index\"],inplace=True)\n"
     ]
    }
   ],
   "source": [
    "dfUT1.drop(columns=[\"index\"],inplace=True)"
   ]
  },
  {
   "cell_type": "code",
   "execution_count": 173,
   "id": "5d71b2b7",
   "metadata": {},
   "outputs": [
    {
     "data": {
      "text/html": [
       "<div>\n",
       "<style scoped>\n",
       "    .dataframe tbody tr th:only-of-type {\n",
       "        vertical-align: middle;\n",
       "    }\n",
       "\n",
       "    .dataframe tbody tr th {\n",
       "        vertical-align: top;\n",
       "    }\n",
       "\n",
       "    .dataframe thead th {\n",
       "        text-align: right;\n",
       "    }\n",
       "</style>\n",
       "<table border=\"1\" class=\"dataframe\">\n",
       "  <thead>\n",
       "    <tr style=\"text-align: right;\">\n",
       "      <th></th>\n",
       "      <th>Name</th>\n",
       "      <th>UT</th>\n",
       "      <th>Maths</th>\n",
       "      <th>Science</th>\n",
       "      <th>S.St</th>\n",
       "      <th>Hindi</th>\n",
       "      <th>Eng</th>\n",
       "    </tr>\n",
       "  </thead>\n",
       "  <tbody>\n",
       "    <tr>\n",
       "      <th>0</th>\n",
       "      <td>Raman</td>\n",
       "      <td>1</td>\n",
       "      <td>22</td>\n",
       "      <td>21</td>\n",
       "      <td>18</td>\n",
       "      <td>20</td>\n",
       "      <td>21</td>\n",
       "    </tr>\n",
       "    <tr>\n",
       "      <th>1</th>\n",
       "      <td>Zuhaire</td>\n",
       "      <td>1</td>\n",
       "      <td>20</td>\n",
       "      <td>17</td>\n",
       "      <td>22</td>\n",
       "      <td>24</td>\n",
       "      <td>19</td>\n",
       "    </tr>\n",
       "    <tr>\n",
       "      <th>2</th>\n",
       "      <td>Ashravy</td>\n",
       "      <td>1</td>\n",
       "      <td>23</td>\n",
       "      <td>19</td>\n",
       "      <td>20</td>\n",
       "      <td>15</td>\n",
       "      <td>22</td>\n",
       "    </tr>\n",
       "    <tr>\n",
       "      <th>3</th>\n",
       "      <td>Mishti</td>\n",
       "      <td>1</td>\n",
       "      <td>15</td>\n",
       "      <td>22</td>\n",
       "      <td>25</td>\n",
       "      <td>22</td>\n",
       "      <td>22</td>\n",
       "    </tr>\n",
       "  </tbody>\n",
       "</table>\n",
       "</div>"
      ],
      "text/plain": [
       "      Name  UT  Maths  Science  S.St  Hindi  Eng\n",
       "0    Raman   1     22       21    18     20   21\n",
       "1  Zuhaire   1     20       17    22     24   19\n",
       "2  Ashravy   1     23       19    20     15   22\n",
       "3   Mishti   1     15       22    25     22   22"
      ]
     },
     "execution_count": 173,
     "metadata": {},
     "output_type": "execute_result"
    }
   ],
   "source": [
    "dfUT1"
   ]
  },
  {
   "cell_type": "code",
   "execution_count": 174,
   "id": "400f2222",
   "metadata": {},
   "outputs": [],
   "source": [
    "dfUT1.set_index(\"Name\",inplace=True)"
   ]
  },
  {
   "cell_type": "code",
   "execution_count": 175,
   "id": "f669be80",
   "metadata": {},
   "outputs": [
    {
     "data": {
      "text/html": [
       "<div>\n",
       "<style scoped>\n",
       "    .dataframe tbody tr th:only-of-type {\n",
       "        vertical-align: middle;\n",
       "    }\n",
       "\n",
       "    .dataframe tbody tr th {\n",
       "        vertical-align: top;\n",
       "    }\n",
       "\n",
       "    .dataframe thead th {\n",
       "        text-align: right;\n",
       "    }\n",
       "</style>\n",
       "<table border=\"1\" class=\"dataframe\">\n",
       "  <thead>\n",
       "    <tr style=\"text-align: right;\">\n",
       "      <th></th>\n",
       "      <th>UT</th>\n",
       "      <th>Maths</th>\n",
       "      <th>Science</th>\n",
       "      <th>S.St</th>\n",
       "      <th>Hindi</th>\n",
       "      <th>Eng</th>\n",
       "    </tr>\n",
       "    <tr>\n",
       "      <th>Name</th>\n",
       "      <th></th>\n",
       "      <th></th>\n",
       "      <th></th>\n",
       "      <th></th>\n",
       "      <th></th>\n",
       "      <th></th>\n",
       "    </tr>\n",
       "  </thead>\n",
       "  <tbody>\n",
       "    <tr>\n",
       "      <th>Raman</th>\n",
       "      <td>1</td>\n",
       "      <td>22</td>\n",
       "      <td>21</td>\n",
       "      <td>18</td>\n",
       "      <td>20</td>\n",
       "      <td>21</td>\n",
       "    </tr>\n",
       "    <tr>\n",
       "      <th>Zuhaire</th>\n",
       "      <td>1</td>\n",
       "      <td>20</td>\n",
       "      <td>17</td>\n",
       "      <td>22</td>\n",
       "      <td>24</td>\n",
       "      <td>19</td>\n",
       "    </tr>\n",
       "    <tr>\n",
       "      <th>Ashravy</th>\n",
       "      <td>1</td>\n",
       "      <td>23</td>\n",
       "      <td>19</td>\n",
       "      <td>20</td>\n",
       "      <td>15</td>\n",
       "      <td>22</td>\n",
       "    </tr>\n",
       "    <tr>\n",
       "      <th>Mishti</th>\n",
       "      <td>1</td>\n",
       "      <td>15</td>\n",
       "      <td>22</td>\n",
       "      <td>25</td>\n",
       "      <td>22</td>\n",
       "      <td>22</td>\n",
       "    </tr>\n",
       "  </tbody>\n",
       "</table>\n",
       "</div>"
      ],
      "text/plain": [
       "         UT  Maths  Science  S.St  Hindi  Eng\n",
       "Name                                         \n",
       "Raman     1     22       21    18     20   21\n",
       "Zuhaire   1     20       17    22     24   19\n",
       "Ashravy   1     23       19    20     15   22\n",
       "Mishti    1     15       22    25     22   22"
      ]
     },
     "execution_count": 175,
     "metadata": {},
     "output_type": "execute_result"
    }
   ],
   "source": [
    "dfUT1"
   ]
  },
  {
   "cell_type": "code",
   "execution_count": 176,
   "id": "1598fa6f",
   "metadata": {},
   "outputs": [],
   "source": [
    "dfUT1.reset_index(\"Name\", inplace=True)"
   ]
  },
  {
   "cell_type": "code",
   "execution_count": 179,
   "id": "9c86a394",
   "metadata": {},
   "outputs": [
    {
     "data": {
      "text/html": [
       "<div>\n",
       "<style scoped>\n",
       "    .dataframe tbody tr th:only-of-type {\n",
       "        vertical-align: middle;\n",
       "    }\n",
       "\n",
       "    .dataframe tbody tr th {\n",
       "        vertical-align: top;\n",
       "    }\n",
       "\n",
       "    .dataframe thead th {\n",
       "        text-align: right;\n",
       "    }\n",
       "</style>\n",
       "<table border=\"1\" class=\"dataframe\">\n",
       "  <thead>\n",
       "    <tr style=\"text-align: right;\">\n",
       "      <th></th>\n",
       "      <th>Name</th>\n",
       "      <th>UT</th>\n",
       "      <th>Maths</th>\n",
       "      <th>Science</th>\n",
       "      <th>S.St</th>\n",
       "      <th>Hindi</th>\n",
       "      <th>Eng</th>\n",
       "    </tr>\n",
       "  </thead>\n",
       "  <tbody>\n",
       "    <tr>\n",
       "      <th>0</th>\n",
       "      <td>Raman</td>\n",
       "      <td>1</td>\n",
       "      <td>22</td>\n",
       "      <td>21</td>\n",
       "      <td>18</td>\n",
       "      <td>20</td>\n",
       "      <td>21</td>\n",
       "    </tr>\n",
       "    <tr>\n",
       "      <th>1</th>\n",
       "      <td>Zuhaire</td>\n",
       "      <td>1</td>\n",
       "      <td>20</td>\n",
       "      <td>17</td>\n",
       "      <td>22</td>\n",
       "      <td>24</td>\n",
       "      <td>19</td>\n",
       "    </tr>\n",
       "    <tr>\n",
       "      <th>2</th>\n",
       "      <td>Ashravy</td>\n",
       "      <td>1</td>\n",
       "      <td>23</td>\n",
       "      <td>19</td>\n",
       "      <td>20</td>\n",
       "      <td>15</td>\n",
       "      <td>22</td>\n",
       "    </tr>\n",
       "    <tr>\n",
       "      <th>3</th>\n",
       "      <td>Mishti</td>\n",
       "      <td>1</td>\n",
       "      <td>15</td>\n",
       "      <td>22</td>\n",
       "      <td>25</td>\n",
       "      <td>22</td>\n",
       "      <td>22</td>\n",
       "    </tr>\n",
       "  </tbody>\n",
       "</table>\n",
       "</div>"
      ],
      "text/plain": [
       "      Name  UT  Maths  Science  S.St  Hindi  Eng\n",
       "0    Raman   1     22       21    18     20   21\n",
       "1  Zuhaire   1     20       17    22     24   19\n",
       "2  Ashravy   1     23       19    20     15   22\n",
       "3   Mishti   1     15       22    25     22   22"
      ]
     },
     "execution_count": 179,
     "metadata": {},
     "output_type": "execute_result"
    }
   ],
   "source": [
    "dfUT1"
   ]
  },
  {
   "cell_type": "code",
   "execution_count": null,
   "id": "669e8dfc",
   "metadata": {},
   "outputs": [],
   "source": []
  }
 ],
 "metadata": {
  "kernelspec": {
   "display_name": "Python 3 (ipykernel)",
   "language": "python",
   "name": "python3"
  },
  "language_info": {
   "codemirror_mode": {
    "name": "ipython",
    "version": 3
   },
   "file_extension": ".py",
   "mimetype": "text/x-python",
   "name": "python",
   "nbconvert_exporter": "python",
   "pygments_lexer": "ipython3",
   "version": "3.9.13"
  }
 },
 "nbformat": 4,
 "nbformat_minor": 5
}
